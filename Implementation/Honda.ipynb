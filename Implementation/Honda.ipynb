{
 "cells": [
  {
   "cell_type": "markdown",
   "metadata": {},
   "source": [
    "# Predicting the Price of Used Honda Dio Motor Bike in Sri Lanka"
   ]
  },
  {
   "cell_type": "markdown",
   "metadata": {},
   "source": [
    "In this Project, we are going to predict the Price of Sri Lankan Used Honda Dio Bike using various features like Brand, Price, Mileage, Year etc. The data is obtained using web scraping reputed vehecle reselling site called Riyasewana.\n",
    "\n",
    "**To be able to predict used Honda Dio Bike market value can help both buyers and sellers.**\n",
    "\n",
    "There are lots of individuals who are interested in Used Honda Dio used Motor Bike market at some points in their life because they wanted to sell their motor bike or buy a used motor bike. In this process, it’s a big corner to pay too much or sell less then it’s market value."
   ]
  },
  {
   "cell_type": "markdown",
   "metadata": {},
   "source": [
    "# Importing Libraries"
   ]
  },
  {
   "cell_type": "code",
   "execution_count": 447,
   "metadata": {},
   "outputs": [],
   "source": [
    "import numpy as np\n",
    "import pandas as pd\n",
    "import matplotlib.pyplot as plt\n",
    "import seaborn as sns\n",
    "from sklearn.metrics import mean_squared_error\n",
    "from sklearn.metrics import r2_score\n",
    "\n",
    "import warnings\n",
    "warnings.simplefilter(action='ignore', category=FutureWarning)\n"
   ]
  },
  {
   "cell_type": "markdown",
   "metadata": {},
   "source": [
    "# Loading the raw data"
   ]
  },
  {
   "cell_type": "code",
   "execution_count": 448,
   "metadata": {},
   "outputs": [
    {
     "data": {
      "text/html": [
       "<div>\n",
       "<style scoped>\n",
       "    .dataframe tbody tr th:only-of-type {\n",
       "        vertical-align: middle;\n",
       "    }\n",
       "\n",
       "    .dataframe tbody tr th {\n",
       "        vertical-align: top;\n",
       "    }\n",
       "\n",
       "    .dataframe thead th {\n",
       "        text-align: right;\n",
       "    }\n",
       "</style>\n",
       "<table border=\"1\" class=\"dataframe\">\n",
       "  <thead>\n",
       "    <tr style=\"text-align: right;\">\n",
       "      <th></th>\n",
       "      <th>Title</th>\n",
       "      <th>Link</th>\n",
       "      <th>Location</th>\n",
       "      <th>Price</th>\n",
       "      <th>Mileage</th>\n",
       "      <th>Date</th>\n",
       "    </tr>\n",
       "  </thead>\n",
       "  <tbody>\n",
       "    <tr>\n",
       "      <th>0</th>\n",
       "      <td>Honda Dio 2017 Motorbike</td>\n",
       "      <td>https://riyasewana.com/buy/honda-dio-sale-band...</td>\n",
       "      <td>Bandaragama</td>\n",
       "      <td>Rs. 500,000</td>\n",
       "      <td>39000</td>\n",
       "      <td>2024-01-26</td>\n",
       "    </tr>\n",
       "    <tr>\n",
       "      <th>1</th>\n",
       "      <td>Honda Dio 2018 Motorbike</td>\n",
       "      <td>https://riyasewana.com/buy/honda-dio-sale-gamp...</td>\n",
       "      <td>Gampaha</td>\n",
       "      <td>Rs. 578,000</td>\n",
       "      <td>30000</td>\n",
       "      <td>2024-01-26</td>\n",
       "    </tr>\n",
       "    <tr>\n",
       "      <th>2</th>\n",
       "      <td>Honda DIO 2017 Motorbike</td>\n",
       "      <td>https://riyasewana.com/buy/honda-dio-sale-mata...</td>\n",
       "      <td>Matara</td>\n",
       "      <td>Rs. 565,000</td>\n",
       "      <td>15250</td>\n",
       "      <td>2024-01-26</td>\n",
       "    </tr>\n",
       "    <tr>\n",
       "      <th>3</th>\n",
       "      <td>Honda Dio 2018 Motorbike</td>\n",
       "      <td>https://riyasewana.com/buy/honda-dio-sale-anur...</td>\n",
       "      <td>Anuradapura</td>\n",
       "      <td>Rs. 535,000</td>\n",
       "      <td>44444</td>\n",
       "      <td>2024-01-26</td>\n",
       "    </tr>\n",
       "    <tr>\n",
       "      <th>4</th>\n",
       "      <td>Honda DIO 2017 Motorbike</td>\n",
       "      <td>https://riyasewana.com/buy/honda-dio-sale-kalu...</td>\n",
       "      <td>Kalutara</td>\n",
       "      <td>Rs. 12,865,588</td>\n",
       "      <td>4628</td>\n",
       "      <td>2024-01-26</td>\n",
       "    </tr>\n",
       "  </tbody>\n",
       "</table>\n",
       "</div>"
      ],
      "text/plain": [
       "                      Title  \\\n",
       "0  Honda Dio 2017 Motorbike   \n",
       "1  Honda Dio 2018 Motorbike   \n",
       "2  Honda DIO 2017 Motorbike   \n",
       "3  Honda Dio 2018 Motorbike   \n",
       "4  Honda DIO 2017 Motorbike   \n",
       "\n",
       "                                                Link     Location  \\\n",
       "0  https://riyasewana.com/buy/honda-dio-sale-band...  Bandaragama   \n",
       "1  https://riyasewana.com/buy/honda-dio-sale-gamp...      Gampaha   \n",
       "2  https://riyasewana.com/buy/honda-dio-sale-mata...       Matara   \n",
       "3  https://riyasewana.com/buy/honda-dio-sale-anur...  Anuradapura   \n",
       "4  https://riyasewana.com/buy/honda-dio-sale-kalu...     Kalutara   \n",
       "\n",
       "            Price  Mileage        Date  \n",
       "0     Rs. 500,000    39000  2024-01-26  \n",
       "1     Rs. 578,000    30000  2024-01-26  \n",
       "2     Rs. 565,000    15250  2024-01-26  \n",
       "3     Rs. 535,000    44444  2024-01-26  \n",
       "4  Rs. 12,865,588     4628  2024-01-26  "
      ]
     },
     "execution_count": 448,
     "metadata": {},
     "output_type": "execute_result"
    }
   ],
   "source": [
    "dio=pd.read_excel(\"Dio.xlsx\")\n",
    "dio.head()"
   ]
  },
  {
   "cell_type": "markdown",
   "metadata": {},
   "source": [
    "### Drop unwanted column"
   ]
  },
  {
   "cell_type": "code",
   "execution_count": 449,
   "metadata": {},
   "outputs": [],
   "source": [
    "dio.drop(\"Link\",axis=1,inplace=True)"
   ]
  },
  {
   "cell_type": "markdown",
   "metadata": {},
   "source": [
    "### Number of rows and columns in data frame"
   ]
  },
  {
   "cell_type": "code",
   "execution_count": 450,
   "metadata": {},
   "outputs": [
    {
     "data": {
      "text/plain": [
       "(1907, 5)"
      ]
     },
     "execution_count": 450,
     "metadata": {},
     "output_type": "execute_result"
    }
   ],
   "source": [
    "dio.shape"
   ]
  },
  {
   "cell_type": "markdown",
   "metadata": {},
   "source": [
    "### Check the count of duplicated rows"
   ]
  },
  {
   "cell_type": "code",
   "execution_count": 451,
   "metadata": {},
   "outputs": [
    {
     "data": {
      "text/plain": [
       "25"
      ]
     },
     "execution_count": 451,
     "metadata": {},
     "output_type": "execute_result"
    }
   ],
   "source": [
    "dio.duplicated().sum()"
   ]
  },
  {
   "cell_type": "markdown",
   "metadata": {},
   "source": [
    "### Deleting duplicated rows and check the task completed successfully"
   ]
  },
  {
   "cell_type": "code",
   "execution_count": 452,
   "metadata": {},
   "outputs": [
    {
     "data": {
      "text/plain": [
       "0"
      ]
     },
     "execution_count": 452,
     "metadata": {},
     "output_type": "execute_result"
    }
   ],
   "source": [
    "dio.drop_duplicates(inplace=True)\n",
    "dio.duplicated().sum()"
   ]
  },
  {
   "cell_type": "markdown",
   "metadata": {},
   "source": [
    "### Check missing values included rows in data frame"
   ]
  },
  {
   "cell_type": "code",
   "execution_count": 453,
   "metadata": {},
   "outputs": [
    {
     "data": {
      "text/plain": [
       "Title       0\n",
       "Location    0\n",
       "Price       0\n",
       "Mileage     0\n",
       "Date        0\n",
       "dtype: int64"
      ]
     },
     "execution_count": 453,
     "metadata": {},
     "output_type": "execute_result"
    }
   ],
   "source": [
    "dio.isnull().sum()"
   ]
  },
  {
   "cell_type": "markdown",
   "metadata": {},
   "source": [
    "### Get Summarized Information of the data frame"
   ]
  },
  {
   "cell_type": "code",
   "execution_count": 454,
   "metadata": {},
   "outputs": [
    {
     "name": "stdout",
     "output_type": "stream",
     "text": [
      "<class 'pandas.core.frame.DataFrame'>\n",
      "Int64Index: 1882 entries, 0 to 1906\n",
      "Data columns (total 5 columns):\n",
      " #   Column    Non-Null Count  Dtype \n",
      "---  ------    --------------  ----- \n",
      " 0   Title     1882 non-null   object\n",
      " 1   Location  1882 non-null   object\n",
      " 2   Price     1882 non-null   object\n",
      " 3   Mileage   1882 non-null   int64 \n",
      " 4   Date      1882 non-null   object\n",
      "dtypes: int64(1), object(4)\n",
      "memory usage: 88.2+ KB\n"
     ]
    }
   ],
   "source": [
    "dio.info()"
   ]
  },
  {
   "cell_type": "markdown",
   "metadata": {},
   "source": [
    "### Get Only Published Year from Date and store it as Published_Year"
   ]
  },
  {
   "cell_type": "code",
   "execution_count": 455,
   "metadata": {},
   "outputs": [],
   "source": [
    "dio[\"Published_Year\"]=pd.to_datetime(dio[\"Date\"]).dt.year"
   ]
  },
  {
   "cell_type": "markdown",
   "metadata": {},
   "source": [
    "### Get Model, Brand and Year of manufatured from Title"
   ]
  },
  {
   "cell_type": "code",
   "execution_count": 456,
   "metadata": {},
   "outputs": [],
   "source": [
    "dio[\"Model\"]=dio[\"Title\"].str.split().str[0]\n",
    "dio[\"Brand\"]=dio[\"Title\"].str.split().str[1]\n",
    "dio[\"Year\"]=dio[\"Title\"].str.split().str[2]\n",
    "\n",
    "dio.drop([\"Title\",\"Date\"],axis=1,inplace=True)  # drop Title and Date column permanatly"
   ]
  },
  {
   "cell_type": "markdown",
   "metadata": {},
   "source": [
    "### Get Number of unique value of every variables"
   ]
  },
  {
   "cell_type": "code",
   "execution_count": 457,
   "metadata": {},
   "outputs": [
    {
     "data": {
      "text/plain": [
       "Location           86\n",
       "Price             197\n",
       "Mileage           727\n",
       "Published_Year      2\n",
       "Model               1\n",
       "Brand               6\n",
       "Year               35\n",
       "dtype: int64"
      ]
     },
     "execution_count": 457,
     "metadata": {},
     "output_type": "execute_result"
    }
   ],
   "source": [
    "dio.nunique()"
   ]
  },
  {
   "cell_type": "markdown",
   "metadata": {},
   "source": [
    "### Get the data types of every varible"
   ]
  },
  {
   "cell_type": "code",
   "execution_count": 458,
   "metadata": {},
   "outputs": [
    {
     "data": {
      "text/plain": [
       "Location          object\n",
       "Price             object\n",
       "Mileage            int64\n",
       "Published_Year     int64\n",
       "Model             object\n",
       "Brand             object\n",
       "Year              object\n",
       "dtype: object"
      ]
     },
     "execution_count": 458,
     "metadata": {},
     "output_type": "execute_result"
    }
   ],
   "source": [
    "dio.dtypes"
   ]
  },
  {
   "cell_type": "markdown",
   "metadata": {},
   "source": [
    "### Get First 5 rows of  the data frame"
   ]
  },
  {
   "cell_type": "code",
   "execution_count": 459,
   "metadata": {},
   "outputs": [
    {
     "data": {
      "text/html": [
       "<div>\n",
       "<style scoped>\n",
       "    .dataframe tbody tr th:only-of-type {\n",
       "        vertical-align: middle;\n",
       "    }\n",
       "\n",
       "    .dataframe tbody tr th {\n",
       "        vertical-align: top;\n",
       "    }\n",
       "\n",
       "    .dataframe thead th {\n",
       "        text-align: right;\n",
       "    }\n",
       "</style>\n",
       "<table border=\"1\" class=\"dataframe\">\n",
       "  <thead>\n",
       "    <tr style=\"text-align: right;\">\n",
       "      <th></th>\n",
       "      <th>Location</th>\n",
       "      <th>Price</th>\n",
       "      <th>Mileage</th>\n",
       "      <th>Published_Year</th>\n",
       "      <th>Model</th>\n",
       "      <th>Brand</th>\n",
       "      <th>Year</th>\n",
       "    </tr>\n",
       "  </thead>\n",
       "  <tbody>\n",
       "    <tr>\n",
       "      <th>0</th>\n",
       "      <td>Bandaragama</td>\n",
       "      <td>Rs. 500,000</td>\n",
       "      <td>39000</td>\n",
       "      <td>2024</td>\n",
       "      <td>Honda</td>\n",
       "      <td>Dio</td>\n",
       "      <td>2017</td>\n",
       "    </tr>\n",
       "    <tr>\n",
       "      <th>1</th>\n",
       "      <td>Gampaha</td>\n",
       "      <td>Rs. 578,000</td>\n",
       "      <td>30000</td>\n",
       "      <td>2024</td>\n",
       "      <td>Honda</td>\n",
       "      <td>Dio</td>\n",
       "      <td>2018</td>\n",
       "    </tr>\n",
       "    <tr>\n",
       "      <th>2</th>\n",
       "      <td>Matara</td>\n",
       "      <td>Rs. 565,000</td>\n",
       "      <td>15250</td>\n",
       "      <td>2024</td>\n",
       "      <td>Honda</td>\n",
       "      <td>DIO</td>\n",
       "      <td>2017</td>\n",
       "    </tr>\n",
       "    <tr>\n",
       "      <th>3</th>\n",
       "      <td>Anuradapura</td>\n",
       "      <td>Rs. 535,000</td>\n",
       "      <td>44444</td>\n",
       "      <td>2024</td>\n",
       "      <td>Honda</td>\n",
       "      <td>Dio</td>\n",
       "      <td>2018</td>\n",
       "    </tr>\n",
       "    <tr>\n",
       "      <th>4</th>\n",
       "      <td>Kalutara</td>\n",
       "      <td>Rs. 12,865,588</td>\n",
       "      <td>4628</td>\n",
       "      <td>2024</td>\n",
       "      <td>Honda</td>\n",
       "      <td>DIO</td>\n",
       "      <td>2017</td>\n",
       "    </tr>\n",
       "  </tbody>\n",
       "</table>\n",
       "</div>"
      ],
      "text/plain": [
       "      Location           Price  Mileage  Published_Year  Model Brand  Year\n",
       "0  Bandaragama     Rs. 500,000    39000            2024  Honda   Dio  2017\n",
       "1      Gampaha     Rs. 578,000    30000            2024  Honda   Dio  2018\n",
       "2       Matara     Rs. 565,000    15250            2024  Honda   DIO  2017\n",
       "3  Anuradapura     Rs. 535,000    44444            2024  Honda   Dio  2018\n",
       "4     Kalutara  Rs. 12,865,588     4628            2024  Honda   DIO  2017"
      ]
     },
     "execution_count": 459,
     "metadata": {},
     "output_type": "execute_result"
    }
   ],
   "source": [
    "dio.head()"
   ]
  },
  {
   "cell_type": "markdown",
   "metadata": {},
   "source": [
    "### Get Unique values of Year variable"
   ]
  },
  {
   "cell_type": "code",
   "execution_count": 460,
   "metadata": {},
   "outputs": [
    {
     "data": {
      "text/plain": [
       "array(['2017', '2018', '2019', '2015', '2022', '2016', 'DX', '2014',\n",
       "       '2012', '2020', 'Dx', '4', '2013', '2011', '48cc', 'SCV', '2023',\n",
       "       'BS', 'Japan', '48', 'Scv', '2010', '110', 'Scooter', '2021',\n",
       "       '2005', '2009', 'Today', '2008', 'ZX', '48cv', 'Zx', 'DIO',\n",
       "       'SCV110', '8CV110'], dtype=object)"
      ]
     },
     "execution_count": 460,
     "metadata": {},
     "output_type": "execute_result"
    }
   ],
   "source": [
    "dio[\"Year\"].unique()"
   ]
  },
  {
   "cell_type": "markdown",
   "metadata": {},
   "source": [
    "### Remove unnessasary value of Year variable"
   ]
  },
  {
   "cell_type": "code",
   "execution_count": 461,
   "metadata": {},
   "outputs": [],
   "source": [
    "dio1=dio[~dio[\"Year\"].isin([\"DX\",'Dx','4','48cc', 'SCV','BS', 'Japan', '48', 'Scv','Scooter','Today','ZX', '48cv', 'Zx', 'DIO',\n",
    "       'SCV110', '8CV110'])]"
   ]
  },
  {
   "cell_type": "markdown",
   "metadata": {},
   "source": [
    "### Convert Price into intiger format and convert it as Lacs"
   ]
  },
  {
   "cell_type": "code",
   "execution_count": 462,
   "metadata": {},
   "outputs": [
    {
     "name": "stderr",
     "output_type": "stream",
     "text": [
      "C:\\Users\\Admin\\AppData\\Local\\Temp\\ipykernel_1428\\2656067486.py:1: SettingWithCopyWarning: \n",
      "A value is trying to be set on a copy of a slice from a DataFrame.\n",
      "Try using .loc[row_indexer,col_indexer] = value instead\n",
      "\n",
      "See the caveats in the documentation: https://pandas.pydata.org/pandas-docs/stable/user_guide/indexing.html#returning-a-view-versus-a-copy\n",
      "  dio1['Price'] = dio1['Price'].str.replace('[^\\d]', '', regex=True)\n",
      "C:\\Users\\Admin\\AppData\\Local\\Temp\\ipykernel_1428\\2656067486.py:3: SettingWithCopyWarning: \n",
      "A value is trying to be set on a copy of a slice from a DataFrame.\n",
      "Try using .loc[row_indexer,col_indexer] = value instead\n",
      "\n",
      "See the caveats in the documentation: https://pandas.pydata.org/pandas-docs/stable/user_guide/indexing.html#returning-a-view-versus-a-copy\n",
      "  dio1['Price'] = pd.to_numeric(dio1['Price'])\n",
      "C:\\Users\\Admin\\AppData\\Local\\Temp\\ipykernel_1428\\2656067486.py:4: SettingWithCopyWarning: \n",
      "A value is trying to be set on a copy of a slice from a DataFrame.\n",
      "Try using .loc[row_indexer,col_indexer] = value instead\n",
      "\n",
      "See the caveats in the documentation: https://pandas.pydata.org/pandas-docs/stable/user_guide/indexing.html#returning-a-view-versus-a-copy\n",
      "  dio1['Price'] = dio1['Price']/1e5\n"
     ]
    },
    {
     "data": {
      "text/html": [
       "<div>\n",
       "<style scoped>\n",
       "    .dataframe tbody tr th:only-of-type {\n",
       "        vertical-align: middle;\n",
       "    }\n",
       "\n",
       "    .dataframe tbody tr th {\n",
       "        vertical-align: top;\n",
       "    }\n",
       "\n",
       "    .dataframe thead th {\n",
       "        text-align: right;\n",
       "    }\n",
       "</style>\n",
       "<table border=\"1\" class=\"dataframe\">\n",
       "  <thead>\n",
       "    <tr style=\"text-align: right;\">\n",
       "      <th></th>\n",
       "      <th>Location</th>\n",
       "      <th>Price</th>\n",
       "      <th>Mileage</th>\n",
       "      <th>Published_Year</th>\n",
       "      <th>Model</th>\n",
       "      <th>Brand</th>\n",
       "      <th>Year</th>\n",
       "    </tr>\n",
       "  </thead>\n",
       "  <tbody>\n",
       "    <tr>\n",
       "      <th>0</th>\n",
       "      <td>Bandaragama</td>\n",
       "      <td>5.00000</td>\n",
       "      <td>39000</td>\n",
       "      <td>2024</td>\n",
       "      <td>Honda</td>\n",
       "      <td>Dio</td>\n",
       "      <td>2017</td>\n",
       "    </tr>\n",
       "    <tr>\n",
       "      <th>1</th>\n",
       "      <td>Gampaha</td>\n",
       "      <td>5.78000</td>\n",
       "      <td>30000</td>\n",
       "      <td>2024</td>\n",
       "      <td>Honda</td>\n",
       "      <td>Dio</td>\n",
       "      <td>2018</td>\n",
       "    </tr>\n",
       "    <tr>\n",
       "      <th>2</th>\n",
       "      <td>Matara</td>\n",
       "      <td>5.65000</td>\n",
       "      <td>15250</td>\n",
       "      <td>2024</td>\n",
       "      <td>Honda</td>\n",
       "      <td>DIO</td>\n",
       "      <td>2017</td>\n",
       "    </tr>\n",
       "    <tr>\n",
       "      <th>3</th>\n",
       "      <td>Anuradapura</td>\n",
       "      <td>5.35000</td>\n",
       "      <td>44444</td>\n",
       "      <td>2024</td>\n",
       "      <td>Honda</td>\n",
       "      <td>Dio</td>\n",
       "      <td>2018</td>\n",
       "    </tr>\n",
       "    <tr>\n",
       "      <th>4</th>\n",
       "      <td>Kalutara</td>\n",
       "      <td>128.65588</td>\n",
       "      <td>4628</td>\n",
       "      <td>2024</td>\n",
       "      <td>Honda</td>\n",
       "      <td>DIO</td>\n",
       "      <td>2017</td>\n",
       "    </tr>\n",
       "  </tbody>\n",
       "</table>\n",
       "</div>"
      ],
      "text/plain": [
       "      Location      Price  Mileage  Published_Year  Model Brand  Year\n",
       "0  Bandaragama    5.00000    39000            2024  Honda   Dio  2017\n",
       "1      Gampaha    5.78000    30000            2024  Honda   Dio  2018\n",
       "2       Matara    5.65000    15250            2024  Honda   DIO  2017\n",
       "3  Anuradapura    5.35000    44444            2024  Honda   Dio  2018\n",
       "4     Kalutara  128.65588     4628            2024  Honda   DIO  2017"
      ]
     },
     "execution_count": 462,
     "metadata": {},
     "output_type": "execute_result"
    }
   ],
   "source": [
    "dio1['Price'] = dio1['Price'].str.replace('[^\\d]', '', regex=True)\n",
    "# Convert the column to numeric type\n",
    "dio1['Price'] = pd.to_numeric(dio1['Price'])\n",
    "dio1['Price'] = dio1['Price']/1e5\n",
    "dio1.head()"
   ]
  },
  {
   "cell_type": "markdown",
   "metadata": {},
   "source": [
    "### Checking Price data type converted was successfully"
   ]
  },
  {
   "cell_type": "code",
   "execution_count": 466,
   "metadata": {},
   "outputs": [
    {
     "data": {
      "text/plain": [
       "dtype('float64')"
      ]
     },
     "execution_count": 466,
     "metadata": {},
     "output_type": "execute_result"
    }
   ],
   "source": [
    "dio1[\"Price\"].dtype"
   ]
  },
  {
   "cell_type": "code",
   "execution_count": 392,
   "metadata": {},
   "outputs": [
    {
     "data": {
      "text/plain": [
       "Location           85\n",
       "Price             194\n",
       "Mileage           691\n",
       "Published_Year      2\n",
       "Model               1\n",
       "Brand               5\n",
       "Year               18\n",
       "dtype: int64"
      ]
     },
     "execution_count": 392,
     "metadata": {},
     "output_type": "execute_result"
    }
   ],
   "source": [
    "dio1.nunique()"
   ]
  },
  {
   "cell_type": "markdown",
   "metadata": {},
   "source": [
    "### Converting Year data types as Integer"
   ]
  },
  {
   "cell_type": "code",
   "execution_count": 467,
   "metadata": {},
   "outputs": [
    {
     "name": "stderr",
     "output_type": "stream",
     "text": [
      "C:\\Users\\Admin\\AppData\\Local\\Temp\\ipykernel_1428\\1263034289.py:2: SettingWithCopyWarning: \n",
      "A value is trying to be set on a copy of a slice from a DataFrame.\n",
      "Try using .loc[row_indexer,col_indexer] = value instead\n",
      "\n",
      "See the caveats in the documentation: https://pandas.pydata.org/pandas-docs/stable/user_guide/indexing.html#returning-a-view-versus-a-copy\n",
      "  dio1[\"Year\"]=dio1[\"Year\"].astype(int)\n"
     ]
    }
   ],
   "source": [
    "dio1.shape\n",
    "dio1[\"Year\"]=dio1[\"Year\"].astype(int)"
   ]
  },
  {
   "cell_type": "markdown",
   "metadata": {},
   "source": [
    "### Checking Brand Unique values "
   ]
  },
  {
   "cell_type": "code",
   "execution_count": 468,
   "metadata": {},
   "outputs": [
    {
     "name": "stderr",
     "output_type": "stream",
     "text": [
      "C:\\Users\\Admin\\AppData\\Local\\Temp\\ipykernel_1428\\1500322292.py:2: SettingWithCopyWarning: \n",
      "A value is trying to be set on a copy of a slice from a DataFrame\n",
      "\n",
      "See the caveats in the documentation: https://pandas.pydata.org/pandas-docs/stable/user_guide/indexing.html#returning-a-view-versus-a-copy\n",
      "  dio1[\"Brand\"].replace({'DIO': 'Dio', 'DIo': 'Dio', 'Dio48cc': 'Dio', 'DiO': 'Dio'}, inplace=True)\n"
     ]
    },
    {
     "data": {
      "text/plain": [
       "1"
      ]
     },
     "execution_count": 468,
     "metadata": {},
     "output_type": "execute_result"
    }
   ],
   "source": [
    "dio1[\"Brand\"].unique()\n",
    "dio1[\"Brand\"].replace({'DIO': 'Dio', 'DIo': 'Dio', 'Dio48cc': 'Dio', 'DiO': 'Dio'}, inplace=True)\n",
    "dio1[\"Brand\"].nunique()"
   ]
  },
  {
   "cell_type": "markdown",
   "metadata": {},
   "source": [
    "### Checking Location Unique values "
   ]
  },
  {
   "cell_type": "code",
   "execution_count": 469,
   "metadata": {},
   "outputs": [
    {
     "data": {
      "text/plain": [
       "array(['Bandaragama', 'Gampaha', 'Matara', 'Anuradapura', 'Kalutara',\n",
       "       'Nawalapitiya', 'Kurunegala', 'Galle', 'Colombo', 'Kandy',\n",
       "       'Wennappuwa', 'Kadawatha', 'Negombo', 'Matale', 'Ratnapura',\n",
       "       'Kuliyapitiya', 'Mirigama', 'Polonnaruwa',\n",
       "       'Dehiwala-Mount-Lavinia', 'Panadura', 'Matugama', 'Katunayake',\n",
       "       'Chilaw', 'Embilipitiya', 'Mannar', 'Puttalam', 'Bandarawela',\n",
       "       'Polgahawela', 'Badulla', 'Dompe', 'Piliyandala', 'Malabe',\n",
       "       'Boralesgamuwa', 'Kegalle', 'Kaduwela', 'Kalawana', 'Mawanella',\n",
       "       'Minuwangoda', 'Nittambuwa', 'Hambantota', 'Weligama', 'Elpitiya',\n",
       "       'Ambalangoda', 'Tangalle', 'Divulapitiya', 'Gampola', 'Padukka',\n",
       "       'Kottawa', 'Battaramulla', 'Kelaniya', 'Moneragala', 'Horana',\n",
       "       'Ja-Ela', 'Wattala', 'Welimada', 'Mahiyanganaya', 'Moratuwa',\n",
       "       'Ragama', 'Marawila', 'Kandana', 'Maharagama', 'Kalmunai',\n",
       "       'Beruwala', 'Nugegoda', 'Homagama', 'Trincomalee', 'Balangoda',\n",
       "       'Kotte', 'Ampara', 'Dambulla', 'Avissawella', 'Kiribathgoda',\n",
       "       'Pannala', 'Mulleriyawa', 'Dankotuwa', 'Kilinochchi',\n",
       "       'Pannipitiya', 'Nawala', 'Hikkaduwa', 'Batticaloa', 'Eheliyagoda',\n",
       "       'Jaffna', 'Warakapola', 'Nuwara-Eliya', 'Welisara'], dtype=object)"
      ]
     },
     "execution_count": 469,
     "metadata": {},
     "output_type": "execute_result"
    }
   ],
   "source": [
    "dio1[\"Location\"].unique()"
   ]
  },
  {
   "cell_type": "code",
   "execution_count": 396,
   "metadata": {},
   "outputs": [
    {
     "data": {
      "text/html": [
       "<div>\n",
       "<style scoped>\n",
       "    .dataframe tbody tr th:only-of-type {\n",
       "        vertical-align: middle;\n",
       "    }\n",
       "\n",
       "    .dataframe tbody tr th {\n",
       "        vertical-align: top;\n",
       "    }\n",
       "\n",
       "    .dataframe thead th {\n",
       "        text-align: right;\n",
       "    }\n",
       "</style>\n",
       "<table border=\"1\" class=\"dataframe\">\n",
       "  <thead>\n",
       "    <tr style=\"text-align: right;\">\n",
       "      <th></th>\n",
       "      <th>Location</th>\n",
       "      <th>Price</th>\n",
       "      <th>Mileage</th>\n",
       "      <th>Published_Year</th>\n",
       "      <th>Model</th>\n",
       "      <th>Brand</th>\n",
       "      <th>Year</th>\n",
       "    </tr>\n",
       "  </thead>\n",
       "  <tbody>\n",
       "    <tr>\n",
       "      <th>0</th>\n",
       "      <td>Bandaragama</td>\n",
       "      <td>5.00000</td>\n",
       "      <td>39000</td>\n",
       "      <td>2024</td>\n",
       "      <td>Honda</td>\n",
       "      <td>Dio</td>\n",
       "      <td>2017</td>\n",
       "    </tr>\n",
       "    <tr>\n",
       "      <th>1</th>\n",
       "      <td>Gampaha</td>\n",
       "      <td>5.78000</td>\n",
       "      <td>30000</td>\n",
       "      <td>2024</td>\n",
       "      <td>Honda</td>\n",
       "      <td>Dio</td>\n",
       "      <td>2018</td>\n",
       "    </tr>\n",
       "    <tr>\n",
       "      <th>2</th>\n",
       "      <td>Matara</td>\n",
       "      <td>5.65000</td>\n",
       "      <td>15250</td>\n",
       "      <td>2024</td>\n",
       "      <td>Honda</td>\n",
       "      <td>Dio</td>\n",
       "      <td>2017</td>\n",
       "    </tr>\n",
       "    <tr>\n",
       "      <th>3</th>\n",
       "      <td>Anuradapura</td>\n",
       "      <td>5.35000</td>\n",
       "      <td>44444</td>\n",
       "      <td>2024</td>\n",
       "      <td>Honda</td>\n",
       "      <td>Dio</td>\n",
       "      <td>2018</td>\n",
       "    </tr>\n",
       "    <tr>\n",
       "      <th>4</th>\n",
       "      <td>Kalutara</td>\n",
       "      <td>128.65588</td>\n",
       "      <td>4628</td>\n",
       "      <td>2024</td>\n",
       "      <td>Honda</td>\n",
       "      <td>Dio</td>\n",
       "      <td>2017</td>\n",
       "    </tr>\n",
       "  </tbody>\n",
       "</table>\n",
       "</div>"
      ],
      "text/plain": [
       "      Location      Price  Mileage  Published_Year  Model Brand  Year\n",
       "0  Bandaragama    5.00000    39000            2024  Honda   Dio  2017\n",
       "1      Gampaha    5.78000    30000            2024  Honda   Dio  2018\n",
       "2       Matara    5.65000    15250            2024  Honda   Dio  2017\n",
       "3  Anuradapura    5.35000    44444            2024  Honda   Dio  2018\n",
       "4     Kalutara  128.65588     4628            2024  Honda   Dio  2017"
      ]
     },
     "execution_count": 396,
     "metadata": {},
     "output_type": "execute_result"
    }
   ],
   "source": [
    "dio1.head()"
   ]
  },
  {
   "cell_type": "code",
   "execution_count": 397,
   "metadata": {},
   "outputs": [
    {
     "data": {
      "text/plain": [
       "Location           85\n",
       "Price             194\n",
       "Mileage           691\n",
       "Published_Year      2\n",
       "Model               1\n",
       "Brand               1\n",
       "Year               18\n",
       "dtype: int64"
      ]
     },
     "execution_count": 397,
     "metadata": {},
     "output_type": "execute_result"
    }
   ],
   "source": [
    "dio1.nunique()"
   ]
  },
  {
   "cell_type": "markdown",
   "metadata": {},
   "source": [
    "### Get the Unique Values in Year"
   ]
  },
  {
   "cell_type": "code",
   "execution_count": 470,
   "metadata": {},
   "outputs": [
    {
     "data": {
      "text/plain": [
       "array([2017, 2018, 2019, 2015, 2022, 2016, 2014, 2012, 2020, 2013, 2011,\n",
       "       2023, 2010,  110, 2021, 2005, 2009, 2008])"
      ]
     },
     "execution_count": 470,
     "metadata": {},
     "output_type": "execute_result"
    }
   ],
   "source": [
    "dio1[\"Year\"].unique()"
   ]
  },
  {
   "cell_type": "markdown",
   "metadata": {},
   "source": [
    "### Remove 110 form Year Variable"
   ]
  },
  {
   "cell_type": "code",
   "execution_count": 471,
   "metadata": {},
   "outputs": [],
   "source": [
    "dio1 = dio1[~dio1[\"Year\"].isin([110])]"
   ]
  },
  {
   "cell_type": "markdown",
   "metadata": {},
   "source": [
    "### Get statistical summrized details of dataframe (dio1)"
   ]
  },
  {
   "cell_type": "code",
   "execution_count": 473,
   "metadata": {},
   "outputs": [
    {
     "data": {
      "text/html": [
       "<div>\n",
       "<style scoped>\n",
       "    .dataframe tbody tr th:only-of-type {\n",
       "        vertical-align: middle;\n",
       "    }\n",
       "\n",
       "    .dataframe tbody tr th {\n",
       "        vertical-align: top;\n",
       "    }\n",
       "\n",
       "    .dataframe thead th {\n",
       "        text-align: right;\n",
       "    }\n",
       "</style>\n",
       "<table border=\"1\" class=\"dataframe\">\n",
       "  <thead>\n",
       "    <tr style=\"text-align: right;\">\n",
       "      <th></th>\n",
       "      <th>Price</th>\n",
       "      <th>Mileage</th>\n",
       "      <th>Published_Year</th>\n",
       "      <th>Year</th>\n",
       "    </tr>\n",
       "  </thead>\n",
       "  <tbody>\n",
       "    <tr>\n",
       "      <th>count</th>\n",
       "      <td>1105.000000</td>\n",
       "      <td>1.775000e+03</td>\n",
       "      <td>1775.000000</td>\n",
       "      <td>1775.000000</td>\n",
       "    </tr>\n",
       "    <tr>\n",
       "      <th>mean</th>\n",
       "      <td>11.986620</td>\n",
       "      <td>1.856061e+06</td>\n",
       "      <td>2023.394930</td>\n",
       "      <td>2016.853521</td>\n",
       "    </tr>\n",
       "    <tr>\n",
       "      <th>std</th>\n",
       "      <td>236.048311</td>\n",
       "      <td>5.764267e+06</td>\n",
       "      <td>0.488973</td>\n",
       "      <td>2.160932</td>\n",
       "    </tr>\n",
       "    <tr>\n",
       "      <th>min</th>\n",
       "      <td>1.100000</td>\n",
       "      <td>1.000000e+00</td>\n",
       "      <td>2023.000000</td>\n",
       "      <td>2005.000000</td>\n",
       "    </tr>\n",
       "    <tr>\n",
       "      <th>25%</th>\n",
       "      <td>4.100000</td>\n",
       "      <td>2.500000e+04</td>\n",
       "      <td>2023.000000</td>\n",
       "      <td>2016.000000</td>\n",
       "    </tr>\n",
       "    <tr>\n",
       "      <th>50%</th>\n",
       "      <td>4.650000</td>\n",
       "      <td>3.300000e+04</td>\n",
       "      <td>2023.000000</td>\n",
       "      <td>2017.000000</td>\n",
       "    </tr>\n",
       "    <tr>\n",
       "      <th>75%</th>\n",
       "      <td>5.350000</td>\n",
       "      <td>4.600000e+04</td>\n",
       "      <td>2024.000000</td>\n",
       "      <td>2018.000000</td>\n",
       "    </tr>\n",
       "    <tr>\n",
       "      <th>max</th>\n",
       "      <td>7850.028690</td>\n",
       "      <td>2.024013e+07</td>\n",
       "      <td>2024.000000</td>\n",
       "      <td>2023.000000</td>\n",
       "    </tr>\n",
       "  </tbody>\n",
       "</table>\n",
       "</div>"
      ],
      "text/plain": [
       "             Price       Mileage  Published_Year         Year\n",
       "count  1105.000000  1.775000e+03     1775.000000  1775.000000\n",
       "mean     11.986620  1.856061e+06     2023.394930  2016.853521\n",
       "std     236.048311  5.764267e+06        0.488973     2.160932\n",
       "min       1.100000  1.000000e+00     2023.000000  2005.000000\n",
       "25%       4.100000  2.500000e+04     2023.000000  2016.000000\n",
       "50%       4.650000  3.300000e+04     2023.000000  2017.000000\n",
       "75%       5.350000  4.600000e+04     2024.000000  2018.000000\n",
       "max    7850.028690  2.024013e+07     2024.000000  2023.000000"
      ]
     },
     "execution_count": 473,
     "metadata": {},
     "output_type": "execute_result"
    }
   ],
   "source": [
    "dio1.describe()"
   ]
  },
  {
   "cell_type": "markdown",
   "metadata": {},
   "source": [
    "# Price"
   ]
  },
  {
   "cell_type": "markdown",
   "metadata": {},
   "source": [
    "### Remove more than 7 lacs data ; Bracuse in market it can't be happend"
   ]
  },
  {
   "cell_type": "code",
   "execution_count": 475,
   "metadata": {},
   "outputs": [],
   "source": [
    "dio2=dio1[dio1[\"Price\"]<7]"
   ]
  },
  {
   "cell_type": "markdown",
   "metadata": {},
   "source": [
    "### Get Distribution plot of Price "
   ]
  },
  {
   "cell_type": "code",
   "execution_count": 477,
   "metadata": {},
   "outputs": [
    {
     "data": {
      "image/png": "[encoded data removed]",
      "text/plain": [
       "<Figure size 640x480 with 1 Axes>"
      ]
     },
     "metadata": {},
     "output_type": "display_data"
    }
   ],
   "source": [
    "sns.distplot(dio2[\"Price\"])\n",
    "plt.show()"
   ]
  },
  {
   "cell_type": "markdown",
   "metadata": {},
   "source": [
    "### Get Barplot identify outliers of Price"
   ]
  },
  {
   "cell_type": "code",
   "execution_count": 478,
   "metadata": {},
   "outputs": [
    {
     "data": {
      "image/png": "[encoded data removed]",
      "text/plain": [
       "<Figure size 640x480 with 1 Axes>"
      ]
     },
     "metadata": {},
     "output_type": "display_data"
    }
   ],
   "source": [
    "sns.boxplot(dio2[\"Price\"])\n",
    "plt.show()"
   ]
  },
  {
   "cell_type": "code",
   "execution_count": 403,
   "metadata": {},
   "outputs": [
    {
     "name": "stdout",
     "output_type": "stream",
     "text": [
      "Q1 :- 4.1\n",
      "Q3 :- 5.3\n",
      "IQR :- 1.2000000000000002\n",
      "Lower Bound is:- 2.2999999999999994\n",
      "Upper Bound is:- 7.1\n"
     ]
    }
   ],
   "source": [
    "Q1 = dio2['Price'].quantile(0.25)\n",
    "Q3 = dio2['Price'].quantile(0.75)\n",
    "IQR = Q3 - Q1\n",
    "print(\"Q1 :-\",Q1)\n",
    "print(\"Q3 :-\",Q3)\n",
    "print(\"IQR :-\",IQR)\n",
    "\n",
    "# Define the upper and lower bounds to identify outliers\n",
    "lower_bound = Q1 - 1.5 * IQR\n",
    "upper_bound = Q3 + 1.5 * IQR\n",
    "print(\"Lower Bound is:-\",lower_bound)\n",
    "print(\"Upper Bound is:-\",upper_bound)"
   ]
  },
  {
   "cell_type": "markdown",
   "metadata": {},
   "source": [
    "### Getting Average price of every Year"
   ]
  },
  {
   "cell_type": "code",
   "execution_count": 479,
   "metadata": {},
   "outputs": [
    {
     "data": {
      "text/plain": [
       "Year\n",
       "2005    1.250000\n",
       "2008    1.625000\n",
       "2009    1.325000\n",
       "2010    1.793333\n",
       "2011    2.087227\n",
       "2012    2.822000\n",
       "2013    3.453611\n",
       "2014    3.809848\n",
       "2015    4.061423\n",
       "2016    4.249153\n",
       "2017    4.667817\n",
       "2018    5.255917\n",
       "2019    5.681293\n",
       "2020    5.970294\n",
       "2023    5.900000\n",
       "Name: Price, dtype: float64"
      ]
     },
     "execution_count": 479,
     "metadata": {},
     "output_type": "execute_result"
    }
   ],
   "source": [
    "price_year=dio2.groupby([\"Year\"])[\"Price\"].mean()\n",
    "price_year"
   ]
  },
  {
   "cell_type": "markdown",
   "metadata": {},
   "source": [
    "### Getting Boxplot Year vs Price :- To identify outliers"
   ]
  },
  {
   "cell_type": "code",
   "execution_count": 480,
   "metadata": {},
   "outputs": [
    {
     "data": {
      "image/png": "[encoded data removed]",
      "text/plain": [
       "<Figure size 2500x600 with 1 Axes>"
      ]
     },
     "metadata": {},
     "output_type": "display_data"
    }
   ],
   "source": [
    "plt.figure(figsize=(25,6))\n",
    "sns.boxplot(x=\"Year\",y=\"Price\",data=dio2)\n",
    "plt.show()"
   ]
  },
  {
   "cell_type": "markdown",
   "metadata": {},
   "source": [
    "### Here year 2005 and 2008 data has very low count rather than others"
   ]
  },
  {
   "cell_type": "code",
   "execution_count": 406,
   "metadata": {},
   "outputs": [],
   "source": [
    "dio2=dio2[~dio2[\"Year\"].isin([2005,2008])]"
   ]
  },
  {
   "cell_type": "markdown",
   "metadata": {},
   "source": [
    "### Removing outliers "
   ]
  },
  {
   "cell_type": "code",
   "execution_count": 483,
   "metadata": {},
   "outputs": [],
   "source": [
    "dio2 = dio2[\n",
    "    ~((dio2[\"Year\"] == 2013) & (dio2[\"Price\"] < 2.5)) &\n",
    "    ~((dio2[\"Year\"] == 2014) & (dio2[\"Price\"] > 5)) &\n",
    "    ~((dio2[\"Year\"] == 2016) & (dio2[\"Price\"] < 3)) &\n",
    "    ~((dio2[\"Year\"] == 2017) & (dio2[\"Price\"] < 3)) &\n",
    "    ~((dio2[\"Year\"] == 2012) & (dio2[\"Price\"] < 2)) &\n",
    "    ~((dio2[\"Year\"] == 2019) & (dio2[\"Price\"] < 3))\n",
    "]\n"
   ]
  },
  {
   "cell_type": "code",
   "execution_count": 484,
   "metadata": {},
   "outputs": [
    {
     "data": {
      "text/html": [
       "<div>\n",
       "<style scoped>\n",
       "    .dataframe tbody tr th:only-of-type {\n",
       "        vertical-align: middle;\n",
       "    }\n",
       "\n",
       "    .dataframe tbody tr th {\n",
       "        vertical-align: top;\n",
       "    }\n",
       "\n",
       "    .dataframe thead th {\n",
       "        text-align: right;\n",
       "    }\n",
       "</style>\n",
       "<table border=\"1\" class=\"dataframe\">\n",
       "  <thead>\n",
       "    <tr style=\"text-align: right;\">\n",
       "      <th></th>\n",
       "      <th>Location</th>\n",
       "      <th>Price</th>\n",
       "      <th>Mileage</th>\n",
       "      <th>Published_Year</th>\n",
       "      <th>Model</th>\n",
       "      <th>Brand</th>\n",
       "      <th>Year</th>\n",
       "    </tr>\n",
       "  </thead>\n",
       "  <tbody>\n",
       "    <tr>\n",
       "      <th>0</th>\n",
       "      <td>Bandaragama</td>\n",
       "      <td>5.00</td>\n",
       "      <td>39000</td>\n",
       "      <td>2024</td>\n",
       "      <td>Honda</td>\n",
       "      <td>Dio</td>\n",
       "      <td>2017</td>\n",
       "    </tr>\n",
       "    <tr>\n",
       "      <th>1</th>\n",
       "      <td>Gampaha</td>\n",
       "      <td>5.78</td>\n",
       "      <td>30000</td>\n",
       "      <td>2024</td>\n",
       "      <td>Honda</td>\n",
       "      <td>Dio</td>\n",
       "      <td>2018</td>\n",
       "    </tr>\n",
       "    <tr>\n",
       "      <th>2</th>\n",
       "      <td>Matara</td>\n",
       "      <td>5.65</td>\n",
       "      <td>15250</td>\n",
       "      <td>2024</td>\n",
       "      <td>Honda</td>\n",
       "      <td>Dio</td>\n",
       "      <td>2017</td>\n",
       "    </tr>\n",
       "    <tr>\n",
       "      <th>3</th>\n",
       "      <td>Anuradapura</td>\n",
       "      <td>5.35</td>\n",
       "      <td>44444</td>\n",
       "      <td>2024</td>\n",
       "      <td>Honda</td>\n",
       "      <td>Dio</td>\n",
       "      <td>2018</td>\n",
       "    </tr>\n",
       "    <tr>\n",
       "      <th>5</th>\n",
       "      <td>Matara</td>\n",
       "      <td>5.92</td>\n",
       "      <td>34000</td>\n",
       "      <td>2024</td>\n",
       "      <td>Honda</td>\n",
       "      <td>Dio</td>\n",
       "      <td>2019</td>\n",
       "    </tr>\n",
       "  </tbody>\n",
       "</table>\n",
       "</div>"
      ],
      "text/plain": [
       "      Location  Price  Mileage  Published_Year  Model Brand  Year\n",
       "0  Bandaragama   5.00    39000            2024  Honda   Dio  2017\n",
       "1      Gampaha   5.78    30000            2024  Honda   Dio  2018\n",
       "2       Matara   5.65    15250            2024  Honda   Dio  2017\n",
       "3  Anuradapura   5.35    44444            2024  Honda   Dio  2018\n",
       "5       Matara   5.92    34000            2024  Honda   Dio  2019"
      ]
     },
     "execution_count": 484,
     "metadata": {},
     "output_type": "execute_result"
    }
   ],
   "source": [
    "dio2.head()"
   ]
  },
  {
   "cell_type": "code",
   "execution_count": 485,
   "metadata": {},
   "outputs": [
    {
     "data": {
      "image/png": "[encoded data removed]",
      "text/plain": [
       "<Figure size 2500x600 with 1 Axes>"
      ]
     },
     "metadata": {},
     "output_type": "display_data"
    }
   ],
   "source": [
    "plt.figure(figsize=(25,6))\n",
    "sns.boxplot(x=\"Year\",y=\"Price\",data=dio2)\n",
    "plt.show()"
   ]
  },
  {
   "cell_type": "code",
   "execution_count": 410,
   "metadata": {},
   "outputs": [
    {
     "data": {
      "text/html": [
       "<div>\n",
       "<style scoped>\n",
       "    .dataframe tbody tr th:only-of-type {\n",
       "        vertical-align: middle;\n",
       "    }\n",
       "\n",
       "    .dataframe tbody tr th {\n",
       "        vertical-align: top;\n",
       "    }\n",
       "\n",
       "    .dataframe thead th {\n",
       "        text-align: right;\n",
       "    }\n",
       "</style>\n",
       "<table border=\"1\" class=\"dataframe\">\n",
       "  <thead>\n",
       "    <tr style=\"text-align: right;\">\n",
       "      <th></th>\n",
       "      <th>Location</th>\n",
       "      <th>Price</th>\n",
       "      <th>Mileage</th>\n",
       "      <th>Published_Year</th>\n",
       "      <th>Model</th>\n",
       "      <th>Brand</th>\n",
       "      <th>Year</th>\n",
       "    </tr>\n",
       "  </thead>\n",
       "  <tbody>\n",
       "    <tr>\n",
       "      <th>121</th>\n",
       "      <td>Kegalle</td>\n",
       "      <td>1.85</td>\n",
       "      <td>37000</td>\n",
       "      <td>2024</td>\n",
       "      <td>Honda</td>\n",
       "      <td>Dio</td>\n",
       "      <td>2011</td>\n",
       "    </tr>\n",
       "    <tr>\n",
       "      <th>319</th>\n",
       "      <td>Matara</td>\n",
       "      <td>1.85</td>\n",
       "      <td>85000</td>\n",
       "      <td>2024</td>\n",
       "      <td>Honda</td>\n",
       "      <td>Dio</td>\n",
       "      <td>2010</td>\n",
       "    </tr>\n",
       "    <tr>\n",
       "      <th>405</th>\n",
       "      <td>Balangoda</td>\n",
       "      <td>1.45</td>\n",
       "      <td>52</td>\n",
       "      <td>2024</td>\n",
       "      <td>Honda</td>\n",
       "      <td>Dio</td>\n",
       "      <td>2011</td>\n",
       "    </tr>\n",
       "    <tr>\n",
       "      <th>465</th>\n",
       "      <td>Chilaw</td>\n",
       "      <td>1.85</td>\n",
       "      <td>56836</td>\n",
       "      <td>2024</td>\n",
       "      <td>Honda</td>\n",
       "      <td>Dio</td>\n",
       "      <td>2010</td>\n",
       "    </tr>\n",
       "    <tr>\n",
       "      <th>507</th>\n",
       "      <td>Kuliyapitiya</td>\n",
       "      <td>1.75</td>\n",
       "      <td>88888</td>\n",
       "      <td>2024</td>\n",
       "      <td>Honda</td>\n",
       "      <td>Dio</td>\n",
       "      <td>2010</td>\n",
       "    </tr>\n",
       "    <tr>\n",
       "      <th>513</th>\n",
       "      <td>Balangoda</td>\n",
       "      <td>1.50</td>\n",
       "      <td>56</td>\n",
       "      <td>2024</td>\n",
       "      <td>Honda</td>\n",
       "      <td>Dio</td>\n",
       "      <td>2010</td>\n",
       "    </tr>\n",
       "    <tr>\n",
       "      <th>557</th>\n",
       "      <td>Nittambuwa</td>\n",
       "      <td>1.85</td>\n",
       "      <td>20240113</td>\n",
       "      <td>2024</td>\n",
       "      <td>Honda</td>\n",
       "      <td>Dio</td>\n",
       "      <td>2010</td>\n",
       "    </tr>\n",
       "    <tr>\n",
       "      <th>561</th>\n",
       "      <td>Matara</td>\n",
       "      <td>1.95</td>\n",
       "      <td>20240112</td>\n",
       "      <td>2024</td>\n",
       "      <td>Honda</td>\n",
       "      <td>Dio</td>\n",
       "      <td>2010</td>\n",
       "    </tr>\n",
       "    <tr>\n",
       "      <th>752</th>\n",
       "      <td>Ambalangoda</td>\n",
       "      <td>1.49</td>\n",
       "      <td>41000</td>\n",
       "      <td>2024</td>\n",
       "      <td>Honda</td>\n",
       "      <td>Dio</td>\n",
       "      <td>2010</td>\n",
       "    </tr>\n",
       "    <tr>\n",
       "      <th>756</th>\n",
       "      <td>Minuwangoda</td>\n",
       "      <td>1.10</td>\n",
       "      <td>20231231</td>\n",
       "      <td>2023</td>\n",
       "      <td>Honda</td>\n",
       "      <td>Dio</td>\n",
       "      <td>2009</td>\n",
       "    </tr>\n",
       "    <tr>\n",
       "      <th>767</th>\n",
       "      <td>Avissawella</td>\n",
       "      <td>1.20</td>\n",
       "      <td>14000</td>\n",
       "      <td>2023</td>\n",
       "      <td>Honda</td>\n",
       "      <td>Dio</td>\n",
       "      <td>2011</td>\n",
       "    </tr>\n",
       "    <tr>\n",
       "      <th>1174</th>\n",
       "      <td>Boralesgamuwa</td>\n",
       "      <td>1.55</td>\n",
       "      <td>12345</td>\n",
       "      <td>2023</td>\n",
       "      <td>Honda</td>\n",
       "      <td>Dio</td>\n",
       "      <td>2009</td>\n",
       "    </tr>\n",
       "    <tr>\n",
       "      <th>1457</th>\n",
       "      <td>Kandy</td>\n",
       "      <td>1.90</td>\n",
       "      <td>45000</td>\n",
       "      <td>2023</td>\n",
       "      <td>Honda</td>\n",
       "      <td>Dio</td>\n",
       "      <td>2010</td>\n",
       "    </tr>\n",
       "    <tr>\n",
       "      <th>1458</th>\n",
       "      <td>Colombo</td>\n",
       "      <td>1.95</td>\n",
       "      <td>45000</td>\n",
       "      <td>2023</td>\n",
       "      <td>Honda</td>\n",
       "      <td>Dio</td>\n",
       "      <td>2011</td>\n",
       "    </tr>\n",
       "    <tr>\n",
       "      <th>1502</th>\n",
       "      <td>Kandy</td>\n",
       "      <td>1.80</td>\n",
       "      <td>11111</td>\n",
       "      <td>2023</td>\n",
       "      <td>Honda</td>\n",
       "      <td>Dio</td>\n",
       "      <td>2011</td>\n",
       "    </tr>\n",
       "    <tr>\n",
       "      <th>1553</th>\n",
       "      <td>Polonnaruwa</td>\n",
       "      <td>1.70</td>\n",
       "      <td>54000</td>\n",
       "      <td>2023</td>\n",
       "      <td>Honda</td>\n",
       "      <td>Dio</td>\n",
       "      <td>2011</td>\n",
       "    </tr>\n",
       "    <tr>\n",
       "      <th>1717</th>\n",
       "      <td>Gampaha</td>\n",
       "      <td>1.60</td>\n",
       "      <td>20231107</td>\n",
       "      <td>2023</td>\n",
       "      <td>Honda</td>\n",
       "      <td>Dio</td>\n",
       "      <td>2011</td>\n",
       "    </tr>\n",
       "  </tbody>\n",
       "</table>\n",
       "</div>"
      ],
      "text/plain": [
       "           Location  Price   Mileage  Published_Year  Model Brand  Year\n",
       "121         Kegalle   1.85     37000            2024  Honda   Dio  2011\n",
       "319          Matara   1.85     85000            2024  Honda   Dio  2010\n",
       "405       Balangoda   1.45        52            2024  Honda   Dio  2011\n",
       "465          Chilaw   1.85     56836            2024  Honda   Dio  2010\n",
       "507    Kuliyapitiya   1.75     88888            2024  Honda   Dio  2010\n",
       "513       Balangoda   1.50        56            2024  Honda   Dio  2010\n",
       "557      Nittambuwa   1.85  20240113            2024  Honda   Dio  2010\n",
       "561          Matara   1.95  20240112            2024  Honda   Dio  2010\n",
       "752     Ambalangoda   1.49     41000            2024  Honda   Dio  2010\n",
       "756     Minuwangoda   1.10  20231231            2023  Honda   Dio  2009\n",
       "767     Avissawella   1.20     14000            2023  Honda   Dio  2011\n",
       "1174  Boralesgamuwa   1.55     12345            2023  Honda   Dio  2009\n",
       "1457          Kandy   1.90     45000            2023  Honda   Dio  2010\n",
       "1458        Colombo   1.95     45000            2023  Honda   Dio  2011\n",
       "1502          Kandy   1.80     11111            2023  Honda   Dio  2011\n",
       "1553    Polonnaruwa   1.70     54000            2023  Honda   Dio  2011\n",
       "1717        Gampaha   1.60  20231107            2023  Honda   Dio  2011"
      ]
     },
     "execution_count": 410,
     "metadata": {},
     "output_type": "execute_result"
    }
   ],
   "source": [
    "dio2[dio2[\"Price\"]<2]"
   ]
  },
  {
   "cell_type": "markdown",
   "metadata": {},
   "source": [
    "# Mileage"
   ]
  },
  {
   "cell_type": "markdown",
   "metadata": {},
   "source": [
    "### Normally Sccoty milage are below 1e5 in selling market"
   ]
  },
  {
   "cell_type": "code",
   "execution_count": 486,
   "metadata": {},
   "outputs": [],
   "source": [
    "dio3=dio2[dio2[\"Mileage\"]<1e5]"
   ]
  },
  {
   "cell_type": "code",
   "execution_count": 487,
   "metadata": {},
   "outputs": [
    {
     "data": {
      "text/html": [
       "<div>\n",
       "<style scoped>\n",
       "    .dataframe tbody tr th:only-of-type {\n",
       "        vertical-align: middle;\n",
       "    }\n",
       "\n",
       "    .dataframe tbody tr th {\n",
       "        vertical-align: top;\n",
       "    }\n",
       "\n",
       "    .dataframe thead th {\n",
       "        text-align: right;\n",
       "    }\n",
       "</style>\n",
       "<table border=\"1\" class=\"dataframe\">\n",
       "  <thead>\n",
       "    <tr style=\"text-align: right;\">\n",
       "      <th></th>\n",
       "      <th>Price</th>\n",
       "      <th>Mileage</th>\n",
       "      <th>Published_Year</th>\n",
       "      <th>Year</th>\n",
       "    </tr>\n",
       "  </thead>\n",
       "  <tbody>\n",
       "    <tr>\n",
       "      <th>count</th>\n",
       "      <td>954.000000</td>\n",
       "      <td>954.000000</td>\n",
       "      <td>954.000000</td>\n",
       "      <td>954.000000</td>\n",
       "    </tr>\n",
       "    <tr>\n",
       "      <th>mean</th>\n",
       "      <td>4.672762</td>\n",
       "      <td>34672.620545</td>\n",
       "      <td>2023.414046</td>\n",
       "      <td>2016.626834</td>\n",
       "    </tr>\n",
       "    <tr>\n",
       "      <th>std</th>\n",
       "      <td>0.899220</td>\n",
       "      <td>14637.321145</td>\n",
       "      <td>0.492815</td>\n",
       "      <td>2.101105</td>\n",
       "    </tr>\n",
       "    <tr>\n",
       "      <th>min</th>\n",
       "      <td>1.200000</td>\n",
       "      <td>1.000000</td>\n",
       "      <td>2023.000000</td>\n",
       "      <td>2008.000000</td>\n",
       "    </tr>\n",
       "    <tr>\n",
       "      <th>25%</th>\n",
       "      <td>4.100000</td>\n",
       "      <td>25000.000000</td>\n",
       "      <td>2023.000000</td>\n",
       "      <td>2015.000000</td>\n",
       "    </tr>\n",
       "    <tr>\n",
       "      <th>50%</th>\n",
       "      <td>4.700000</td>\n",
       "      <td>34000.000000</td>\n",
       "      <td>2023.000000</td>\n",
       "      <td>2017.000000</td>\n",
       "    </tr>\n",
       "    <tr>\n",
       "      <th>75%</th>\n",
       "      <td>5.350000</td>\n",
       "      <td>43000.000000</td>\n",
       "      <td>2024.000000</td>\n",
       "      <td>2018.000000</td>\n",
       "    </tr>\n",
       "    <tr>\n",
       "      <th>max</th>\n",
       "      <td>6.950000</td>\n",
       "      <td>99999.000000</td>\n",
       "      <td>2024.000000</td>\n",
       "      <td>2023.000000</td>\n",
       "    </tr>\n",
       "  </tbody>\n",
       "</table>\n",
       "</div>"
      ],
      "text/plain": [
       "            Price       Mileage  Published_Year         Year\n",
       "count  954.000000    954.000000      954.000000   954.000000\n",
       "mean     4.672762  34672.620545     2023.414046  2016.626834\n",
       "std      0.899220  14637.321145        0.492815     2.101105\n",
       "min      1.200000      1.000000     2023.000000  2008.000000\n",
       "25%      4.100000  25000.000000     2023.000000  2015.000000\n",
       "50%      4.700000  34000.000000     2023.000000  2017.000000\n",
       "75%      5.350000  43000.000000     2024.000000  2018.000000\n",
       "max      6.950000  99999.000000     2024.000000  2023.000000"
      ]
     },
     "execution_count": 487,
     "metadata": {},
     "output_type": "execute_result"
    }
   ],
   "source": [
    "dio3.describe()"
   ]
  },
  {
   "cell_type": "code",
   "execution_count": 488,
   "metadata": {},
   "outputs": [
    {
     "data": {
      "text/plain": [
       "<AxesSubplot:xlabel='Mileage'>"
      ]
     },
     "execution_count": 488,
     "metadata": {},
     "output_type": "execute_result"
    },
    {
     "data": {
      "image/png": "[encoded data removed]",
      "text/plain": [
       "<Figure size 640x480 with 1 Axes>"
      ]
     },
     "metadata": {},
     "output_type": "display_data"
    }
   ],
   "source": [
    "sns.boxplot(dio3[\"Mileage\"])"
   ]
  },
  {
   "cell_type": "code",
   "execution_count": 489,
   "metadata": {},
   "outputs": [
    {
     "data": {
      "text/plain": [
       "<AxesSubplot:xlabel='Mileage', ylabel='Density'>"
      ]
     },
     "execution_count": 489,
     "metadata": {},
     "output_type": "execute_result"
    },
    {
     "data": {
      "image/png": "[encoded data removed]",
      "text/plain": [
       "<Figure size 640x480 with 1 Axes>"
      ]
     },
     "metadata": {},
     "output_type": "display_data"
    }
   ],
   "source": [
    "sns.distplot(dio3[\"Mileage\"])"
   ]
  },
  {
   "cell_type": "code",
   "execution_count": null,
   "metadata": {},
   "outputs": [],
   "source": []
  },
  {
   "cell_type": "code",
   "execution_count": 490,
   "metadata": {},
   "outputs": [],
   "source": [
    "corr=dio3.corr()"
   ]
  },
  {
   "cell_type": "code",
   "execution_count": 491,
   "metadata": {},
   "outputs": [
    {
     "data": {
      "text/plain": [
       "<AxesSubplot:>"
      ]
     },
     "execution_count": 491,
     "metadata": {},
     "output_type": "execute_result"
    },
    {
     "data": {
      "image/png": "[encoded data removed]",
      "text/plain": [
       "<Figure size 640x480 with 2 Axes>"
      ]
     },
     "metadata": {},
     "output_type": "display_data"
    }
   ],
   "source": [
    "sns.heatmap(dio3.corr(),annot=True)"
   ]
  },
  {
   "cell_type": "code",
   "execution_count": null,
   "metadata": {},
   "outputs": [],
   "source": []
  },
  {
   "cell_type": "code",
   "execution_count": 492,
   "metadata": {},
   "outputs": [
    {
     "data": {
      "text/html": [
       "<div>\n",
       "<style scoped>\n",
       "    .dataframe tbody tr th:only-of-type {\n",
       "        vertical-align: middle;\n",
       "    }\n",
       "\n",
       "    .dataframe tbody tr th {\n",
       "        vertical-align: top;\n",
       "    }\n",
       "\n",
       "    .dataframe thead th {\n",
       "        text-align: right;\n",
       "    }\n",
       "</style>\n",
       "<table border=\"1\" class=\"dataframe\">\n",
       "  <thead>\n",
       "    <tr style=\"text-align: right;\">\n",
       "      <th></th>\n",
       "      <th>Location</th>\n",
       "      <th>Model</th>\n",
       "      <th>Brand</th>\n",
       "    </tr>\n",
       "  </thead>\n",
       "  <tbody>\n",
       "    <tr>\n",
       "      <th>count</th>\n",
       "      <td>954</td>\n",
       "      <td>954</td>\n",
       "      <td>954</td>\n",
       "    </tr>\n",
       "    <tr>\n",
       "      <th>unique</th>\n",
       "      <td>82</td>\n",
       "      <td>1</td>\n",
       "      <td>1</td>\n",
       "    </tr>\n",
       "    <tr>\n",
       "      <th>top</th>\n",
       "      <td>Gampaha</td>\n",
       "      <td>Honda</td>\n",
       "      <td>Dio</td>\n",
       "    </tr>\n",
       "    <tr>\n",
       "      <th>freq</th>\n",
       "      <td>190</td>\n",
       "      <td>954</td>\n",
       "      <td>954</td>\n",
       "    </tr>\n",
       "  </tbody>\n",
       "</table>\n",
       "</div>"
      ],
      "text/plain": [
       "       Location  Model Brand\n",
       "count       954    954   954\n",
       "unique       82      1     1\n",
       "top     Gampaha  Honda   Dio\n",
       "freq        190    954   954"
      ]
     },
     "execution_count": 492,
     "metadata": {},
     "output_type": "execute_result"
    }
   ],
   "source": [
    "dio3.describe(include=\"object\")"
   ]
  },
  {
   "cell_type": "code",
   "execution_count": null,
   "metadata": {},
   "outputs": [],
   "source": []
  },
  {
   "cell_type": "code",
   "execution_count": 493,
   "metadata": {},
   "outputs": [],
   "source": [
    "y = dio3['Price']\n",
    "X = dio3[[\"Mileage\",\"Published_Year\",\"Year\"]]"
   ]
  },
  {
   "cell_type": "code",
   "execution_count": 496,
   "metadata": {},
   "outputs": [
    {
     "name": "stdout",
     "output_type": "stream",
     "text": [
      "x train:  (763, 3)\n",
      "x test:  (191, 3)\n",
      "y train:  (763,)\n",
      "y test:  (191,)\n"
     ]
    }
   ],
   "source": [
    "from sklearn.model_selection import train_test_split\n",
    "X_train, X_test, y_train, y_test = train_test_split(X, y, test_size=0.2, random_state=91)\n",
    "print(\"x train: \",X_train.shape)\n",
    "print(\"x test: \",X_test.shape)\n",
    "print(\"y train: \",y_train.shape)\n",
    "print(\"y test: \",y_test.shape)"
   ]
  },
  {
   "cell_type": "code",
   "execution_count": 497,
   "metadata": {},
   "outputs": [
    {
     "name": "stdout",
     "output_type": "stream",
     "text": [
      "Best random state: 91\n",
      "Best R-squared: 0.9237231894249053\n"
     ]
    }
   ],
   "source": [
    "from sklearn.model_selection import train_test_split\n",
    "from sklearn.linear_model import LinearRegression\n",
    "best_random_state = None\n",
    "best_r2_score = 0\n",
    "\n",
    "for random_state in range(1, 101):  # You can adjust the range as needed\n",
    "    X_train, X_test, y_train, y_test = train_test_split(X, y, test_size=0.2, random_state=random_state)\n",
    "    \n",
    "    # Initialize and train your linear regression model\n",
    "    model = LinearRegression()\n",
    "    model.fit(X_train, y_train)\n",
    "    \n",
    "    # Make predictions\n",
    "    y_pred = model.predict(X_test)\n",
    "    \n",
    "    # Calculate R-squared\n",
    "    r2 = r2_score(y_test, y_pred)\n",
    "    \n",
    "    # Check if this random state gives a higher R-squared\n",
    "    if r2 > best_r2_score:\n",
    "        best_r2_score = r2\n",
    "        best_random_state = random_state\n",
    "\n",
    "print(\"Best random state:\", best_random_state)\n",
    "print(\"Best R-squared:\", best_r2_score)"
   ]
  },
  {
   "cell_type": "code",
   "execution_count": 498,
   "metadata": {},
   "outputs": [],
   "source": [
    "from sklearn.metrics import r2_score\n",
    "from sklearn.model_selection import cross_val_score"
   ]
  },
  {
   "cell_type": "code",
   "execution_count": 499,
   "metadata": {},
   "outputs": [],
   "source": [
    "CV = []\n",
    "R2_train = []\n",
    "R2_test = []\n",
    "\n",
    "def car_pred_model(model,model_name):\n",
    "    # Training model\n",
    "    model.fit(X_train,y_train)\n",
    "            \n",
    "    # R2 score of train set\n",
    "    y_pred_train = model.predict(X_train)\n",
    "    R2_train_model = r2_score(y_train,y_pred_train)\n",
    "    R2_train.append(round(R2_train_model,2))\n",
    "    \n",
    "    # R2 score of test set\n",
    "    y_pred_test = model.predict(X_test)\n",
    "    R2_test_model = r2_score(y_test,y_pred_test)\n",
    "    R2_test.append(round(R2_test_model,2))\n",
    "    \n",
    "    # R2 mean of train set using Cross validation\n",
    "    cross_val = cross_val_score(model ,X_train ,y_train ,cv=5)\n",
    "    cv_mean = cross_val.mean()\n",
    "    CV.append(round(cv_mean,2))\n",
    "    \n",
    "    # Printing results\n",
    "    print(\"Train R2-score :\",round(R2_train_model,2))\n",
    "    print(\"Test R2-score :\",round(R2_test_model,2))\n",
    "    print(\"Train CV scores :\",cross_val)\n",
    "    print(\"Train CV mean :\",round(cv_mean,2))\n",
    "    \n",
    "    # Plotting Graphs \n",
    "    # Residual Plot of train data\n",
    "    fig, ax = plt.subplots(1,2,figsize = (10,4))\n",
    "    ax[0].set_title('Residual Plot of Train samples')\n",
    "    sns.distplot((y_train-y_pred_train),hist = False,ax = ax[0])\n",
    "    ax[0].set_xlabel('y_train - y_pred_train')\n",
    "    \n",
    "    # Y_test vs Y_train scatter plot\n",
    "    ax[1].set_title('y_test vs y_pred_test')\n",
    "    ax[1].scatter(x = y_test, y = y_pred_test)\n",
    "    ax[1].set_xlabel('y_test')\n",
    "    ax[1].set_ylabel('y_pred_test')\n",
    "    \n",
    "    plt.show()"
   ]
  },
  {
   "cell_type": "code",
   "execution_count": 500,
   "metadata": {},
   "outputs": [
    {
     "name": "stdout",
     "output_type": "stream",
     "text": [
      "Train R2-score : 0.88\n",
      "Test R2-score : 0.91\n",
      "Train CV scores : [0.89991883 0.88071316 0.83343217 0.87367981 0.88853437]\n",
      "Train CV mean : 0.88\n"
     ]
    },
    {
     "data": {
      "image/png": "[encoded data removed]",
      "text/plain": [
       "<Figure size 1000x400 with 2 Axes>"
      ]
     },
     "metadata": {},
     "output_type": "display_data"
    }
   ],
   "source": [
    "from sklearn.linear_model import LinearRegression\n",
    "\n",
    "lr = LinearRegression()\n",
    "car_pred_model(lr,\"Linear_regressor.pkl\")"
   ]
  },
  {
   "cell_type": "code",
   "execution_count": 501,
   "metadata": {},
   "outputs": [
    {
     "name": "stdout",
     "output_type": "stream",
     "text": [
      "Train R2-score : 0.88\n",
      "Test R2-score : 0.91\n",
      "Train CV scores : [0.8995948  0.88054287 0.83330333 0.87413804 0.88812499]\n",
      "Train CV mean : 0.88\n"
     ]
    },
    {
     "data": {
      "image/png": "[encoded data removed]",
      "text/plain": [
       "<Figure size 1000x400 with 2 Axes>"
      ]
     },
     "metadata": {},
     "output_type": "display_data"
    }
   ],
   "source": [
    "from sklearn.linear_model import Ridge\n",
    "from sklearn.model_selection import RandomizedSearchCV\n",
    "\n",
    "# Creating Ridge model object\n",
    "rg = Ridge()\n",
    "# range of alpha \n",
    "alpha = np.logspace(-3,3,num=14)\n",
    "\n",
    "# Creating RandomizedSearchCV to find the best estimator of hyperparameter\n",
    "rg_rs = RandomizedSearchCV(estimator = rg, param_distributions = dict(alpha=alpha))\n",
    "\n",
    "car_pred_model(rg_rs,\"ridge.pkl\")"
   ]
  },
  {
   "cell_type": "code",
   "execution_count": 425,
   "metadata": {},
   "outputs": [
    {
     "name": "stdout",
     "output_type": "stream",
     "text": [
      "Train R2-score : 0.88\n",
      "Test R2-score : 0.9\n",
      "Train CV scores : [0.90701745 0.88824445 0.85475744 0.85348978 0.88582268]\n",
      "Train CV mean : 0.88\n"
     ]
    },
    {
     "data": {
      "image/png": "[encoded data removed]",
      "text/plain": [
       "<Figure size 1000x400 with 2 Axes>"
      ]
     },
     "metadata": {},
     "output_type": "display_data"
    }
   ],
   "source": [
    "from sklearn.linear_model import Lasso\n",
    "from sklearn.model_selection import RandomizedSearchCV\n",
    "\n",
    "ls = Lasso()\n",
    "alpha = np.logspace(-3,3,num=14) # range for alpha\n",
    "\n",
    "ls_rs = RandomizedSearchCV(estimator = ls, param_distributions = dict(alpha=alpha))\n",
    "car_pred_model(ls_rs,\"lasso.pkl\")"
   ]
  },
  {
   "cell_type": "code",
   "execution_count": null,
   "metadata": {},
   "outputs": [],
   "source": []
  },
  {
   "cell_type": "code",
   "execution_count": null,
   "metadata": {},
   "outputs": [],
   "source": []
  }
 ],
 "metadata": {
  "kernelspec": {
   "display_name": "base",
   "language": "python",
   "name": "python3"
  },
  "language_info": {
   "codemirror_mode": {
    "name": "ipython",
    "version": 3
   },
   "file_extension": ".py",
   "mimetype": "text/x-python",
   "name": "python",
   "nbconvert_exporter": "python",
   "pygments_lexer": "ipython3",
   "version": "3.9.13"
  }
 },
 "nbformat": 4,
 "nbformat_minor": 2
}
