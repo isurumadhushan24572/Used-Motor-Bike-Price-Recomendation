{
 "cells": [
  {
   "cell_type": "markdown",
   "metadata": {},
   "source": [
    "# Predicting the Price of Used Honda Dio Motor Bike in Sri Lanka"
   ]
  },
  {
   "cell_type": "markdown",
   "metadata": {},
   "source": [
    "In this Project, we are going to predict the Price of Sri Lankan Used Honda Dio Bike using various features like Brand, Price, Mileage, Year etc. The data is obtained using web scraping reputed vehecle reselling site called Riyasewana.\n",
    "\n",
    "**To be able to predict used Honda Dio Bike market value can help both buyers and sellers.**\n",
    "\n",
    "There are lots of individuals who are interested in Used Honda Dio used Motor Bike market at some points in their life because they wanted to sell their motor bike or buy a used motor bike. In this process, it’s a big corner to pay too much or sell less then it’s market value."
   ]
  },
  {
   "cell_type": "markdown",
   "metadata": {},
   "source": [
    "# Importing Libraries"
   ]
  },
  {
   "cell_type": "code",
   "execution_count": 314,
   "metadata": {},
   "outputs": [],
   "source": [
    "import numpy as np\n",
    "import pandas as pd\n",
    "import matplotlib.pyplot as plt\n",
    "import re\n",
    "import seaborn as sns\n",
    "from sklearn.metrics import mean_squared_error\n",
    "from sklearn.metrics import r2_score\n",
    "\n",
    "\n",
    "import warnings\n",
    "warnings.simplefilter(action='ignore', category=FutureWarning)\n"
   ]
  },
  {
   "cell_type": "markdown",
   "metadata": {},
   "source": [
    "# Loading the raw data"
   ]
  },
  {
   "cell_type": "code",
   "execution_count": 315,
   "metadata": {},
   "outputs": [
    {
     "data": {
      "text/html": [
       "<div>\n",
       "<style scoped>\n",
       "    .dataframe tbody tr th:only-of-type {\n",
       "        vertical-align: middle;\n",
       "    }\n",
       "\n",
       "    .dataframe tbody tr th {\n",
       "        vertical-align: top;\n",
       "    }\n",
       "\n",
       "    .dataframe thead th {\n",
       "        text-align: right;\n",
       "    }\n",
       "</style>\n",
       "<table border=\"1\" class=\"dataframe\">\n",
       "  <thead>\n",
       "    <tr style=\"text-align: right;\">\n",
       "      <th></th>\n",
       "      <th>Title</th>\n",
       "      <th>Link</th>\n",
       "      <th>Location</th>\n",
       "      <th>Price</th>\n",
       "      <th>Mileage</th>\n",
       "      <th>Date</th>\n",
       "    </tr>\n",
       "  </thead>\n",
       "  <tbody>\n",
       "    <tr>\n",
       "      <th>0</th>\n",
       "      <td>Honda Dio 2017 Motorbike</td>\n",
       "      <td>https://riyasewana.com/buy/honda-dio-sale-band...</td>\n",
       "      <td>Bandaragama</td>\n",
       "      <td>Rs. 500,000</td>\n",
       "      <td>39000</td>\n",
       "      <td>2024-01-26</td>\n",
       "    </tr>\n",
       "    <tr>\n",
       "      <th>1</th>\n",
       "      <td>Honda Dio 2018 Motorbike</td>\n",
       "      <td>https://riyasewana.com/buy/honda-dio-sale-gamp...</td>\n",
       "      <td>Gampaha</td>\n",
       "      <td>Rs. 578,000</td>\n",
       "      <td>30000</td>\n",
       "      <td>2024-01-26</td>\n",
       "    </tr>\n",
       "    <tr>\n",
       "      <th>2</th>\n",
       "      <td>Honda DIO 2017 Motorbike</td>\n",
       "      <td>https://riyasewana.com/buy/honda-dio-sale-mata...</td>\n",
       "      <td>Matara</td>\n",
       "      <td>Rs. 565,000</td>\n",
       "      <td>15250</td>\n",
       "      <td>2024-01-26</td>\n",
       "    </tr>\n",
       "    <tr>\n",
       "      <th>3</th>\n",
       "      <td>Honda Dio 2018 Motorbike</td>\n",
       "      <td>https://riyasewana.com/buy/honda-dio-sale-anur...</td>\n",
       "      <td>Anuradapura</td>\n",
       "      <td>Rs. 535,000</td>\n",
       "      <td>44444</td>\n",
       "      <td>2024-01-26</td>\n",
       "    </tr>\n",
       "    <tr>\n",
       "      <th>4</th>\n",
       "      <td>Honda DIO 2017 Motorbike</td>\n",
       "      <td>https://riyasewana.com/buy/honda-dio-sale-kalu...</td>\n",
       "      <td>Kalutara</td>\n",
       "      <td>Rs. 12,865,588</td>\n",
       "      <td>4628</td>\n",
       "      <td>2024-01-26</td>\n",
       "    </tr>\n",
       "  </tbody>\n",
       "</table>\n",
       "</div>"
      ],
      "text/plain": [
       "                      Title  \\\n",
       "0  Honda Dio 2017 Motorbike   \n",
       "1  Honda Dio 2018 Motorbike   \n",
       "2  Honda DIO 2017 Motorbike   \n",
       "3  Honda Dio 2018 Motorbike   \n",
       "4  Honda DIO 2017 Motorbike   \n",
       "\n",
       "                                                Link     Location  \\\n",
       "0  https://riyasewana.com/buy/honda-dio-sale-band...  Bandaragama   \n",
       "1  https://riyasewana.com/buy/honda-dio-sale-gamp...      Gampaha   \n",
       "2  https://riyasewana.com/buy/honda-dio-sale-mata...       Matara   \n",
       "3  https://riyasewana.com/buy/honda-dio-sale-anur...  Anuradapura   \n",
       "4  https://riyasewana.com/buy/honda-dio-sale-kalu...     Kalutara   \n",
       "\n",
       "            Price  Mileage        Date  \n",
       "0     Rs. 500,000    39000  2024-01-26  \n",
       "1     Rs. 578,000    30000  2024-01-26  \n",
       "2     Rs. 565,000    15250  2024-01-26  \n",
       "3     Rs. 535,000    44444  2024-01-26  \n",
       "4  Rs. 12,865,588     4628  2024-01-26  "
      ]
     },
     "execution_count": 315,
     "metadata": {},
     "output_type": "execute_result"
    }
   ],
   "source": [
    "dio=pd.read_excel(\"Dio.xlsx\")\n",
    "dio.head()"
   ]
  },
  {
   "cell_type": "markdown",
   "metadata": {},
   "source": [
    "### Drop unwanted column"
   ]
  },
  {
   "cell_type": "code",
   "execution_count": 316,
   "metadata": {},
   "outputs": [],
   "source": [
    "dio.drop(\"Link\",axis=1,inplace=True)"
   ]
  },
  {
   "cell_type": "markdown",
   "metadata": {},
   "source": [
    "### Number of rows and columns in data frame"
   ]
  },
  {
   "cell_type": "code",
   "execution_count": 317,
   "metadata": {},
   "outputs": [
    {
     "data": {
      "text/plain": [
       "(1907, 5)"
      ]
     },
     "execution_count": 317,
     "metadata": {},
     "output_type": "execute_result"
    }
   ],
   "source": [
    "dio.shape"
   ]
  },
  {
   "cell_type": "markdown",
   "metadata": {},
   "source": [
    "### Check the count of duplicated rows"
   ]
  },
  {
   "cell_type": "code",
   "execution_count": 318,
   "metadata": {},
   "outputs": [
    {
     "data": {
      "text/plain": [
       "25"
      ]
     },
     "execution_count": 318,
     "metadata": {},
     "output_type": "execute_result"
    }
   ],
   "source": [
    "dio.duplicated().sum()"
   ]
  },
  {
   "cell_type": "markdown",
   "metadata": {},
   "source": [
    "### Deleting duplicated rows and check the task completed successfully"
   ]
  },
  {
   "cell_type": "code",
   "execution_count": 319,
   "metadata": {},
   "outputs": [
    {
     "data": {
      "text/plain": [
       "0"
      ]
     },
     "execution_count": 319,
     "metadata": {},
     "output_type": "execute_result"
    }
   ],
   "source": [
    "dio.drop_duplicates(inplace=True)\n",
    "dio.duplicated().sum()"
   ]
  },
  {
   "cell_type": "markdown",
   "metadata": {},
   "source": [
    "### Check missing values included rows in data frame"
   ]
  },
  {
   "cell_type": "code",
   "execution_count": 320,
   "metadata": {},
   "outputs": [
    {
     "data": {
      "text/plain": [
       "Title       0\n",
       "Location    0\n",
       "Price       0\n",
       "Mileage     0\n",
       "Date        0\n",
       "dtype: int64"
      ]
     },
     "execution_count": 320,
     "metadata": {},
     "output_type": "execute_result"
    }
   ],
   "source": [
    "dio.isnull().sum()"
   ]
  },
  {
   "cell_type": "markdown",
   "metadata": {},
   "source": [
    "### Get Summarized Information of the data frame"
   ]
  },
  {
   "cell_type": "code",
   "execution_count": 321,
   "metadata": {},
   "outputs": [
    {
     "name": "stdout",
     "output_type": "stream",
     "text": [
      "<class 'pandas.core.frame.DataFrame'>\n",
      "Int64Index: 1882 entries, 0 to 1906\n",
      "Data columns (total 5 columns):\n",
      " #   Column    Non-Null Count  Dtype \n",
      "---  ------    --------------  ----- \n",
      " 0   Title     1882 non-null   object\n",
      " 1   Location  1882 non-null   object\n",
      " 2   Price     1882 non-null   object\n",
      " 3   Mileage   1882 non-null   int64 \n",
      " 4   Date      1882 non-null   object\n",
      "dtypes: int64(1), object(4)\n",
      "memory usage: 88.2+ KB\n"
     ]
    }
   ],
   "source": [
    "dio.info()"
   ]
  },
  {
   "cell_type": "markdown",
   "metadata": {},
   "source": [
    "Here Price,Date is quantitative variables; Hense we will convert into Numerical variables follwing steps"
   ]
  },
  {
   "cell_type": "markdown",
   "metadata": {},
   "source": [
    "### Get Only Published Year from Date and store it as Published_Year"
   ]
  },
  {
   "cell_type": "code",
   "execution_count": 322,
   "metadata": {},
   "outputs": [],
   "source": [
    "dio[\"Published_Year\"]=pd.to_datetime(dio[\"Date\"]).dt.year"
   ]
  },
  {
   "cell_type": "markdown",
   "metadata": {},
   "source": [
    "### Get Year of manufatured from Title"
   ]
  },
  {
   "cell_type": "code",
   "execution_count": 323,
   "metadata": {},
   "outputs": [],
   "source": [
    "def extract_year(text):\n",
    "    year = re.findall(r'\\b\\d{4}\\b', text)\n",
    "    return year[0] if year else None\n",
    "\n",
    "# Apply the function to the 'Title' column to create 'Year' column\n",
    "dio['Manufactured_Year'] = dio['Title'].apply(extract_year)"
   ]
  },
  {
   "cell_type": "code",
   "execution_count": 324,
   "metadata": {},
   "outputs": [],
   "source": [
    "\n",
    "dio.drop([\"Title\",\"Date\"],axis=1,inplace=True)  # drop Title and Date column permanatly"
   ]
  },
  {
   "cell_type": "markdown",
   "metadata": {},
   "source": [
    "### Get Number of unique value of every variables"
   ]
  },
  {
   "cell_type": "code",
   "execution_count": 325,
   "metadata": {},
   "outputs": [
    {
     "data": {
      "text/plain": [
       "Location              86\n",
       "Price                197\n",
       "Mileage              727\n",
       "Published_Year         2\n",
       "Manufactured_Year     18\n",
       "dtype: int64"
      ]
     },
     "execution_count": 325,
     "metadata": {},
     "output_type": "execute_result"
    }
   ],
   "source": [
    "dio.nunique()"
   ]
  },
  {
   "cell_type": "markdown",
   "metadata": {},
   "source": [
    "### Get the data types of every varible"
   ]
  },
  {
   "cell_type": "code",
   "execution_count": 326,
   "metadata": {},
   "outputs": [
    {
     "data": {
      "text/plain": [
       "Location             object\n",
       "Price                object\n",
       "Mileage               int64\n",
       "Published_Year        int64\n",
       "Manufactured_Year    object\n",
       "dtype: object"
      ]
     },
     "execution_count": 326,
     "metadata": {},
     "output_type": "execute_result"
    }
   ],
   "source": [
    "dio.dtypes"
   ]
  },
  {
   "cell_type": "markdown",
   "metadata": {},
   "source": [
    "### Get First 5 rows of  the data frame"
   ]
  },
  {
   "cell_type": "code",
   "execution_count": 327,
   "metadata": {},
   "outputs": [
    {
     "data": {
      "text/html": [
       "<div>\n",
       "<style scoped>\n",
       "    .dataframe tbody tr th:only-of-type {\n",
       "        vertical-align: middle;\n",
       "    }\n",
       "\n",
       "    .dataframe tbody tr th {\n",
       "        vertical-align: top;\n",
       "    }\n",
       "\n",
       "    .dataframe thead th {\n",
       "        text-align: right;\n",
       "    }\n",
       "</style>\n",
       "<table border=\"1\" class=\"dataframe\">\n",
       "  <thead>\n",
       "    <tr style=\"text-align: right;\">\n",
       "      <th></th>\n",
       "      <th>Location</th>\n",
       "      <th>Price</th>\n",
       "      <th>Mileage</th>\n",
       "      <th>Published_Year</th>\n",
       "      <th>Manufactured_Year</th>\n",
       "    </tr>\n",
       "  </thead>\n",
       "  <tbody>\n",
       "    <tr>\n",
       "      <th>0</th>\n",
       "      <td>Bandaragama</td>\n",
       "      <td>Rs. 500,000</td>\n",
       "      <td>39000</td>\n",
       "      <td>2024</td>\n",
       "      <td>2017</td>\n",
       "    </tr>\n",
       "    <tr>\n",
       "      <th>1</th>\n",
       "      <td>Gampaha</td>\n",
       "      <td>Rs. 578,000</td>\n",
       "      <td>30000</td>\n",
       "      <td>2024</td>\n",
       "      <td>2018</td>\n",
       "    </tr>\n",
       "    <tr>\n",
       "      <th>2</th>\n",
       "      <td>Matara</td>\n",
       "      <td>Rs. 565,000</td>\n",
       "      <td>15250</td>\n",
       "      <td>2024</td>\n",
       "      <td>2017</td>\n",
       "    </tr>\n",
       "    <tr>\n",
       "      <th>3</th>\n",
       "      <td>Anuradapura</td>\n",
       "      <td>Rs. 535,000</td>\n",
       "      <td>44444</td>\n",
       "      <td>2024</td>\n",
       "      <td>2018</td>\n",
       "    </tr>\n",
       "    <tr>\n",
       "      <th>4</th>\n",
       "      <td>Kalutara</td>\n",
       "      <td>Rs. 12,865,588</td>\n",
       "      <td>4628</td>\n",
       "      <td>2024</td>\n",
       "      <td>2017</td>\n",
       "    </tr>\n",
       "  </tbody>\n",
       "</table>\n",
       "</div>"
      ],
      "text/plain": [
       "      Location           Price  Mileage  Published_Year Manufactured_Year\n",
       "0  Bandaragama     Rs. 500,000    39000            2024              2017\n",
       "1      Gampaha     Rs. 578,000    30000            2024              2018\n",
       "2       Matara     Rs. 565,000    15250            2024              2017\n",
       "3  Anuradapura     Rs. 535,000    44444            2024              2018\n",
       "4     Kalutara  Rs. 12,865,588     4628            2024              2017"
      ]
     },
     "execution_count": 327,
     "metadata": {},
     "output_type": "execute_result"
    }
   ],
   "source": [
    "dio.head()"
   ]
  },
  {
   "cell_type": "markdown",
   "metadata": {},
   "source": [
    "### Get Unique values of Year variable & remove irelavant years from Manufactured_Year"
   ]
  },
  {
   "cell_type": "code",
   "execution_count": 328,
   "metadata": {},
   "outputs": [],
   "source": [
    "dio[\"Manufactured_Year\"].unique()\n",
    "years_to_remove = ['2001', '2005', '2008']\n",
    "\n",
    "# Filtering the DataFrame\n",
    "dio = dio[~dio['Manufactured_Year'].isin(years_to_remove)]"
   ]
  },
  {
   "cell_type": "markdown",
   "metadata": {},
   "source": [
    "### Convert Price into intiger format and convert it as Lacs"
   ]
  },
  {
   "cell_type": "code",
   "execution_count": 329,
   "metadata": {},
   "outputs": [
    {
     "data": {
      "text/html": [
       "<div>\n",
       "<style scoped>\n",
       "    .dataframe tbody tr th:only-of-type {\n",
       "        vertical-align: middle;\n",
       "    }\n",
       "\n",
       "    .dataframe tbody tr th {\n",
       "        vertical-align: top;\n",
       "    }\n",
       "\n",
       "    .dataframe thead th {\n",
       "        text-align: right;\n",
       "    }\n",
       "</style>\n",
       "<table border=\"1\" class=\"dataframe\">\n",
       "  <thead>\n",
       "    <tr style=\"text-align: right;\">\n",
       "      <th></th>\n",
       "      <th>Location</th>\n",
       "      <th>Price</th>\n",
       "      <th>Mileage</th>\n",
       "      <th>Published_Year</th>\n",
       "      <th>Manufactured_Year</th>\n",
       "    </tr>\n",
       "  </thead>\n",
       "  <tbody>\n",
       "    <tr>\n",
       "      <th>0</th>\n",
       "      <td>Bandaragama</td>\n",
       "      <td>5.00000</td>\n",
       "      <td>39000</td>\n",
       "      <td>2024</td>\n",
       "      <td>2017</td>\n",
       "    </tr>\n",
       "    <tr>\n",
       "      <th>1</th>\n",
       "      <td>Gampaha</td>\n",
       "      <td>5.78000</td>\n",
       "      <td>30000</td>\n",
       "      <td>2024</td>\n",
       "      <td>2018</td>\n",
       "    </tr>\n",
       "    <tr>\n",
       "      <th>2</th>\n",
       "      <td>Matara</td>\n",
       "      <td>5.65000</td>\n",
       "      <td>15250</td>\n",
       "      <td>2024</td>\n",
       "      <td>2017</td>\n",
       "    </tr>\n",
       "    <tr>\n",
       "      <th>3</th>\n",
       "      <td>Anuradapura</td>\n",
       "      <td>5.35000</td>\n",
       "      <td>44444</td>\n",
       "      <td>2024</td>\n",
       "      <td>2018</td>\n",
       "    </tr>\n",
       "    <tr>\n",
       "      <th>4</th>\n",
       "      <td>Kalutara</td>\n",
       "      <td>128.65588</td>\n",
       "      <td>4628</td>\n",
       "      <td>2024</td>\n",
       "      <td>2017</td>\n",
       "    </tr>\n",
       "  </tbody>\n",
       "</table>\n",
       "</div>"
      ],
      "text/plain": [
       "      Location      Price  Mileage  Published_Year Manufactured_Year\n",
       "0  Bandaragama    5.00000    39000            2024              2017\n",
       "1      Gampaha    5.78000    30000            2024              2018\n",
       "2       Matara    5.65000    15250            2024              2017\n",
       "3  Anuradapura    5.35000    44444            2024              2018\n",
       "4     Kalutara  128.65588     4628            2024              2017"
      ]
     },
     "execution_count": 329,
     "metadata": {},
     "output_type": "execute_result"
    }
   ],
   "source": [
    "dio['Price'] = dio['Price'].str.replace('[^\\d]', '', regex=True)\n",
    "# Convert the column to numeric type\n",
    "dio['Price'] = pd.to_numeric(dio['Price'])\n",
    "dio['Price'] = dio['Price']/ 100000\n",
    "dio.head()"
   ]
  },
  {
   "cell_type": "code",
   "execution_count": 330,
   "metadata": {},
   "outputs": [
    {
     "data": {
      "text/plain": [
       "Location               0\n",
       "Price                730\n",
       "Mileage                0\n",
       "Published_Year         0\n",
       "Manufactured_Year      0\n",
       "dtype: int64"
      ]
     },
     "execution_count": 330,
     "metadata": {},
     "output_type": "execute_result"
    }
   ],
   "source": [
    "dio.isnull().sum()"
   ]
  },
  {
   "cell_type": "markdown",
   "metadata": {},
   "source": [
    "Here Price contain 730 missing values , we will check what happend later"
   ]
  },
  {
   "cell_type": "markdown",
   "metadata": {},
   "source": [
    "### Checking Price data type converted was successfully"
   ]
  },
  {
   "cell_type": "code",
   "execution_count": 331,
   "metadata": {},
   "outputs": [
    {
     "data": {
      "text/plain": [
       "dtype('float64')"
      ]
     },
     "execution_count": 331,
     "metadata": {},
     "output_type": "execute_result"
    }
   ],
   "source": [
    "dio[\"Price\"].dtype\n",
    "\n"
   ]
  },
  {
   "cell_type": "markdown",
   "metadata": {},
   "source": [
    "### Converting Year data types as Integer"
   ]
  },
  {
   "cell_type": "code",
   "execution_count": 332,
   "metadata": {},
   "outputs": [],
   "source": [
    "\n",
    "dio[\"Manufactured_Year\"]=dio[\"Manufactured_Year\"].astype(int)"
   ]
  },
  {
   "cell_type": "markdown",
   "metadata": {},
   "source": [
    "### Replacing 2023,2022,2021 with 2020 due to the dio last version came from to SL 2020"
   ]
  },
  {
   "cell_type": "code",
   "execution_count": 333,
   "metadata": {},
   "outputs": [],
   "source": [
    "# List of years to be replaced\n",
    "years_to_replace = [2023, 2022, 2021]\n",
    "\n",
    "# Replace the years with 2020\n",
    "dio['Manufactured_Year'] = dio['Manufactured_Year'].replace(years_to_replace, 2020)\n",
    "\n",
    "# Ensure the column is of integer type\n",
    "dio['Manufactured_Year'] = dio['Manufactured_Year'].astype(int)"
   ]
  },
  {
   "cell_type": "markdown",
   "metadata": {},
   "source": [
    "### Checking Location Unique values "
   ]
  },
  {
   "cell_type": "code",
   "execution_count": 334,
   "metadata": {},
   "outputs": [
    {
     "data": {
      "text/plain": [
       "array(['Bandaragama', 'Gampaha', 'Matara', 'Anuradapura', 'Kalutara',\n",
       "       'Nawalapitiya', 'Kurunegala', 'Galle', 'Colombo', 'Kandy',\n",
       "       'Wennappuwa', 'Kadawatha', 'Negombo', 'Horana', 'Matale',\n",
       "       'Ratnapura', 'Kuliyapitiya', 'Mirigama', 'Polonnaruwa',\n",
       "       'Dehiwala-Mount-Lavinia', 'Panadura', 'Matugama', 'Katunayake',\n",
       "       'Chilaw', 'Embilipitiya', 'Pannala', 'Mannar', 'Puttalam',\n",
       "       'Bandarawela', 'Polgahawela', 'Badulla', 'Dompe', 'Piliyandala',\n",
       "       'Malabe', 'Boralesgamuwa', 'Kegalle', 'Kaduwela', 'Kalawana',\n",
       "       'Mawanella', 'Minuwangoda', 'Nittambuwa', 'Hambantota', 'Weligama',\n",
       "       'Elpitiya', 'Ambalangoda', 'Tangalle', 'Divulapitiya', 'Gampola',\n",
       "       'Padukka', 'Kottawa', 'Battaramulla', 'Kelaniya', 'Moneragala',\n",
       "       'Ja-Ela', 'Wattala', 'Welimada', 'Mahiyanganaya', 'Moratuwa',\n",
       "       'Ragama', 'Marawila', 'Kandana', 'Maharagama', 'Kalmunai',\n",
       "       'Beruwala', 'Nugegoda', 'Homagama', 'Trincomalee', 'Balangoda',\n",
       "       'Kotte', 'Ampara', 'Dambulla', 'Avissawella', 'Kiribathgoda',\n",
       "       'Mulleriyawa', 'Dankotuwa', 'Kilinochchi', 'Pannipitiya', 'Nawala',\n",
       "       'Hikkaduwa', 'Batticaloa', 'Eheliyagoda', 'Kolonnawa', 'Jaffna',\n",
       "       'Warakapola', 'Nuwara-Eliya', 'Welisara'], dtype=object)"
      ]
     },
     "execution_count": 334,
     "metadata": {},
     "output_type": "execute_result"
    }
   ],
   "source": [
    "dio[\"Location\"].unique()"
   ]
  },
  {
   "cell_type": "markdown",
   "metadata": {},
   "source": [
    "### Converting location into province"
   ]
  },
  {
   "cell_type": "code",
   "execution_count": 335,
   "metadata": {},
   "outputs": [],
   "source": [
    "location_to_province = {\n",
    "    'Bandaragama': 'Western', 'Gampaha': 'Western', 'Matara': 'Southern', 'Anuradapura': 'North Central',\n",
    "    'Kalutara': 'Western', 'Nawalapitiya': 'Central', 'Kurunegala': 'North Western', 'Galle': 'Southern',\n",
    "    'Colombo': 'Western', 'Kandy': 'Central', 'Wennappuwa': 'North Western', 'Kadawatha': 'Western',\n",
    "    'Negombo': 'Western', 'Horana': 'Western', 'Matale': 'Central', 'Ratnapura': 'Sabaragamuwa',\n",
    "    'Kuliyapitiya': 'North Western', 'Mirigama': 'Western', 'Polonnaruwa': 'North Central',\n",
    "    'Dehiwala-Mount-Lavinia': 'Western', 'Panadura': 'Western', 'Matugama': 'Western', 'Katunayake': 'Western',\n",
    "    'Chilaw': 'North Western', 'Embilipitiya': 'Sabaragamuwa', 'Pannala': 'North Western', 'Mannar': 'Northern',\n",
    "    'Puttalam': 'North Western', 'Bandarawela': 'Uva', 'Polgahawela': 'North Western', 'Badulla': 'Uva',\n",
    "    'Dompe': 'Western', 'Piliyandala': 'Western', 'Malabe': 'Western', 'Boralesgamuwa': 'Western',\n",
    "    'Kegalle': 'Sabaragamuwa', 'Kaduwela': 'Western', 'Kalawana': 'Sabaragamuwa', 'Mawanella': 'Sabaragamuwa',\n",
    "    'Minuwangoda': 'Western', 'Nittambuwa': 'Western', 'Hambantota': 'Southern', 'Weligama': 'Southern',\n",
    "    'Elpitiya': 'Southern', 'Ambalangoda': 'Southern', 'Tangalle': 'Southern', 'Divulapitiya': 'Western',\n",
    "    'Gampola': 'Central', 'Padukka': 'Western', 'Kottawa': 'Western', 'Battaramulla': 'Western',\n",
    "    'Kelaniya': 'Western', 'Moneragala': 'Uva', 'Ja-Ela': 'Western', 'Wattala': 'Western', 'Welimada': 'Uva',\n",
    "    'Mahiyanganaya': 'Uva', 'Moratuwa': 'Western', 'Ragama': 'Western', 'Marawila': 'North Western',\n",
    "    'Kandana': 'Western', 'Maharagama': 'Western', 'Kalmunai': 'Eastern', 'Beruwala': 'Western', 'Nugegoda': 'Western',\n",
    "    'Homagama': 'Western', 'Trincomalee': 'Eastern', 'Balangoda': 'Sabaragamuwa', 'Kotte': 'Western', 'Ampara': 'Eastern',\n",
    "    'Dambulla': 'Central', 'Avissawella': 'Western', 'Kiribathgoda': 'Western', 'Mulleriyawa': 'Western', 'Dankotuwa': 'North Western',\n",
    "    'Kilinochchi': 'Northern', 'Pannipitiya': 'Western', 'Nawala': 'Western', 'Hikkaduwa': 'Southern', 'Batticaloa': 'Eastern',\n",
    "    'Eheliyagoda': 'Sabaragamuwa', 'Kolonnawa': 'Western', 'Jaffna': 'Northern', 'Warakapola': 'Sabaragamuwa',\n",
    "    'Nuwara-Eliya': 'Central', 'Welisara': 'Western'\n",
    "}\n",
    "\n",
    "# Map the 'Location' column to 'Province' using the dictionary\n",
    "dio['Province'] = dio['Location'].map(location_to_province)"
   ]
  },
  {
   "cell_type": "code",
   "execution_count": 336,
   "metadata": {},
   "outputs": [
    {
     "data": {
      "text/html": [
       "<div>\n",
       "<style scoped>\n",
       "    .dataframe tbody tr th:only-of-type {\n",
       "        vertical-align: middle;\n",
       "    }\n",
       "\n",
       "    .dataframe tbody tr th {\n",
       "        vertical-align: top;\n",
       "    }\n",
       "\n",
       "    .dataframe thead th {\n",
       "        text-align: right;\n",
       "    }\n",
       "</style>\n",
       "<table border=\"1\" class=\"dataframe\">\n",
       "  <thead>\n",
       "    <tr style=\"text-align: right;\">\n",
       "      <th></th>\n",
       "      <th>Location</th>\n",
       "      <th>Price</th>\n",
       "      <th>Mileage</th>\n",
       "      <th>Published_Year</th>\n",
       "      <th>Manufactured_Year</th>\n",
       "      <th>Province</th>\n",
       "    </tr>\n",
       "  </thead>\n",
       "  <tbody>\n",
       "    <tr>\n",
       "      <th>0</th>\n",
       "      <td>Bandaragama</td>\n",
       "      <td>5.00000</td>\n",
       "      <td>39000</td>\n",
       "      <td>2024</td>\n",
       "      <td>2017</td>\n",
       "      <td>Western</td>\n",
       "    </tr>\n",
       "    <tr>\n",
       "      <th>1</th>\n",
       "      <td>Gampaha</td>\n",
       "      <td>5.78000</td>\n",
       "      <td>30000</td>\n",
       "      <td>2024</td>\n",
       "      <td>2018</td>\n",
       "      <td>Western</td>\n",
       "    </tr>\n",
       "    <tr>\n",
       "      <th>2</th>\n",
       "      <td>Matara</td>\n",
       "      <td>5.65000</td>\n",
       "      <td>15250</td>\n",
       "      <td>2024</td>\n",
       "      <td>2017</td>\n",
       "      <td>Southern</td>\n",
       "    </tr>\n",
       "    <tr>\n",
       "      <th>3</th>\n",
       "      <td>Anuradapura</td>\n",
       "      <td>5.35000</td>\n",
       "      <td>44444</td>\n",
       "      <td>2024</td>\n",
       "      <td>2018</td>\n",
       "      <td>North Central</td>\n",
       "    </tr>\n",
       "    <tr>\n",
       "      <th>4</th>\n",
       "      <td>Kalutara</td>\n",
       "      <td>128.65588</td>\n",
       "      <td>4628</td>\n",
       "      <td>2024</td>\n",
       "      <td>2017</td>\n",
       "      <td>Western</td>\n",
       "    </tr>\n",
       "  </tbody>\n",
       "</table>\n",
       "</div>"
      ],
      "text/plain": [
       "      Location      Price  Mileage  Published_Year  Manufactured_Year  \\\n",
       "0  Bandaragama    5.00000    39000            2024               2017   \n",
       "1      Gampaha    5.78000    30000            2024               2018   \n",
       "2       Matara    5.65000    15250            2024               2017   \n",
       "3  Anuradapura    5.35000    44444            2024               2018   \n",
       "4     Kalutara  128.65588     4628            2024               2017   \n",
       "\n",
       "        Province  \n",
       "0        Western  \n",
       "1        Western  \n",
       "2       Southern  \n",
       "3  North Central  \n",
       "4        Western  "
      ]
     },
     "execution_count": 336,
     "metadata": {},
     "output_type": "execute_result"
    }
   ],
   "source": [
    "dio.head()"
   ]
  },
  {
   "cell_type": "markdown",
   "metadata": {},
   "source": [
    "### Deleting Location from data frame"
   ]
  },
  {
   "cell_type": "code",
   "execution_count": 337,
   "metadata": {},
   "outputs": [],
   "source": [
    "dio.drop([\"Location\"],axis=1,inplace=True)"
   ]
  },
  {
   "cell_type": "markdown",
   "metadata": {},
   "source": [
    "### Get statistical summrized details of dataframe (dio1)"
   ]
  },
  {
   "cell_type": "code",
   "execution_count": 338,
   "metadata": {},
   "outputs": [
    {
     "data": {
      "text/plain": [
       "array(['Western', 'Southern', 'North Central', 'Central', 'North Western',\n",
       "       'Sabaragamuwa', 'Northern', 'Uva', 'Eastern'], dtype=object)"
      ]
     },
     "execution_count": 338,
     "metadata": {},
     "output_type": "execute_result"
    }
   ],
   "source": [
    "dio[\"Province\"].unique()"
   ]
  },
  {
   "cell_type": "code",
   "execution_count": 339,
   "metadata": {},
   "outputs": [
    {
     "data": {
      "text/html": [
       "<div>\n",
       "<style scoped>\n",
       "    .dataframe tbody tr th:only-of-type {\n",
       "        vertical-align: middle;\n",
       "    }\n",
       "\n",
       "    .dataframe tbody tr th {\n",
       "        vertical-align: top;\n",
       "    }\n",
       "\n",
       "    .dataframe thead th {\n",
       "        text-align: right;\n",
       "    }\n",
       "</style>\n",
       "<table border=\"1\" class=\"dataframe\">\n",
       "  <thead>\n",
       "    <tr style=\"text-align: right;\">\n",
       "      <th></th>\n",
       "      <th>Price</th>\n",
       "      <th>Mileage</th>\n",
       "      <th>Published_Year</th>\n",
       "      <th>Manufactured_Year</th>\n",
       "    </tr>\n",
       "  </thead>\n",
       "  <tbody>\n",
       "    <tr>\n",
       "      <th>count</th>\n",
       "      <td>1148.000000</td>\n",
       "      <td>1.878000e+03</td>\n",
       "      <td>1878.000000</td>\n",
       "      <td>1878.000000</td>\n",
       "    </tr>\n",
       "    <tr>\n",
       "      <th>mean</th>\n",
       "      <td>11.751895</td>\n",
       "      <td>1.766338e+06</td>\n",
       "      <td>2023.396166</td>\n",
       "      <td>2016.940362</td>\n",
       "    </tr>\n",
       "    <tr>\n",
       "      <th>std</th>\n",
       "      <td>231.584462</td>\n",
       "      <td>5.635385e+06</td>\n",
       "      <td>0.489230</td>\n",
       "      <td>2.072645</td>\n",
       "    </tr>\n",
       "    <tr>\n",
       "      <th>min</th>\n",
       "      <td>1.100000</td>\n",
       "      <td>1.000000e+00</td>\n",
       "      <td>2023.000000</td>\n",
       "      <td>2009.000000</td>\n",
       "    </tr>\n",
       "    <tr>\n",
       "      <th>25%</th>\n",
       "      <td>4.100000</td>\n",
       "      <td>2.400000e+04</td>\n",
       "      <td>2023.000000</td>\n",
       "      <td>2016.000000</td>\n",
       "    </tr>\n",
       "    <tr>\n",
       "      <th>50%</th>\n",
       "      <td>4.700000</td>\n",
       "      <td>3.200000e+04</td>\n",
       "      <td>2023.000000</td>\n",
       "      <td>2017.000000</td>\n",
       "    </tr>\n",
       "    <tr>\n",
       "      <th>75%</th>\n",
       "      <td>5.400000</td>\n",
       "      <td>4.500000e+04</td>\n",
       "      <td>2024.000000</td>\n",
       "      <td>2018.000000</td>\n",
       "    </tr>\n",
       "    <tr>\n",
       "      <th>max</th>\n",
       "      <td>7850.028690</td>\n",
       "      <td>2.024013e+07</td>\n",
       "      <td>2024.000000</td>\n",
       "      <td>2020.000000</td>\n",
       "    </tr>\n",
       "  </tbody>\n",
       "</table>\n",
       "</div>"
      ],
      "text/plain": [
       "             Price       Mileage  Published_Year  Manufactured_Year\n",
       "count  1148.000000  1.878000e+03     1878.000000        1878.000000\n",
       "mean     11.751895  1.766338e+06     2023.396166        2016.940362\n",
       "std     231.584462  5.635385e+06        0.489230           2.072645\n",
       "min       1.100000  1.000000e+00     2023.000000        2009.000000\n",
       "25%       4.100000  2.400000e+04     2023.000000        2016.000000\n",
       "50%       4.700000  3.200000e+04     2023.000000        2017.000000\n",
       "75%       5.400000  4.500000e+04     2024.000000        2018.000000\n",
       "max    7850.028690  2.024013e+07     2024.000000        2020.000000"
      ]
     },
     "execution_count": 339,
     "metadata": {},
     "output_type": "execute_result"
    }
   ],
   "source": [
    "dio.describe()"
   ]
  },
  {
   "cell_type": "markdown",
   "metadata": {},
   "source": [
    "* Here also represt Price contain with some null values\n",
    "* Also here price contained impossible Honda Dio price as max_price = 7850 lakhs (We eill ckeck it)\n",
    "* Also as result of it average price of the dio price becomes 11 lakhs\n",
    "* Also Mileage maximum mileage is approximately 202,000,00 KM (it is impossible we will check and resolve it)"
   ]
  },
  {
   "cell_type": "markdown",
   "metadata": {},
   "source": [
    "#### Here we check the reason of price become null; it reason is in riyasewana some dio scooty price taken as Negotible. For that we will manage that missing values\n",
    "\n",
    "average price in 2024\n",
    "* 2009 - 225000\n",
    "* 2010 - 260000\n",
    "* 2011 - 280000\n",
    "* 2012 - 325000\n",
    "* 2013 - 355000\n",
    "* 2014 - 385000\n",
    "* 2015 - 420000\n",
    "* 2016 - 455000\n",
    "* 2017 - 495000\n",
    "* 2018 - 550000\n",
    "* 2019 - 600000\n",
    "* 2020 - 640000\n"
   ]
  },
  {
   "cell_type": "code",
   "execution_count": 340,
   "metadata": {},
   "outputs": [
    {
     "data": {
      "text/plain": [
       "array([2019, 2020, 2016, 2018, 2017, 2015, 2014, 2013, 2011, 2012])"
      ]
     },
     "execution_count": 340,
     "metadata": {},
     "output_type": "execute_result"
    }
   ],
   "source": [
    "filtered_dio = dio[dio[\"Price\"].isnull()]\n",
    "\n",
    "# Select the columns Price and Manufactured_Year\n",
    "result = filtered_dio[[\"Price\", \"Manufactured_Year\"]]\n",
    "result[\"Manufactured_Year\"].unique()"
   ]
  },
  {
   "cell_type": "code",
   "execution_count": 341,
   "metadata": {},
   "outputs": [],
   "source": [
    "price_replacements = {\n",
    "    2009: 2.25,\n",
    "    2010: 2.6,\n",
    "    2011: 2.8,\n",
    "    2012: 3.25,\n",
    "    2013: 3.55,\n",
    "    2014: 3.85,\n",
    "    2015: 4.2,\n",
    "    2016: 4.55,\n",
    "    2017: 4.95,\n",
    "    2018: 5.5,\n",
    "    2019: 6,\n",
    "    2020: 6.4\n",
    "}\n",
    "\n",
    "# Function to replace null values based on Manufactured_Year\n",
    "def replace_null_price(row):\n",
    "    if pd.isnull(row['Price']):\n",
    "        return price_replacements.get(row['Manufactured_Year'], row['Price'])\n",
    "    return row['Price']\n",
    "\n",
    "# Apply the function to the Price column\n",
    "dio['Price'] = dio.apply(replace_null_price, axis=1)"
   ]
  },
  {
   "cell_type": "code",
   "execution_count": 342,
   "metadata": {},
   "outputs": [
    {
     "data": {
      "text/plain": [
       "0"
      ]
     },
     "execution_count": 342,
     "metadata": {},
     "output_type": "execute_result"
    }
   ],
   "source": [
    "dio[\"Price\"].isnull().sum()"
   ]
  },
  {
   "cell_type": "code",
   "execution_count": 343,
   "metadata": {},
   "outputs": [
    {
     "data": {
      "image/png": "[encoded data removed]",
      "text/plain": [
       "<Figure size 1600x600 with 1 Axes>"
      ]
     },
     "metadata": {},
     "output_type": "display_data"
    }
   ],
   "source": [
    "# Group by 'Manufactured_Year' and calculate the average price for each year\n",
    "average_price_by_year = dio.groupby('Manufactured_Year')['Price'].mean().reset_index()\n",
    "\n",
    "# Plotting the line chart\n",
    "plt.figure(figsize=(16, 6))\n",
    "plt.plot(average_price_by_year['Manufactured_Year'], average_price_by_year['Price'], marker='o')\n",
    "\n",
    "# Annotate each data point with its average price\n",
    "for i in range(len(average_price_by_year)):\n",
    "    plt.text(average_price_by_year['Manufactured_Year'][i], average_price_by_year['Price'][i],\n",
    "             f\"{average_price_by_year['Price'][i]:.2f}\", fontsize=12, ha='right')\n",
    "\n",
    "plt.title('Average Price by Manufactured Year')\n",
    "plt.xlabel('Manufactured Year')\n",
    "plt.ylabel('Price (in Rs.)')\n",
    "plt.grid(True)\n",
    "plt.xticks(average_price_by_year['Manufactured_Year'])  # Ensure all years are shown on the x-axis\n",
    "plt.show()"
   ]
  },
  {
   "cell_type": "code",
   "execution_count": 344,
   "metadata": {},
   "outputs": [
    {
     "data": {
      "image/png": "[encoded data removed]",
      "text/plain": [
       "<Figure size 1200x600 with 1 Axes>"
      ]
     },
     "metadata": {},
     "output_type": "display_data"
    },
    {
     "data": {
      "image/png": "[encoded data removed]",
      "text/plain": [
       "<Figure size 1200x600 with 1 Axes>"
      ]
     },
     "metadata": {},
     "output_type": "display_data"
    },
    {
     "data": {
      "image/png": "[encoded data removed]",
      "text/plain": [
       "<Figure size 1200x600 with 1 Axes>"
      ]
     },
     "metadata": {},
     "output_type": "display_data"
    },
    {
     "data": {
      "image/png": "[encoded data removed]",
      "text/plain": [
       "<Figure size 1200x600 with 1 Axes>"
      ]
     },
     "metadata": {},
     "output_type": "display_data"
    },
    {
     "data": {
      "image/png": "[encoded data removed]",
      "text/plain": [
       "<Figure size 1200x600 with 1 Axes>"
      ]
     },
     "metadata": {},
     "output_type": "display_data"
    },
    {
     "data": {
      "image/png": "[encoded data removed]",
      "text/plain": [
       "<Figure size 1200x600 with 1 Axes>"
      ]
     },
     "metadata": {},
     "output_type": "display_data"
    },
    {
     "data": {
      "image/png": "[encoded data removed]",
      "text/plain": [
       "<Figure size 1200x600 with 1 Axes>"
      ]
     },
     "metadata": {},
     "output_type": "display_data"
    },
    {
     "data": {
      "image/png": "[encoded data removed]",
      "text/plain": [
       "<Figure size 1200x600 with 1 Axes>"
      ]
     },
     "metadata": {},
     "output_type": "display_data"
    },
    {
     "data": {
      "image/png": "[encoded data removed]",
      "text/plain": [
       "<Figure size 1200x600 with 1 Axes>"
      ]
     },
     "metadata": {},
     "output_type": "display_data"
    },
    {
     "data": {
      "image/png": "[encoded data removed]",
      "text/plain": [
       "<Figure size 1200x600 with 1 Axes>"
      ]
     },
     "metadata": {},
     "output_type": "display_data"
    },
    {
     "data": {
      "image/png": "[encoded data removed]",
      "text/plain": [
       "<Figure size 1200x600 with 1 Axes>"
      ]
     },
     "metadata": {},
     "output_type": "display_data"
    },
    {
     "data": {
      "image/png": "[encoded data removed]",
      "text/plain": [
       "<Figure size 1200x600 with 1 Axes>"
      ]
     },
     "metadata": {},
     "output_type": "display_data"
    }
   ],
   "source": [
    "\n",
    "\n",
    "# Get unique years\n",
    "unique_years = dio['Manufactured_Year'].unique()\n",
    "\n",
    "# Loop through each unique year and plot the boxplot\n",
    "for year in unique_years:\n",
    "    plt.figure(figsize=(12, 6))\n",
    "    sns.boxplot(x='Manufactured_Year', y='Price', data=dio[dio['Manufactured_Year'] == year])\n",
    "    plt.title(f'Price Distribution for Manufactured Year {year}')\n",
    "    plt.xlabel('Manufactured Year')\n",
    "    plt.ylabel('Price (in Rs.)')\n",
    "    plt.xticks(rotation=45)\n",
    "    plt.show()"
   ]
  },
  {
   "cell_type": "markdown",
   "metadata": {},
   "source": [
    "# Price"
   ]
  },
  {
   "cell_type": "markdown",
   "metadata": {},
   "source": [
    "### 2010 DIO Price"
   ]
  },
  {
   "cell_type": "code",
   "execution_count": 345,
   "metadata": {},
   "outputs": [
    {
     "name": "stdout",
     "output_type": "stream",
     "text": [
      "Q1 for Price (2010) :- 1.75\n",
      "Q3 for Price (2010) :- 1.9\n",
      "IQR for Price (2010) :- 0.1499999999999999\n",
      "Lower Bound for Price (2010) is:- 1.5250000000000001\n",
      "Upper Bound for Price (2010) is:- 2.125\n"
     ]
    }
   ],
   "source": [
    "dio_2010 = dio[dio['Manufactured_Year'] == 2010]\n",
    "# Calculate Q1, Q3, and IQR for the 'Price' column in the filtered DataFrame\n",
    "Q1_price_2010 = dio_2010['Price'].quantile(0.25)\n",
    "Q3_price_2010 = dio_2010['Price'].quantile(0.75)\n",
    "IQR_price_2010 = Q3_price_2010 - Q1_price_2010\n",
    "\n",
    "print(\"Q1 for Price (2010) :-\", Q1_price_2010)\n",
    "print(\"Q3 for Price (2010) :-\", Q3_price_2010)\n",
    "print(\"IQR for Price (2010) :-\", IQR_price_2010)\n",
    "\n",
    "# Define the upper and lower bounds to identify outliers for the 'Price' column in 2017\n",
    "lower_bound_price_2010 = Q1_price_2010 - 1.5 * IQR_price_2010\n",
    "upper_bound_price_2010 = Q3_price_2010 + 1.5 * IQR_price_2010\n",
    "\n",
    "print(\"Lower Bound for Price (2010) is:-\", lower_bound_price_2010)\n",
    "print(\"Upper Bound for Price (2010) is:-\", upper_bound_price_2010)"
   ]
  },
  {
   "cell_type": "code",
   "execution_count": 346,
   "metadata": {},
   "outputs": [
    {
     "name": "stdout",
     "output_type": "stream",
     "text": [
      "     Price  Mileage  Published_Year  Manufactured_Year      Province\n",
      "513   1.50       56            2024               2010  Sabaragamuwa\n",
      "752   1.49    41000            2024               2010      Southern\n"
     ]
    }
   ],
   "source": [
    "# Filter the DataFrame based on the conditions\n",
    "filtered_dio = dio[(dio['Manufactured_Year'] == 2010) & (dio['Price'] < 1.525)]\n",
    "\n",
    "# Display the filtered DataFrame\n",
    "print(filtered_dio)"
   ]
  },
  {
   "cell_type": "code",
   "execution_count": 347,
   "metadata": {},
   "outputs": [],
   "source": [
    "dio = dio.drop(dio[(dio['Manufactured_Year'] == 2010) & (dio['Price'] < 1.7)].index)"
   ]
  },
  {
   "cell_type": "code",
   "execution_count": 348,
   "metadata": {},
   "outputs": [
    {
     "name": "stdout",
     "output_type": "stream",
     "text": [
      "Empty DataFrame\n",
      "Columns: [Price, Mileage, Published_Year, Manufactured_Year, Province]\n",
      "Index: []\n"
     ]
    }
   ],
   "source": [
    "# Filter the DataFrame based on the conditions\n",
    "filtered_dio = dio[(dio['Manufactured_Year'] == 2010) & (dio['Price'] >2.125)]\n",
    "\n",
    "# Display the filtered DataFrame\n",
    "print(filtered_dio)"
   ]
  },
  {
   "cell_type": "markdown",
   "metadata": {},
   "source": [
    "### 2012 DIO Price"
   ]
  },
  {
   "cell_type": "code",
   "execution_count": 349,
   "metadata": {},
   "outputs": [
    {
     "name": "stdout",
     "output_type": "stream",
     "text": [
      "Q1 for Price (2012) :- 2.4125\n",
      "Q3 for Price (2012) :- 3.25\n",
      "IQR for Price (2012) :- 0.8374999999999999\n",
      "Lower Bound for Price (2012) is:- 1.1562500000000002\n",
      "Upper Bound for Price (2012) is:- 4.50625\n"
     ]
    }
   ],
   "source": [
    "dio_2012 = dio[dio['Manufactured_Year'] == 2012]\n",
    "\n",
    "# Calculate Q1, Q3, and IQR for the 'Price' column in the filtered DataFrame\n",
    "Q1_price_2012 = dio_2012['Price'].quantile(0.25)\n",
    "Q3_price_2012 = dio_2012['Price'].quantile(0.75)\n",
    "IQR_price_2012 = Q3_price_2012 - Q1_price_2012\n",
    "\n",
    "print(\"Q1 for Price (2012) :-\", Q1_price_2012)\n",
    "print(\"Q3 for Price (2012) :-\", Q3_price_2012)\n",
    "print(\"IQR for Price (2012) :-\", IQR_price_2012)\n",
    "\n",
    "# Define the upper and lower bounds to identify outliers for the 'Price' column in 2012\n",
    "lower_bound_price_2012 = Q1_price_2012 - 1.5 * IQR_price_2012\n",
    "upper_bound_price_2012 = Q3_price_2012 + 1.5 * IQR_price_2012\n",
    "\n",
    "print(\"Lower Bound for Price (2012) is:-\", lower_bound_price_2012)\n",
    "print(\"Upper Bound for Price (2012) is:-\", upper_bound_price_2012)\n"
   ]
  },
  {
   "cell_type": "code",
   "execution_count": 350,
   "metadata": {},
   "outputs": [
    {
     "name": "stdout",
     "output_type": "stream",
     "text": [
      "     Price  Mileage  Published_Year  Manufactured_Year Province\n",
      "194   22.0     1234            2024               2012  Western\n"
     ]
    }
   ],
   "source": [
    "# Filter the DataFrame based on the conditions\n",
    "filtered_dio = dio[(dio['Manufactured_Year'] == 2012) & (dio['Price'] >  4.50625)]\n",
    "\n",
    "# Display the filtered DataFrame\n",
    "print(filtered_dio)"
   ]
  },
  {
   "cell_type": "code",
   "execution_count": 351,
   "metadata": {},
   "outputs": [
    {
     "name": "stdout",
     "output_type": "stream",
     "text": [
      "          Price  Mileage  Published_Year  Manufactured_Year       Province\n",
      "0       5.00000    39000            2024               2017        Western\n",
      "1       5.78000    30000            2024               2018        Western\n",
      "2       5.65000    15250            2024               2017       Southern\n",
      "3       5.35000    44444            2024               2018  North Central\n",
      "4     128.65588     4628            2024               2017        Western\n",
      "...         ...      ...             ...                ...            ...\n",
      "1902    6.40000    19625            2023               2020        Western\n",
      "1903    3.55000    29800            2023               2015        Western\n",
      "1904    4.75000    37000            2023               2017  North Western\n",
      "1905    4.00000    37800            2023               2015  North Western\n",
      "1906    5.10000    41500            2023               2018  North Western\n",
      "\n",
      "[1875 rows x 5 columns]\n"
     ]
    }
   ],
   "source": [
    "dio = dio.drop(dio[(dio['Manufactured_Year'] == 2012) & (dio['Price'] >  4.50625)].index)\n",
    "\n",
    "# Display the modified DataFrame\n",
    "print(dio)"
   ]
  },
  {
   "cell_type": "code",
   "execution_count": 352,
   "metadata": {},
   "outputs": [
    {
     "name": "stdout",
     "output_type": "stream",
     "text": [
      "      Price  Mileage  Published_Year  Manufactured_Year Province\n",
      "1166   1.15    12345            2023               2012  Western\n"
     ]
    }
   ],
   "source": [
    "# Filter the DataFrame based on the conditions\n",
    "filtered_dio = dio[(dio['Manufactured_Year'] == 2012) & (dio['Price'] < 1.1562500000000002)]\n",
    "\n",
    "# Display the filtered DataFrame\n",
    "print(filtered_dio)\n",
    "dio = dio.drop(dio[(dio['Manufactured_Year'] == 2012) & (dio['Price'] < 1.1562500000000002)].index)\n"
   ]
  },
  {
   "cell_type": "markdown",
   "metadata": {},
   "source": [
    "### 2013 DIO Price"
   ]
  },
  {
   "cell_type": "code",
   "execution_count": 353,
   "metadata": {},
   "outputs": [
    {
     "name": "stdout",
     "output_type": "stream",
     "text": [
      "Q1 for Price (2013) :- 3.4\n",
      "Q3 for Price (2013) :- 3.65\n",
      "IQR for Price (2013) :- 0.25\n",
      "Lower Bound for Price (2013) is:- 3.025\n",
      "Upper Bound for Price (2013) is:- 4.025\n"
     ]
    }
   ],
   "source": [
    "dio_2013 = dio[dio['Manufactured_Year'] == 2013]\n",
    "\n",
    "# Calculate Q1, Q3, and IQR for the 'Price' column in the filtered DataFrame\n",
    "Q1_price_2013 = dio_2013['Price'].quantile(0.25)\n",
    "Q3_price_2013 = dio_2013['Price'].quantile(0.75)\n",
    "IQR_price_2013 = Q3_price_2013 - Q1_price_2013\n",
    "\n",
    "print(\"Q1 for Price (2013) :-\", Q1_price_2013)\n",
    "print(\"Q3 for Price (2013) :-\", Q3_price_2013)\n",
    "print(\"IQR for Price (2013) :-\", IQR_price_2013)\n",
    "\n",
    "# Define the upper and lower bounds to identify outliers for the 'Price' column in 2013\n",
    "lower_bound_price_2013 = Q1_price_2013 - 1.5 * IQR_price_2013\n",
    "upper_bound_price_2013 = Q3_price_2013 + 1.5 * IQR_price_2013\n",
    "\n",
    "print(\"Lower Bound for Price (2013) is:-\", lower_bound_price_2013)\n",
    "print(\"Upper Bound for Price (2013) is:-\", upper_bound_price_2013)\n"
   ]
  },
  {
   "cell_type": "code",
   "execution_count": 354,
   "metadata": {},
   "outputs": [
    {
     "name": "stdout",
     "output_type": "stream",
     "text": [
      "      Price  Mileage  Published_Year  Manufactured_Year       Province\n",
      "266    4.05    52800            2024               2013        Western\n",
      "536    4.10    45000            2024               2013  North Western\n",
      "1008   4.10    55000            2023               2013  North Western\n"
     ]
    }
   ],
   "source": [
    "# Filter the DataFrame based on the conditions\n",
    "filtered_dio = dio[(dio['Manufactured_Year'] == 2013) & (dio['Price'] > 4.025)]\n",
    "\n",
    "# Display the filtered DataFrame\n",
    "print(filtered_dio)"
   ]
  },
  {
   "cell_type": "code",
   "execution_count": 355,
   "metadata": {},
   "outputs": [],
   "source": [
    "dio = dio.drop(dio[(dio['Manufactured_Year'] == 2013) & (dio['Price'] > 4.025)].index)"
   ]
  },
  {
   "cell_type": "code",
   "execution_count": 356,
   "metadata": {},
   "outputs": [
    {
     "name": "stdout",
     "output_type": "stream",
     "text": [
      "      Price  Mileage  Published_Year  Manufactured_Year       Province\n",
      "1252   1.25    31820            2023               2013  North Western\n",
      "1345   1.65    31864            2023               2013  North Western\n"
     ]
    }
   ],
   "source": [
    "# Filter the DataFrame based on the conditions\n",
    "filtered_dio = dio[(dio['Manufactured_Year'] == 2013) & (dio['Price'] <3.025 )]\n",
    "\n",
    "# Display the filtered DataFrame\n",
    "print(filtered_dio)"
   ]
  },
  {
   "cell_type": "code",
   "execution_count": 357,
   "metadata": {},
   "outputs": [],
   "source": [
    "dio = dio.drop(dio[(dio['Manufactured_Year'] == 2013) & (dio['Price'] < 3.025)].index)\n",
    "\n"
   ]
  },
  {
   "cell_type": "markdown",
   "metadata": {},
   "source": [
    "### 2014 DIO Price"
   ]
  },
  {
   "cell_type": "code",
   "execution_count": 358,
   "metadata": {},
   "outputs": [
    {
     "name": "stdout",
     "output_type": "stream",
     "text": [
      "Q1 for Price (2014) :- 3.645\n",
      "Q3 for Price (2014) :- 3.85\n",
      "IQR for Price (2014) :- 0.20500000000000007\n",
      "Lower Bound for Price (2014) is:- 3.3375\n",
      "Upper Bound for Price (2014) is:- 4.157500000000001\n"
     ]
    }
   ],
   "source": [
    "dio_2014 = dio[dio['Manufactured_Year'] == 2014]\n",
    "\n",
    "# Calculate Q1, Q3, and IQR for the 'Price' column in the filtered DataFrame\n",
    "Q1_price_2014 = dio_2014['Price'].quantile(0.25)\n",
    "Q3_price_2014 = dio_2014['Price'].quantile(0.75)\n",
    "IQR_price_2014 = Q3_price_2014 - Q1_price_2014\n",
    "\n",
    "print(\"Q1 for Price (2014) :-\", Q1_price_2014)\n",
    "print(\"Q3 for Price (2014) :-\", Q3_price_2014)\n",
    "print(\"IQR for Price (2014) :-\", IQR_price_2014)\n",
    "\n",
    "# Define the upper and lower bounds to identify outliers for the 'Price' column in 2014\n",
    "lower_bound_price_2014 = Q1_price_2014 - 1.5 * IQR_price_2014\n",
    "upper_bound_price_2014 = Q3_price_2014 + 1.5 * IQR_price_2014\n",
    "\n",
    "print(\"Lower Bound for Price (2014) is:-\", lower_bound_price_2014)\n",
    "print(\"Upper Bound for Price (2014) is:-\", upper_bound_price_2014)\n"
   ]
  },
  {
   "cell_type": "code",
   "execution_count": 359,
   "metadata": {},
   "outputs": [
    {
     "name": "stdout",
     "output_type": "stream",
     "text": [
      "      Price  Mileage  Published_Year  Manufactured_Year       Province\n",
      "93      4.4    52458            2024               2014  North Western\n",
      "219     4.4    25000            2024               2014        Central\n",
      "690     4.5    35000            2024               2014   Sabaragamuwa\n",
      "1308    6.0    71000            2023               2014       Southern\n"
     ]
    }
   ],
   "source": [
    "# Filter the DataFrame based on the conditions\n",
    "filtered_dio = dio[(dio['Manufactured_Year'] == 2014) & (dio['Price'] > 4.157500000000001)]\n",
    "\n",
    "# Display the filtered DataFrame\n",
    "print(filtered_dio)"
   ]
  },
  {
   "cell_type": "code",
   "execution_count": 360,
   "metadata": {},
   "outputs": [],
   "source": [
    "dio = dio.drop(dio[(dio['Manufactured_Year'] == 2014) & (dio['Price'] > 4.5)].index)\n"
   ]
  },
  {
   "cell_type": "code",
   "execution_count": 361,
   "metadata": {},
   "outputs": [
    {
     "name": "stdout",
     "output_type": "stream",
     "text": [
      "      Price  Mileage  Published_Year  Manufactured_Year Province\n",
      "863    3.23    65000            2023               2014  Western\n",
      "1148   3.30    49000            2023               2014  Western\n"
     ]
    }
   ],
   "source": [
    "# Filter the DataFrame based on the conditions\n",
    "filtered_dio = dio[(dio['Manufactured_Year'] == 2014) & (dio['Price'] < 3.3375)]\n",
    "\n",
    "# Display the filtered DataFrame\n",
    "print(filtered_dio)"
   ]
  },
  {
   "cell_type": "code",
   "execution_count": 362,
   "metadata": {},
   "outputs": [],
   "source": [
    "dio = dio.drop(dio[(dio['Manufactured_Year'] == 2014) & (dio['Price'] < 3.3375)].index)\n"
   ]
  },
  {
   "cell_type": "markdown",
   "metadata": {},
   "source": [
    "### 2015 DIO Price"
   ]
  },
  {
   "cell_type": "code",
   "execution_count": 363,
   "metadata": {},
   "outputs": [
    {
     "name": "stdout",
     "output_type": "stream",
     "text": [
      "Q1 for Price (2015) :- 4.0\n",
      "Q3 for Price (2015) :- 4.2\n",
      "IQR for Price (2015) :- 0.20000000000000018\n",
      "Lower Bound for Price (2015) is:- 3.6999999999999997\n",
      "Upper Bound for Price (2015) is:- 4.5\n"
     ]
    }
   ],
   "source": [
    "dio_2015 = dio[dio['Manufactured_Year'] == 2015]\n",
    "\n",
    "# Calculate Q1, Q3, and IQR for the 'Price' column in the filtered DataFrame\n",
    "Q1_price_2015 = dio_2015['Price'].quantile(0.25)\n",
    "Q3_price_2015 = dio_2015['Price'].quantile(0.75)\n",
    "IQR_price_2015 = Q3_price_2015 - Q1_price_2015\n",
    "\n",
    "print(\"Q1 for Price (2015) :-\", Q1_price_2015)\n",
    "print(\"Q3 for Price (2015) :-\", Q3_price_2015)\n",
    "print(\"IQR for Price (2015) :-\", IQR_price_2015)\n",
    "\n",
    "# Define the upper and lower bounds to identify outliers for the 'Price' column in 2015\n",
    "lower_bound_price_2015 = Q1_price_2015 - 1.5 * IQR_price_2015\n",
    "upper_bound_price_2015 = Q3_price_2015 + 1.5 * IQR_price_2015\n",
    "\n",
    "print(\"Lower Bound for Price (2015) is:-\", lower_bound_price_2015)\n",
    "print(\"Upper Bound for Price (2015) is:-\", upper_bound_price_2015)\n"
   ]
  },
  {
   "cell_type": "code",
   "execution_count": 364,
   "metadata": {},
   "outputs": [
    {
     "name": "stdout",
     "output_type": "stream",
     "text": [
      "           Price  Mileage  Published_Year  Manufactured_Year  Province\n",
      "1058  7850.02869    35000            2023               2015  Southern\n"
     ]
    }
   ],
   "source": [
    "# Filter the DataFrame based on the conditions\n",
    "filtered_dio = dio[(dio['Manufactured_Year'] == 2015) & (dio['Price'] > 5)]\n",
    "\n",
    "# Display the filtered DataFrame\n",
    "print(filtered_dio)"
   ]
  },
  {
   "cell_type": "code",
   "execution_count": 365,
   "metadata": {},
   "outputs": [],
   "source": [
    "dio = dio.drop(dio[(dio['Manufactured_Year'] == 2015) & (dio['Price'] > 5)].index)"
   ]
  },
  {
   "cell_type": "code",
   "execution_count": 366,
   "metadata": {},
   "outputs": [],
   "source": [
    "# Filter the DataFrame based on the conditions\n",
    "filtered_dio = dio[(dio['Manufactured_Year'] == 2015) & (dio['Price'] < 3.5)]\n"
   ]
  },
  {
   "cell_type": "markdown",
   "metadata": {},
   "source": [
    "### 2016 DIO Price\n"
   ]
  },
  {
   "cell_type": "code",
   "execution_count": 367,
   "metadata": {},
   "outputs": [
    {
     "name": "stdout",
     "output_type": "stream",
     "text": [
      "Q1 for Price (2016) :- 4.2\n",
      "Q3 for Price (2016) :- 4.55\n",
      "IQR for Price (2016) :- 0.34999999999999964\n",
      "Lower Bound for Price (2016) is:- 3.6750000000000007\n",
      "Upper Bound for Price (2016) is:- 5.074999999999999\n"
     ]
    }
   ],
   "source": [
    "dio_2016 = dio[dio['Manufactured_Year'] == 2016]\n",
    "\n",
    "# Calculate Q1, Q3, and IQR for the 'Price' column in the filtered DataFrame\n",
    "Q1_price_2016 = dio_2016['Price'].quantile(0.25)\n",
    "Q3_price_2016 = dio_2016['Price'].quantile(0.75)\n",
    "IQR_price_2016 = Q3_price_2016 - Q1_price_2016\n",
    "\n",
    "print(\"Q1 for Price (2016) :-\", Q1_price_2016)\n",
    "print(\"Q3 for Price (2016) :-\", Q3_price_2016)\n",
    "print(\"IQR for Price (2016) :-\", IQR_price_2016)\n",
    "\n",
    "# Define the upper and lower bounds to identify outliers for the 'Price' column in 2016\n",
    "lower_bound_price_2016 = Q1_price_2016 - 1.5 * IQR_price_2016\n",
    "upper_bound_price_2016 = Q3_price_2016 + 1.5 * IQR_price_2016\n",
    "\n",
    "print(\"Lower Bound for Price (2016) is:-\", lower_bound_price_2016)\n",
    "print(\"Upper Bound for Price (2016) is:-\", upper_bound_price_2016)\n"
   ]
  },
  {
   "cell_type": "code",
   "execution_count": 368,
   "metadata": {},
   "outputs": [
    {
     "data": {
      "text/html": [
       "<div>\n",
       "<style scoped>\n",
       "    .dataframe tbody tr th:only-of-type {\n",
       "        vertical-align: middle;\n",
       "    }\n",
       "\n",
       "    .dataframe tbody tr th {\n",
       "        vertical-align: top;\n",
       "    }\n",
       "\n",
       "    .dataframe thead th {\n",
       "        text-align: right;\n",
       "    }\n",
       "</style>\n",
       "<table border=\"1\" class=\"dataframe\">\n",
       "  <thead>\n",
       "    <tr style=\"text-align: right;\">\n",
       "      <th></th>\n",
       "      <th>Price</th>\n",
       "      <th>Mileage</th>\n",
       "      <th>Published_Year</th>\n",
       "      <th>Manufactured_Year</th>\n",
       "      <th>Province</th>\n",
       "    </tr>\n",
       "  </thead>\n",
       "  <tbody>\n",
       "    <tr>\n",
       "      <th>788</th>\n",
       "      <td>42.50</td>\n",
       "      <td>54500</td>\n",
       "      <td>2023</td>\n",
       "      <td>2016</td>\n",
       "      <td>North Western</td>\n",
       "    </tr>\n",
       "    <tr>\n",
       "      <th>1168</th>\n",
       "      <td>40.15</td>\n",
       "      <td>20231206</td>\n",
       "      <td>2023</td>\n",
       "      <td>2016</td>\n",
       "      <td>Western</td>\n",
       "    </tr>\n",
       "  </tbody>\n",
       "</table>\n",
       "</div>"
      ],
      "text/plain": [
       "      Price   Mileage  Published_Year  Manufactured_Year       Province\n",
       "788   42.50     54500            2023               2016  North Western\n",
       "1168  40.15  20231206            2023               2016        Western"
      ]
     },
     "execution_count": 368,
     "metadata": {},
     "output_type": "execute_result"
    }
   ],
   "source": [
    "# Filter the DataFrame based on the conditions\n",
    "filtered_dio = dio[(dio['Manufactured_Year'] == 2016) & (dio['Price'] > 5.074999999999999)]\n",
    "filtered_dio"
   ]
  },
  {
   "cell_type": "code",
   "execution_count": 369,
   "metadata": {},
   "outputs": [],
   "source": [
    "dio = dio.drop(dio[(dio['Manufactured_Year'] == 2016) & (dio['Price'] > 5.074999999999999)].index)"
   ]
  },
  {
   "cell_type": "code",
   "execution_count": 370,
   "metadata": {},
   "outputs": [
    {
     "data": {
      "text/html": [
       "<div>\n",
       "<style scoped>\n",
       "    .dataframe tbody tr th:only-of-type {\n",
       "        vertical-align: middle;\n",
       "    }\n",
       "\n",
       "    .dataframe tbody tr th {\n",
       "        vertical-align: top;\n",
       "    }\n",
       "\n",
       "    .dataframe thead th {\n",
       "        text-align: right;\n",
       "    }\n",
       "</style>\n",
       "<table border=\"1\" class=\"dataframe\">\n",
       "  <thead>\n",
       "    <tr style=\"text-align: right;\">\n",
       "      <th></th>\n",
       "      <th>Price</th>\n",
       "      <th>Mileage</th>\n",
       "      <th>Published_Year</th>\n",
       "      <th>Manufactured_Year</th>\n",
       "      <th>Province</th>\n",
       "    </tr>\n",
       "  </thead>\n",
       "  <tbody>\n",
       "    <tr>\n",
       "      <th>1000</th>\n",
       "      <td>1.3</td>\n",
       "      <td>2222</td>\n",
       "      <td>2023</td>\n",
       "      <td>2016</td>\n",
       "      <td>Western</td>\n",
       "    </tr>\n",
       "    <tr>\n",
       "      <th>1690</th>\n",
       "      <td>2.6</td>\n",
       "      <td>26000</td>\n",
       "      <td>2023</td>\n",
       "      <td>2016</td>\n",
       "      <td>North Western</td>\n",
       "    </tr>\n",
       "  </tbody>\n",
       "</table>\n",
       "</div>"
      ],
      "text/plain": [
       "      Price  Mileage  Published_Year  Manufactured_Year       Province\n",
       "1000    1.3     2222            2023               2016        Western\n",
       "1690    2.6    26000            2023               2016  North Western"
      ]
     },
     "execution_count": 370,
     "metadata": {},
     "output_type": "execute_result"
    }
   ],
   "source": [
    "# Filter the DataFrame based on the conditions\n",
    "filtered_dio = dio[(dio['Manufactured_Year'] == 2016) & (dio['Price'] <3.6750000000000007)]\n",
    "filtered_dio"
   ]
  },
  {
   "cell_type": "code",
   "execution_count": 371,
   "metadata": {},
   "outputs": [],
   "source": [
    "dio = dio.drop(dio[(dio['Manufactured_Year'] == 2016) & (dio['Price'] < 3.6750000000000007)].index)"
   ]
  },
  {
   "cell_type": "markdown",
   "metadata": {},
   "source": [
    "### 2017 DIO Price"
   ]
  },
  {
   "cell_type": "code",
   "execution_count": 372,
   "metadata": {},
   "outputs": [
    {
     "name": "stdout",
     "output_type": "stream",
     "text": [
      "Q1 for Price (2017) :- 4.6\n",
      "Q3 for Price (2017) :- 4.95\n",
      "IQR for Price (2017) :- 0.35000000000000053\n",
      "Lower Bound for Price (2017) is:- 4.074999999999999\n",
      "Upper Bound for Price (2017) is:- 5.475000000000001\n"
     ]
    }
   ],
   "source": [
    "dio_2017 = dio[dio['Manufactured_Year'] == 2017]\n",
    "\n",
    "# Calculate Q1, Q3, and IQR for the 'Price' column in the filtered DataFrame\n",
    "Q1_price_2017 = dio_2017['Price'].quantile(0.25)\n",
    "Q3_price_2017 = dio_2017['Price'].quantile(0.75)\n",
    "IQR_price_2017 = Q3_price_2017 - Q1_price_2017\n",
    "\n",
    "print(\"Q1 for Price (2017) :-\", Q1_price_2017)\n",
    "print(\"Q3 for Price (2017) :-\", Q3_price_2017)\n",
    "print(\"IQR for Price (2017) :-\", IQR_price_2017)\n",
    "\n",
    "# Define the upper and lower bounds to identify outliers for the 'Price' column in 2017\n",
    "lower_bound_price_2017 = Q1_price_2017 - 1.5 * IQR_price_2017\n",
    "upper_bound_price_2017 = Q3_price_2017 + 1.5 * IQR_price_2017\n",
    "\n",
    "print(\"Lower Bound for Price (2017) is:-\", lower_bound_price_2017)\n",
    "print(\"Upper Bound for Price (2017) is:-\", upper_bound_price_2017)\n"
   ]
  },
  {
   "cell_type": "code",
   "execution_count": 373,
   "metadata": {},
   "outputs": [
    {
     "name": "stdout",
     "output_type": "stream",
     "text": [
      "          Price  Mileage  Published_Year  Manufactured_Year       Province\n",
      "2       5.65000    15250            2024               2017       Southern\n",
      "4     128.65588     4628            2024               2017        Western\n",
      "751    12.34546    33000            2024               2017  North Western\n",
      "801     5.50000    27000            2023               2017       Southern\n",
      "814    47.50000   276000            2023               2017        Western\n",
      "892     5.60000    29000            2023               2017  North Central\n",
      "1832    5.50000    15425            2023               2017        Western\n"
     ]
    }
   ],
   "source": [
    "# Filter the DataFrame based on the conditions\n",
    "filtered_dio = dio[(dio['Manufactured_Year'] == 2017) & (dio['Price'] > 5.475000000000001)]\n",
    "\n",
    "# Display the filtered DataFrame\n",
    "print(filtered_dio)"
   ]
  },
  {
   "cell_type": "code",
   "execution_count": 374,
   "metadata": {},
   "outputs": [],
   "source": [
    "dio = dio.drop(dio[(dio['Manufactured_Year'] == 2017) & (dio['Price'] > 5.475000000000001)].index)\n"
   ]
  },
  {
   "cell_type": "code",
   "execution_count": 375,
   "metadata": {},
   "outputs": [
    {
     "name": "stdout",
     "output_type": "stream",
     "text": [
      "     Price  Mileage  Published_Year  Manufactured_Year Province\n",
      "520   1.38    28652            2024               2017  Western\n"
     ]
    }
   ],
   "source": [
    "# Filter the DataFrame based on the conditions\n",
    "filtered_dio = dio[(dio['Manufactured_Year'] == 2017) & (dio['Price'] < 4.074999999999999)]\n",
    "\n",
    "# Display the filtered DataFrame\n",
    "print(filtered_dio)"
   ]
  },
  {
   "cell_type": "code",
   "execution_count": 376,
   "metadata": {},
   "outputs": [],
   "source": [
    "dio = dio.drop(dio[(dio['Manufactured_Year'] == 2017) & (dio['Price'] < 4.074999999999999)].index)"
   ]
  },
  {
   "cell_type": "markdown",
   "metadata": {},
   "source": [
    "### 2018 DIO Price"
   ]
  },
  {
   "cell_type": "code",
   "execution_count": 377,
   "metadata": {},
   "outputs": [
    {
     "name": "stdout",
     "output_type": "stream",
     "text": [
      "Q1 for Price (2018) :- 5.15\n",
      "Q3 for Price (2018) :- 5.5\n",
      "IQR for Price (2018) :- 0.34999999999999964\n",
      "Lower Bound for Price (2018) is:- 4.625000000000001\n",
      "Upper Bound for Price (2018) is:- 6.0249999999999995\n"
     ]
    }
   ],
   "source": [
    "dio_2018 = dio[dio['Manufactured_Year'] == 2018]\n",
    "\n",
    "# Calculate Q1, Q3, and IQR for the 'Price' column in the filtered DataFrame\n",
    "Q1_price_2018 = dio_2018['Price'].quantile(0.25)\n",
    "Q3_price_2018 = dio_2018['Price'].quantile(0.75)\n",
    "IQR_price_2018 = Q3_price_2018 - Q1_price_2018\n",
    "\n",
    "print(\"Q1 for Price (2018) :-\", Q1_price_2018)\n",
    "print(\"Q3 for Price (2018) :-\", Q3_price_2018)\n",
    "print(\"IQR for Price (2018) :-\", IQR_price_2018)\n",
    "\n",
    "# Define the upper and lower bounds to identify outliers for the 'Price' column in 2018\n",
    "lower_bound_price_2018 = Q1_price_2018 - 1.5 * IQR_price_2018\n",
    "upper_bound_price_2018 = Q3_price_2018 + 1.5 * IQR_price_2018\n",
    "\n",
    "print(\"Lower Bound for Price (2018) is:-\", lower_bound_price_2018)\n",
    "print(\"Upper Bound for Price (2018) is:-\", upper_bound_price_2018)\n"
   ]
  },
  {
   "cell_type": "code",
   "execution_count": 378,
   "metadata": {},
   "outputs": [
    {
     "name": "stdout",
     "output_type": "stream",
     "text": [
      "     Price  Mileage  Published_Year  Manufactured_Year       Province\n",
      "86    6.35    34500            2024               2018       Southern\n",
      "153   6.10    50000            2024               2018        Western\n",
      "160   6.10    35000            2024               2018        Western\n",
      "195   6.50    24000            2024               2018  North Western\n",
      "944  46.50   530000            2023               2018        Western\n"
     ]
    }
   ],
   "source": [
    "# Filter the DataFrame based on the conditions\n",
    "filtered_dio = dio[(dio['Manufactured_Year'] == 2018) & (dio['Price'] > 6.0249999999999995)]\n",
    "\n",
    "# Display the filtered DataFrame\n",
    "print(filtered_dio)"
   ]
  },
  {
   "cell_type": "code",
   "execution_count": 379,
   "metadata": {},
   "outputs": [],
   "source": [
    "dio = dio.drop(dio[(dio['Manufactured_Year'] == 2018) & (dio['Price'] >6.5)].index)"
   ]
  },
  {
   "cell_type": "code",
   "execution_count": 380,
   "metadata": {},
   "outputs": [
    {
     "name": "stdout",
     "output_type": "stream",
     "text": [
      "      Price   Mileage  Published_Year  Manufactured_Year  Province\n",
      "818    2.50      2800            2023               2018   Western\n",
      "906    4.60     45000            2023               2018   Western\n",
      "934    4.45     45000            2023               2018   Western\n",
      "1145   4.40  20231207            2023               2018   Western\n",
      "1671   4.40     21119            2023               2018  Southern\n"
     ]
    }
   ],
   "source": [
    "# Filter the DataFrame based on the conditions\n",
    "filtered_dio = dio[(dio['Manufactured_Year'] == 2018) & (dio['Price'] <4.625000000000001)]\n",
    "\n",
    "# Display the filtered DataFrame\n",
    "print(filtered_dio)"
   ]
  },
  {
   "cell_type": "code",
   "execution_count": 381,
   "metadata": {},
   "outputs": [],
   "source": [
    "dio = dio.drop(dio[(dio['Manufactured_Year'] == 2018) & (dio['Price'] <4.625000000000001)].index)"
   ]
  },
  {
   "cell_type": "markdown",
   "metadata": {},
   "source": [
    "### 2019 DIO Price"
   ]
  },
  {
   "cell_type": "code",
   "execution_count": 382,
   "metadata": {},
   "outputs": [
    {
     "name": "stdout",
     "output_type": "stream",
     "text": [
      "Q1 for Price (2019) :- 5.65\n",
      "Q3 for Price (2019) :- 6.0\n",
      "IQR for Price (2019) :- 0.34999999999999964\n",
      "Lower Bound for Price (2019) is:- 5.125000000000001\n",
      "Upper Bound for Price (2019) is:- 6.5249999999999995\n"
     ]
    }
   ],
   "source": [
    "dio_2019 = dio[dio['Manufactured_Year'] == 2019]\n",
    "\n",
    "# Calculate Q1, Q3, and IQR for the 'Price' column in the filtered DataFrame\n",
    "Q1_price_2019 = dio_2019['Price'].quantile(0.25)\n",
    "Q3_price_2019 = dio_2019['Price'].quantile(0.75)\n",
    "IQR_price_2019 = Q3_price_2019 - Q1_price_2019\n",
    "\n",
    "print(\"Q1 for Price (2019) :-\", Q1_price_2019)\n",
    "print(\"Q3 for Price (2019) :-\", Q3_price_2019)\n",
    "print(\"IQR for Price (2019) :-\", IQR_price_2019)\n",
    "\n",
    "# Define the upper and lower bounds to identify outliers for the 'Price' column in 2019\n",
    "lower_bound_price_2019 = Q1_price_2019 - 1.5 * IQR_price_2019\n",
    "upper_bound_price_2019 = Q3_price_2019 + 1.5 * IQR_price_2019\n",
    "\n",
    "print(\"Lower Bound for Price (2019) is:-\", lower_bound_price_2019)\n",
    "print(\"Upper Bound for Price (2019) is:-\", upper_bound_price_2019)\n"
   ]
  },
  {
   "cell_type": "code",
   "execution_count": 383,
   "metadata": {},
   "outputs": [
    {
     "name": "stdout",
     "output_type": "stream",
     "text": [
      "      Price  Mileage  Published_Year  Manufactured_Year       Province\n",
      "70     7.59     8000            2024               2019  North Central\n",
      "96     6.53    22000            2024               2019        Central\n",
      "98     7.50     5940            2024               2019        Western\n",
      "770    7.05    14000            2023               2019       Southern\n",
      "1323   6.67    19500            2023               2019       Northern\n"
     ]
    }
   ],
   "source": [
    "# Filter the DataFrame based on the conditions\n",
    "filtered_dio = dio[(dio['Manufactured_Year'] == 2019) & (dio['Price'] > 6.5249999999999995)]\n",
    "\n",
    "# Display the filtered DataFrame\n",
    "print(filtered_dio)"
   ]
  },
  {
   "cell_type": "code",
   "execution_count": 384,
   "metadata": {},
   "outputs": [],
   "source": [
    "dio = dio.drop(dio[(dio['Manufactured_Year'] == 2019) & (dio['Price'] >6.5249999999999995)].index)"
   ]
  },
  {
   "cell_type": "code",
   "execution_count": 385,
   "metadata": {},
   "outputs": [
    {
     "name": "stdout",
     "output_type": "stream",
     "text": [
      "      Price  Mileage  Published_Year  Manufactured_Year       Province\n",
      "377    1.85    23152            2024               2019        Western\n",
      "1595   1.50    27000            2023               2019  North Western\n"
     ]
    }
   ],
   "source": [
    "# Filter the DataFrame based on the conditions\n",
    "filtered_dio = dio[(dio['Manufactured_Year'] == 2019) & (dio['Price'] <5.125000000000001)]\n",
    "\n",
    "# Display the filtered DataFrame\n",
    "print(filtered_dio)"
   ]
  },
  {
   "cell_type": "code",
   "execution_count": 386,
   "metadata": {},
   "outputs": [],
   "source": [
    "dio = dio.drop(dio[(dio['Manufactured_Year'] == 2019) & (dio['Price'] <5.125000000000001)].index)\n"
   ]
  },
  {
   "cell_type": "markdown",
   "metadata": {},
   "source": [
    "### 2020 DIO Price"
   ]
  },
  {
   "cell_type": "code",
   "execution_count": 387,
   "metadata": {},
   "outputs": [
    {
     "data": {
      "text/html": [
       "<div>\n",
       "<style scoped>\n",
       "    .dataframe tbody tr th:only-of-type {\n",
       "        vertical-align: middle;\n",
       "    }\n",
       "\n",
       "    .dataframe tbody tr th {\n",
       "        vertical-align: top;\n",
       "    }\n",
       "\n",
       "    .dataframe thead th {\n",
       "        text-align: right;\n",
       "    }\n",
       "</style>\n",
       "<table border=\"1\" class=\"dataframe\">\n",
       "  <thead>\n",
       "    <tr style=\"text-align: right;\">\n",
       "      <th></th>\n",
       "      <th>Price</th>\n",
       "      <th>Mileage</th>\n",
       "      <th>Published_Year</th>\n",
       "      <th>Manufactured_Year</th>\n",
       "      <th>Province</th>\n",
       "    </tr>\n",
       "  </thead>\n",
       "  <tbody>\n",
       "    <tr>\n",
       "      <th>12</th>\n",
       "      <td>6.40</td>\n",
       "      <td>9518</td>\n",
       "      <td>2024</td>\n",
       "      <td>2020</td>\n",
       "      <td>North Western</td>\n",
       "    </tr>\n",
       "    <tr>\n",
       "      <th>53</th>\n",
       "      <td>6.40</td>\n",
       "      <td>9610</td>\n",
       "      <td>2024</td>\n",
       "      <td>2020</td>\n",
       "      <td>North Western</td>\n",
       "    </tr>\n",
       "    <tr>\n",
       "      <th>73</th>\n",
       "      <td>6.90</td>\n",
       "      <td>28000</td>\n",
       "      <td>2024</td>\n",
       "      <td>2020</td>\n",
       "      <td>Western</td>\n",
       "    </tr>\n",
       "    <tr>\n",
       "      <th>87</th>\n",
       "      <td>6.40</td>\n",
       "      <td>5000</td>\n",
       "      <td>2024</td>\n",
       "      <td>2020</td>\n",
       "      <td>Sabaragamuwa</td>\n",
       "    </tr>\n",
       "    <tr>\n",
       "      <th>99</th>\n",
       "      <td>6.40</td>\n",
       "      <td>8380</td>\n",
       "      <td>2024</td>\n",
       "      <td>2020</td>\n",
       "      <td>North Western</td>\n",
       "    </tr>\n",
       "    <tr>\n",
       "      <th>...</th>\n",
       "      <td>...</td>\n",
       "      <td>...</td>\n",
       "      <td>...</td>\n",
       "      <td>...</td>\n",
       "      <td>...</td>\n",
       "    </tr>\n",
       "    <tr>\n",
       "      <th>1797</th>\n",
       "      <td>5.58</td>\n",
       "      <td>24000</td>\n",
       "      <td>2023</td>\n",
       "      <td>2020</td>\n",
       "      <td>North Western</td>\n",
       "    </tr>\n",
       "    <tr>\n",
       "      <th>1823</th>\n",
       "      <td>6.40</td>\n",
       "      <td>30000</td>\n",
       "      <td>2023</td>\n",
       "      <td>2020</td>\n",
       "      <td>North Western</td>\n",
       "    </tr>\n",
       "    <tr>\n",
       "      <th>1852</th>\n",
       "      <td>6.40</td>\n",
       "      <td>19532</td>\n",
       "      <td>2023</td>\n",
       "      <td>2020</td>\n",
       "      <td>Western</td>\n",
       "    </tr>\n",
       "    <tr>\n",
       "      <th>1881</th>\n",
       "      <td>5.95</td>\n",
       "      <td>19632</td>\n",
       "      <td>2023</td>\n",
       "      <td>2020</td>\n",
       "      <td>Western</td>\n",
       "    </tr>\n",
       "    <tr>\n",
       "      <th>1902</th>\n",
       "      <td>6.40</td>\n",
       "      <td>19625</td>\n",
       "      <td>2023</td>\n",
       "      <td>2020</td>\n",
       "      <td>Western</td>\n",
       "    </tr>\n",
       "  </tbody>\n",
       "</table>\n",
       "<p>150 rows × 5 columns</p>\n",
       "</div>"
      ],
      "text/plain": [
       "      Price  Mileage  Published_Year  Manufactured_Year       Province\n",
       "12     6.40     9518            2024               2020  North Western\n",
       "53     6.40     9610            2024               2020  North Western\n",
       "73     6.90    28000            2024               2020        Western\n",
       "87     6.40     5000            2024               2020   Sabaragamuwa\n",
       "99     6.40     8380            2024               2020  North Western\n",
       "...     ...      ...             ...                ...            ...\n",
       "1797   5.58    24000            2023               2020  North Western\n",
       "1823   6.40    30000            2023               2020  North Western\n",
       "1852   6.40    19532            2023               2020        Western\n",
       "1881   5.95    19632            2023               2020        Western\n",
       "1902   6.40    19625            2023               2020        Western\n",
       "\n",
       "[150 rows x 5 columns]"
      ]
     },
     "execution_count": 387,
     "metadata": {},
     "output_type": "execute_result"
    }
   ],
   "source": [
    "dio_2020 = dio[dio['Manufactured_Year'] == 2020]\n",
    "dio_2020"
   ]
  },
  {
   "cell_type": "code",
   "execution_count": 388,
   "metadata": {},
   "outputs": [
    {
     "name": "stdout",
     "output_type": "stream",
     "text": [
      "Q1 for Price (2020) :- 6.4\n",
      "Q3 for Price (2020) :- 6.4\n",
      "IQR for Price (2020) :- 0.0\n",
      "Lower Bound for Price (2020) is:- 6.4\n",
      "Upper Bound for Price (2020) is:- 6.4\n"
     ]
    }
   ],
   "source": [
    "dio_2020 = dio[dio['Manufactured_Year'] == 2020]\n",
    "\n",
    "# Calculate Q1, Q3, and IQR for the 'Price' column in the filtered DataFrame\n",
    "Q1_price_2020 = dio_2020['Price'].quantile(0.25)\n",
    "Q3_price_2020 = dio_2020['Price'].quantile(0.75)\n",
    "IQR_price_2020 = Q3_price_2020 - Q1_price_2020\n",
    "\n",
    "print(\"Q1 for Price (2020) :-\", Q1_price_2020)\n",
    "print(\"Q3 for Price (2020) :-\", Q3_price_2020)\n",
    "print(\"IQR for Price (2020) :-\", IQR_price_2020)\n",
    "\n",
    "# Define the upper and lower bounds to identify outliers for the 'Price' column in 2020\n",
    "lower_bound_price_2020 = Q1_price_2020 - 1.5 * IQR_price_2020\n",
    "upper_bound_price_2020 = Q3_price_2020 + 1.5 * IQR_price_2020\n",
    "\n",
    "print(\"Lower Bound for Price (2020) is:-\", lower_bound_price_2020)\n",
    "print(\"Upper Bound for Price (2020) is:-\", upper_bound_price_2020)\n"
   ]
  },
  {
   "cell_type": "code",
   "execution_count": 389,
   "metadata": {},
   "outputs": [
    {
     "name": "stdout",
     "output_type": "stream",
     "text": [
      "      Price  Mileage  Published_Year  Manufactured_Year       Province\n",
      "73     6.90    28000            2024               2020        Western\n",
      "126    6.80    27000            2024               2020        Western\n",
      "141    6.95    17900            2024               2020       Southern\n",
      "351    6.75    25000            2024               2020  North Western\n",
      "596    6.75    20560            2024               2020       Southern\n",
      "1631   7.20     8200            2023               2020  North Western\n"
     ]
    }
   ],
   "source": [
    "# Filter the DataFrame based on the conditions\n",
    "filtered_dio = dio[(dio['Manufactured_Year'] == 2020) & (dio['Price'] >6.7)]\n",
    "\n",
    "# Display the filtered DataFrame\n",
    "print(filtered_dio)"
   ]
  },
  {
   "cell_type": "code",
   "execution_count": 390,
   "metadata": {},
   "outputs": [],
   "source": [
    "dio = dio.drop(dio[(dio['Manufactured_Year'] == 2020) & (dio['Price'] >6.7)].index)"
   ]
  },
  {
   "cell_type": "code",
   "execution_count": 391,
   "metadata": {},
   "outputs": [
    {
     "name": "stdout",
     "output_type": "stream",
     "text": [
      "      Price   Mileage  Published_Year  Manufactured_Year       Province\n",
      "924    5.65     21632            2023               2020        Western\n",
      "1192   5.65  20231205            2023               2020  North Central\n",
      "1249   5.58     19000            2023               2020  North Western\n",
      "1366   5.45     31319            2023               2020   Sabaragamuwa\n",
      "1490   5.65    240000            2023               2020        Western\n",
      "1537   5.60     29000            2023               2020        Western\n",
      "1580   5.65     24000            2023               2020        Western\n",
      "1632   5.50     39000            2023               2020  North Western\n",
      "1657   5.48     18000            2023               2020        Western\n",
      "1660   5.65     24000            2023               2020        Western\n",
      "1661   5.68     14000            2023               2020        Western\n",
      "1795   5.25      4780            2023               2020        Western\n",
      "1797   5.58     24000            2023               2020  North Western\n"
     ]
    }
   ],
   "source": [
    "# Filter the DataFrame based on the conditions\n",
    "filtered_dio = dio[(dio['Manufactured_Year'] == 2020) & (dio['Price'] <5.7)]\n",
    "\n",
    "# Display the filtered DataFrame\n",
    "print(filtered_dio)"
   ]
  },
  {
   "cell_type": "code",
   "execution_count": 392,
   "metadata": {},
   "outputs": [],
   "source": [
    "dio = dio.drop(dio[(dio['Manufactured_Year'] == 2020) & (dio['Price'] <5.7)].index)"
   ]
  },
  {
   "cell_type": "code",
   "execution_count": 393,
   "metadata": {},
   "outputs": [
    {
     "data": {
      "text/plain": [
       "Price                0\n",
       "Mileage              0\n",
       "Published_Year       0\n",
       "Manufactured_Year    0\n",
       "Province             0\n",
       "dtype: int64"
      ]
     },
     "execution_count": 393,
     "metadata": {},
     "output_type": "execute_result"
    }
   ],
   "source": [
    "dio.isnull().sum()"
   ]
  },
  {
   "cell_type": "markdown",
   "metadata": {},
   "source": [
    "### Get Distribution plot of Price "
   ]
  },
  {
   "cell_type": "code",
   "execution_count": 394,
   "metadata": {},
   "outputs": [
    {
     "data": {
      "image/png": "[encoded data removed]",
      "text/plain": [
       "<Figure size 640x480 with 1 Axes>"
      ]
     },
     "metadata": {},
     "output_type": "display_data"
    }
   ],
   "source": [
    "sns.distplot(dio[\"Price\"])\n",
    "plt.show()"
   ]
  },
  {
   "cell_type": "markdown",
   "metadata": {},
   "source": [
    "### Get Barplot identify outliers of Price"
   ]
  },
  {
   "cell_type": "code",
   "execution_count": 395,
   "metadata": {},
   "outputs": [
    {
     "data": {
      "image/png": "[encoded data removed]",
      "text/plain": [
       "<Figure size 640x480 with 1 Axes>"
      ]
     },
     "metadata": {},
     "output_type": "display_data"
    }
   ],
   "source": [
    "sns.boxplot(dio[\"Price\"])\n",
    "plt.show()"
   ]
  },
  {
   "cell_type": "code",
   "execution_count": 396,
   "metadata": {},
   "outputs": [
    {
     "data": {
      "image/png": "[encoded data removed]",
      "text/plain": [
       "<Figure size 1600x600 with 1 Axes>"
      ]
     },
     "metadata": {},
     "output_type": "display_data"
    }
   ],
   "source": [
    "# Group by 'Manufactured_Year' and calculate the average price for each year\n",
    "average_price_by_year = dio.groupby('Manufactured_Year')['Price'].mean().reset_index()\n",
    "\n",
    "# Plotting the line chart\n",
    "plt.figure(figsize=(16, 6))\n",
    "plt.plot(average_price_by_year['Manufactured_Year'], average_price_by_year['Price'], marker='o')\n",
    "\n",
    "# Annotate each data point with its average price\n",
    "for i in range(len(average_price_by_year)):\n",
    "    plt.text(average_price_by_year['Manufactured_Year'][i], average_price_by_year['Price'][i],\n",
    "             f\"{average_price_by_year['Price'][i]:.2f}\", fontsize=12, ha='right')\n",
    "\n",
    "plt.title('Average Price by Manufactured Year')\n",
    "plt.xlabel('Manufactured Year')\n",
    "plt.ylabel('Price (in Rs.)')\n",
    "plt.grid(True)\n",
    "plt.xticks(average_price_by_year['Manufactured_Year'])  # Ensure all years are shown on the x-axis\n",
    "plt.show()"
   ]
  },
  {
   "cell_type": "markdown",
   "metadata": {},
   "source": [
    "### Getting Average price of every Year"
   ]
  },
  {
   "cell_type": "code",
   "execution_count": 397,
   "metadata": {},
   "outputs": [
    {
     "data": {
      "text/plain": [
       "Manufactured_Year\n",
       "2009    1.325000\n",
       "2010    1.878571\n",
       "2011    2.189052\n",
       "2012    2.937083\n",
       "2013    3.523158\n",
       "2014    3.804886\n",
       "2015    4.111224\n",
       "2016    4.375899\n",
       "2017    4.775256\n",
       "2018    5.367583\n",
       "2019    5.849433\n",
       "2020    6.330763\n",
       "Name: Price, dtype: float64"
      ]
     },
     "execution_count": 397,
     "metadata": {},
     "output_type": "execute_result"
    }
   ],
   "source": [
    "price_year=dio.groupby([\"Manufactured_Year\"])[\"Price\"].mean()\n",
    "price_year"
   ]
  },
  {
   "cell_type": "markdown",
   "metadata": {},
   "source": [
    "### Getting Boxplot Year vs Price :- To identify outliers"
   ]
  },
  {
   "cell_type": "code",
   "execution_count": 398,
   "metadata": {},
   "outputs": [
    {
     "data": {
      "image/png": "[encoded data removed]",
      "text/plain": [
       "<Figure size 2500x600 with 1 Axes>"
      ]
     },
     "metadata": {},
     "output_type": "display_data"
    }
   ],
   "source": [
    "plt.figure(figsize=(25,6))\n",
    "sns.boxplot(x=\"Manufactured_Year\",y=\"Price\",data=dio)\n",
    "plt.show()"
   ]
  },
  {
   "cell_type": "markdown",
   "metadata": {},
   "source": [
    "# Mileage"
   ]
  },
  {
   "cell_type": "markdown",
   "metadata": {},
   "source": [
    "### Normally Sccoty milage are below 1e5 in selling market"
   ]
  },
  {
   "cell_type": "code",
   "execution_count": 399,
   "metadata": {},
   "outputs": [
    {
     "data": {
      "text/html": [
       "<div>\n",
       "<style scoped>\n",
       "    .dataframe tbody tr th:only-of-type {\n",
       "        vertical-align: middle;\n",
       "    }\n",
       "\n",
       "    .dataframe tbody tr th {\n",
       "        vertical-align: top;\n",
       "    }\n",
       "\n",
       "    .dataframe thead th {\n",
       "        text-align: right;\n",
       "    }\n",
       "</style>\n",
       "<table border=\"1\" class=\"dataframe\">\n",
       "  <thead>\n",
       "    <tr style=\"text-align: right;\">\n",
       "      <th></th>\n",
       "      <th>Price</th>\n",
       "      <th>Mileage</th>\n",
       "      <th>Published_Year</th>\n",
       "      <th>Manufactured_Year</th>\n",
       "      <th>Province</th>\n",
       "    </tr>\n",
       "  </thead>\n",
       "  <tbody>\n",
       "    <tr>\n",
       "      <th>13</th>\n",
       "      <td>4.55</td>\n",
       "      <td>20240126</td>\n",
       "      <td>2024</td>\n",
       "      <td>2016</td>\n",
       "      <td>North Western</td>\n",
       "    </tr>\n",
       "    <tr>\n",
       "      <th>14</th>\n",
       "      <td>5.30</td>\n",
       "      <td>340000</td>\n",
       "      <td>2024</td>\n",
       "      <td>2018</td>\n",
       "      <td>Western</td>\n",
       "    </tr>\n",
       "    <tr>\n",
       "      <th>57</th>\n",
       "      <td>5.85</td>\n",
       "      <td>20240126</td>\n",
       "      <td>2024</td>\n",
       "      <td>2019</td>\n",
       "      <td>North Central</td>\n",
       "    </tr>\n",
       "    <tr>\n",
       "      <th>58</th>\n",
       "      <td>5.15</td>\n",
       "      <td>20240126</td>\n",
       "      <td>2024</td>\n",
       "      <td>2017</td>\n",
       "      <td>North Central</td>\n",
       "    </tr>\n",
       "    <tr>\n",
       "      <th>59</th>\n",
       "      <td>5.65</td>\n",
       "      <td>20240126</td>\n",
       "      <td>2024</td>\n",
       "      <td>2018</td>\n",
       "      <td>North Central</td>\n",
       "    </tr>\n",
       "    <tr>\n",
       "      <th>...</th>\n",
       "      <td>...</td>\n",
       "      <td>...</td>\n",
       "      <td>...</td>\n",
       "      <td>...</td>\n",
       "      <td>...</td>\n",
       "    </tr>\n",
       "    <tr>\n",
       "      <th>1855</th>\n",
       "      <td>4.95</td>\n",
       "      <td>20231101</td>\n",
       "      <td>2023</td>\n",
       "      <td>2017</td>\n",
       "      <td>Central</td>\n",
       "    </tr>\n",
       "    <tr>\n",
       "      <th>1888</th>\n",
       "      <td>6.00</td>\n",
       "      <td>20231030</td>\n",
       "      <td>2023</td>\n",
       "      <td>2019</td>\n",
       "      <td>Western</td>\n",
       "    </tr>\n",
       "    <tr>\n",
       "      <th>1889</th>\n",
       "      <td>4.55</td>\n",
       "      <td>20231030</td>\n",
       "      <td>2023</td>\n",
       "      <td>2016</td>\n",
       "      <td>Western</td>\n",
       "    </tr>\n",
       "    <tr>\n",
       "      <th>1897</th>\n",
       "      <td>3.95</td>\n",
       "      <td>20231029</td>\n",
       "      <td>2023</td>\n",
       "      <td>2016</td>\n",
       "      <td>Uva</td>\n",
       "    </tr>\n",
       "    <tr>\n",
       "      <th>1899</th>\n",
       "      <td>3.85</td>\n",
       "      <td>420000</td>\n",
       "      <td>2023</td>\n",
       "      <td>2016</td>\n",
       "      <td>Western</td>\n",
       "    </tr>\n",
       "  </tbody>\n",
       "</table>\n",
       "<p>194 rows × 5 columns</p>\n",
       "</div>"
      ],
      "text/plain": [
       "      Price   Mileage  Published_Year  Manufactured_Year       Province\n",
       "13     4.55  20240126            2024               2016  North Western\n",
       "14     5.30    340000            2024               2018        Western\n",
       "57     5.85  20240126            2024               2019  North Central\n",
       "58     5.15  20240126            2024               2017  North Central\n",
       "59     5.65  20240126            2024               2018  North Central\n",
       "...     ...       ...             ...                ...            ...\n",
       "1855   4.95  20231101            2023               2017        Central\n",
       "1888   6.00  20231030            2023               2019        Western\n",
       "1889   4.55  20231030            2023               2016        Western\n",
       "1897   3.95  20231029            2023               2016            Uva\n",
       "1899   3.85    420000            2023               2016        Western\n",
       "\n",
       "[194 rows x 5 columns]"
      ]
     },
     "execution_count": 399,
     "metadata": {},
     "output_type": "execute_result"
    }
   ],
   "source": [
    "filter_data=dio[dio[\"Mileage\"]>1e5]\n",
    "filter_data"
   ]
  },
  {
   "cell_type": "code",
   "execution_count": 400,
   "metadata": {},
   "outputs": [],
   "source": [
    "dio.loc[dio['Mileage'] > 100000, 'Mileage'] = 85000"
   ]
  },
  {
   "cell_type": "code",
   "execution_count": 401,
   "metadata": {},
   "outputs": [
    {
     "data": {
      "text/html": [
       "<div>\n",
       "<style scoped>\n",
       "    .dataframe tbody tr th:only-of-type {\n",
       "        vertical-align: middle;\n",
       "    }\n",
       "\n",
       "    .dataframe tbody tr th {\n",
       "        vertical-align: top;\n",
       "    }\n",
       "\n",
       "    .dataframe thead th {\n",
       "        text-align: right;\n",
       "    }\n",
       "</style>\n",
       "<table border=\"1\" class=\"dataframe\">\n",
       "  <thead>\n",
       "    <tr style=\"text-align: right;\">\n",
       "      <th></th>\n",
       "      <th>Price</th>\n",
       "      <th>Mileage</th>\n",
       "      <th>Published_Year</th>\n",
       "      <th>Manufactured_Year</th>\n",
       "    </tr>\n",
       "  </thead>\n",
       "  <tbody>\n",
       "    <tr>\n",
       "      <th>count</th>\n",
       "      <td>1821.000000</td>\n",
       "      <td>1821.000000</td>\n",
       "      <td>1821.000000</td>\n",
       "      <td>1821.000000</td>\n",
       "    </tr>\n",
       "    <tr>\n",
       "      <th>mean</th>\n",
       "      <td>4.893567</td>\n",
       "      <td>37141.328940</td>\n",
       "      <td>2023.398682</td>\n",
       "      <td>2016.928611</td>\n",
       "    </tr>\n",
       "    <tr>\n",
       "      <th>std</th>\n",
       "      <td>0.920327</td>\n",
       "      <td>21838.422348</td>\n",
       "      <td>0.489762</td>\n",
       "      <td>2.042504</td>\n",
       "    </tr>\n",
       "    <tr>\n",
       "      <th>min</th>\n",
       "      <td>1.100000</td>\n",
       "      <td>1.000000</td>\n",
       "      <td>2023.000000</td>\n",
       "      <td>2009.000000</td>\n",
       "    </tr>\n",
       "    <tr>\n",
       "      <th>25%</th>\n",
       "      <td>4.200000</td>\n",
       "      <td>24000.000000</td>\n",
       "      <td>2023.000000</td>\n",
       "      <td>2016.000000</td>\n",
       "    </tr>\n",
       "    <tr>\n",
       "      <th>50%</th>\n",
       "      <td>4.950000</td>\n",
       "      <td>32300.000000</td>\n",
       "      <td>2023.000000</td>\n",
       "      <td>2017.000000</td>\n",
       "    </tr>\n",
       "    <tr>\n",
       "      <th>75%</th>\n",
       "      <td>5.500000</td>\n",
       "      <td>45000.000000</td>\n",
       "      <td>2024.000000</td>\n",
       "      <td>2018.000000</td>\n",
       "    </tr>\n",
       "    <tr>\n",
       "      <th>max</th>\n",
       "      <td>6.500000</td>\n",
       "      <td>100000.000000</td>\n",
       "      <td>2024.000000</td>\n",
       "      <td>2020.000000</td>\n",
       "    </tr>\n",
       "  </tbody>\n",
       "</table>\n",
       "</div>"
      ],
      "text/plain": [
       "             Price        Mileage  Published_Year  Manufactured_Year\n",
       "count  1821.000000    1821.000000     1821.000000        1821.000000\n",
       "mean      4.893567   37141.328940     2023.398682        2016.928611\n",
       "std       0.920327   21838.422348        0.489762           2.042504\n",
       "min       1.100000       1.000000     2023.000000        2009.000000\n",
       "25%       4.200000   24000.000000     2023.000000        2016.000000\n",
       "50%       4.950000   32300.000000     2023.000000        2017.000000\n",
       "75%       5.500000   45000.000000     2024.000000        2018.000000\n",
       "max       6.500000  100000.000000     2024.000000        2020.000000"
      ]
     },
     "execution_count": 401,
     "metadata": {},
     "output_type": "execute_result"
    }
   ],
   "source": [
    "dio.describe()"
   ]
  },
  {
   "cell_type": "code",
   "execution_count": 402,
   "metadata": {},
   "outputs": [
    {
     "data": {
      "text/plain": [
       "<AxesSubplot:xlabel='Mileage'>"
      ]
     },
     "execution_count": 402,
     "metadata": {},
     "output_type": "execute_result"
    },
    {
     "data": {
      "image/png": "[encoded data removed]",
      "text/plain": [
       "<Figure size 640x480 with 1 Axes>"
      ]
     },
     "metadata": {},
     "output_type": "display_data"
    }
   ],
   "source": [
    "sns.boxplot(dio[\"Mileage\"])"
   ]
  },
  {
   "cell_type": "code",
   "execution_count": 403,
   "metadata": {},
   "outputs": [
    {
     "data": {
      "text/plain": [
       "<AxesSubplot:xlabel='Mileage', ylabel='Density'>"
      ]
     },
     "execution_count": 403,
     "metadata": {},
     "output_type": "execute_result"
    },
    {
     "data": {
      "image/png": "[encoded data removed]",
      "text/plain": [
       "<Figure size 640x480 with 1 Axes>"
      ]
     },
     "metadata": {},
     "output_type": "display_data"
    }
   ],
   "source": [
    "sns.distplot(dio[\"Mileage\"])"
   ]
  },
  {
   "cell_type": "code",
   "execution_count": 404,
   "metadata": {},
   "outputs": [],
   "source": [
    "corr=dio.corr()"
   ]
  },
  {
   "cell_type": "code",
   "execution_count": 405,
   "metadata": {},
   "outputs": [
    {
     "data": {
      "text/plain": [
       "<AxesSubplot:>"
      ]
     },
     "execution_count": 405,
     "metadata": {},
     "output_type": "execute_result"
    },
    {
     "data": {
      "image/png": "[encoded data removed]",
      "text/plain": [
       "<Figure size 640x480 with 2 Axes>"
      ]
     },
     "metadata": {},
     "output_type": "display_data"
    }
   ],
   "source": [
    "sns.heatmap(dio.corr(),annot=True)"
   ]
  },
  {
   "cell_type": "code",
   "execution_count": 406,
   "metadata": {},
   "outputs": [
    {
     "data": {
      "text/html": [
       "<div>\n",
       "<style scoped>\n",
       "    .dataframe tbody tr th:only-of-type {\n",
       "        vertical-align: middle;\n",
       "    }\n",
       "\n",
       "    .dataframe tbody tr th {\n",
       "        vertical-align: top;\n",
       "    }\n",
       "\n",
       "    .dataframe thead th {\n",
       "        text-align: right;\n",
       "    }\n",
       "</style>\n",
       "<table border=\"1\" class=\"dataframe\">\n",
       "  <thead>\n",
       "    <tr style=\"text-align: right;\">\n",
       "      <th></th>\n",
       "      <th>Province</th>\n",
       "    </tr>\n",
       "  </thead>\n",
       "  <tbody>\n",
       "    <tr>\n",
       "      <th>count</th>\n",
       "      <td>1821</td>\n",
       "    </tr>\n",
       "    <tr>\n",
       "      <th>unique</th>\n",
       "      <td>9</td>\n",
       "    </tr>\n",
       "    <tr>\n",
       "      <th>top</th>\n",
       "      <td>Western</td>\n",
       "    </tr>\n",
       "    <tr>\n",
       "      <th>freq</th>\n",
       "      <td>937</td>\n",
       "    </tr>\n",
       "  </tbody>\n",
       "</table>\n",
       "</div>"
      ],
      "text/plain": [
       "       Province\n",
       "count      1821\n",
       "unique        9\n",
       "top     Western\n",
       "freq        937"
      ]
     },
     "execution_count": 406,
     "metadata": {},
     "output_type": "execute_result"
    }
   ],
   "source": [
    "dio.describe(include=\"object\")"
   ]
  },
  {
   "cell_type": "code",
   "execution_count": 407,
   "metadata": {},
   "outputs": [
    {
     "name": "stdout",
     "output_type": "stream",
     "text": [
      "Index(['Province'], dtype='object')\n"
     ]
    }
   ],
   "source": [
    "numerical_columns = dio.select_dtypes(include=['object']).columns\n",
    "\n",
    "print(numerical_columns)"
   ]
  },
  {
   "cell_type": "code",
   "execution_count": 408,
   "metadata": {},
   "outputs": [],
   "source": [
    "dio = pd.get_dummies(dio, columns=['Province'])"
   ]
  },
  {
   "cell_type": "code",
   "execution_count": 409,
   "metadata": {},
   "outputs": [
    {
     "data": {
      "text/html": [
       "<div>\n",
       "<style scoped>\n",
       "    .dataframe tbody tr th:only-of-type {\n",
       "        vertical-align: middle;\n",
       "    }\n",
       "\n",
       "    .dataframe tbody tr th {\n",
       "        vertical-align: top;\n",
       "    }\n",
       "\n",
       "    .dataframe thead th {\n",
       "        text-align: right;\n",
       "    }\n",
       "</style>\n",
       "<table border=\"1\" class=\"dataframe\">\n",
       "  <thead>\n",
       "    <tr style=\"text-align: right;\">\n",
       "      <th></th>\n",
       "      <th>Price</th>\n",
       "      <th>Mileage</th>\n",
       "      <th>Published_Year</th>\n",
       "      <th>Manufactured_Year</th>\n",
       "      <th>Province_Central</th>\n",
       "      <th>Province_Eastern</th>\n",
       "      <th>Province_North Central</th>\n",
       "      <th>Province_North Western</th>\n",
       "      <th>Province_Northern</th>\n",
       "      <th>Province_Sabaragamuwa</th>\n",
       "      <th>Province_Southern</th>\n",
       "      <th>Province_Uva</th>\n",
       "      <th>Province_Western</th>\n",
       "    </tr>\n",
       "  </thead>\n",
       "  <tbody>\n",
       "    <tr>\n",
       "      <th>0</th>\n",
       "      <td>5.00</td>\n",
       "      <td>39000</td>\n",
       "      <td>2024</td>\n",
       "      <td>2017</td>\n",
       "      <td>0</td>\n",
       "      <td>0</td>\n",
       "      <td>0</td>\n",
       "      <td>0</td>\n",
       "      <td>0</td>\n",
       "      <td>0</td>\n",
       "      <td>0</td>\n",
       "      <td>0</td>\n",
       "      <td>1</td>\n",
       "    </tr>\n",
       "    <tr>\n",
       "      <th>1</th>\n",
       "      <td>5.78</td>\n",
       "      <td>30000</td>\n",
       "      <td>2024</td>\n",
       "      <td>2018</td>\n",
       "      <td>0</td>\n",
       "      <td>0</td>\n",
       "      <td>0</td>\n",
       "      <td>0</td>\n",
       "      <td>0</td>\n",
       "      <td>0</td>\n",
       "      <td>0</td>\n",
       "      <td>0</td>\n",
       "      <td>1</td>\n",
       "    </tr>\n",
       "    <tr>\n",
       "      <th>3</th>\n",
       "      <td>5.35</td>\n",
       "      <td>44444</td>\n",
       "      <td>2024</td>\n",
       "      <td>2018</td>\n",
       "      <td>0</td>\n",
       "      <td>0</td>\n",
       "      <td>1</td>\n",
       "      <td>0</td>\n",
       "      <td>0</td>\n",
       "      <td>0</td>\n",
       "      <td>0</td>\n",
       "      <td>0</td>\n",
       "      <td>0</td>\n",
       "    </tr>\n",
       "    <tr>\n",
       "      <th>5</th>\n",
       "      <td>5.92</td>\n",
       "      <td>34000</td>\n",
       "      <td>2024</td>\n",
       "      <td>2019</td>\n",
       "      <td>0</td>\n",
       "      <td>0</td>\n",
       "      <td>0</td>\n",
       "      <td>0</td>\n",
       "      <td>0</td>\n",
       "      <td>0</td>\n",
       "      <td>1</td>\n",
       "      <td>0</td>\n",
       "      <td>0</td>\n",
       "    </tr>\n",
       "    <tr>\n",
       "      <th>6</th>\n",
       "      <td>4.30</td>\n",
       "      <td>33000</td>\n",
       "      <td>2024</td>\n",
       "      <td>2015</td>\n",
       "      <td>1</td>\n",
       "      <td>0</td>\n",
       "      <td>0</td>\n",
       "      <td>0</td>\n",
       "      <td>0</td>\n",
       "      <td>0</td>\n",
       "      <td>0</td>\n",
       "      <td>0</td>\n",
       "      <td>0</td>\n",
       "    </tr>\n",
       "  </tbody>\n",
       "</table>\n",
       "</div>"
      ],
      "text/plain": [
       "   Price  Mileage  Published_Year  Manufactured_Year  Province_Central  \\\n",
       "0   5.00    39000            2024               2017                 0   \n",
       "1   5.78    30000            2024               2018                 0   \n",
       "3   5.35    44444            2024               2018                 0   \n",
       "5   5.92    34000            2024               2019                 0   \n",
       "6   4.30    33000            2024               2015                 1   \n",
       "\n",
       "   Province_Eastern  Province_North Central  Province_North Western  \\\n",
       "0                 0                       0                       0   \n",
       "1                 0                       0                       0   \n",
       "3                 0                       1                       0   \n",
       "5                 0                       0                       0   \n",
       "6                 0                       0                       0   \n",
       "\n",
       "   Province_Northern  Province_Sabaragamuwa  Province_Southern  Province_Uva  \\\n",
       "0                  0                      0                  0             0   \n",
       "1                  0                      0                  0             0   \n",
       "3                  0                      0                  0             0   \n",
       "5                  0                      0                  1             0   \n",
       "6                  0                      0                  0             0   \n",
       "\n",
       "   Province_Western  \n",
       "0                 1  \n",
       "1                 1  \n",
       "3                 0  \n",
       "5                 0  \n",
       "6                 0  "
      ]
     },
     "execution_count": 409,
     "metadata": {},
     "output_type": "execute_result"
    }
   ],
   "source": [
    "dio.head()"
   ]
  },
  {
   "cell_type": "code",
   "execution_count": 410,
   "metadata": {},
   "outputs": [],
   "source": [
    "from sklearn.model_selection import train_test_split\n",
    "\n",
    "# Define feature columns and target variable\n",
    "# feature_cols = ['Mileage', 'Published_Year', 'Manufactured_Year', 'Province_Encoded']\n",
    "X = dio.drop(columns=['Price'])\n",
    "y = dio['Price']\n",
    "\n",
    "# Split the data into training and testing sets\n",
    "X_train, X_test, y_train, y_test = train_test_split(X, y, test_size=0.2, random_state=42)\n",
    "\n"
   ]
  },
  {
   "cell_type": "code",
   "execution_count": 411,
   "metadata": {},
   "outputs": [
    {
     "data": {
      "text/html": [
       "<div>\n",
       "<style scoped>\n",
       "    .dataframe tbody tr th:only-of-type {\n",
       "        vertical-align: middle;\n",
       "    }\n",
       "\n",
       "    .dataframe tbody tr th {\n",
       "        vertical-align: top;\n",
       "    }\n",
       "\n",
       "    .dataframe thead th {\n",
       "        text-align: right;\n",
       "    }\n",
       "</style>\n",
       "<table border=\"1\" class=\"dataframe\">\n",
       "  <thead>\n",
       "    <tr style=\"text-align: right;\">\n",
       "      <th></th>\n",
       "      <th>Mileage</th>\n",
       "      <th>Published_Year</th>\n",
       "      <th>Manufactured_Year</th>\n",
       "      <th>Province_Central</th>\n",
       "      <th>Province_Eastern</th>\n",
       "      <th>Province_North Central</th>\n",
       "      <th>Province_North Western</th>\n",
       "      <th>Province_Northern</th>\n",
       "      <th>Province_Sabaragamuwa</th>\n",
       "      <th>Province_Southern</th>\n",
       "      <th>Province_Uva</th>\n",
       "      <th>Province_Western</th>\n",
       "    </tr>\n",
       "  </thead>\n",
       "  <tbody>\n",
       "    <tr>\n",
       "      <th>1520</th>\n",
       "      <td>32420</td>\n",
       "      <td>2023</td>\n",
       "      <td>2015</td>\n",
       "      <td>0</td>\n",
       "      <td>0</td>\n",
       "      <td>0</td>\n",
       "      <td>1</td>\n",
       "      <td>0</td>\n",
       "      <td>0</td>\n",
       "      <td>0</td>\n",
       "      <td>0</td>\n",
       "      <td>0</td>\n",
       "    </tr>\n",
       "    <tr>\n",
       "      <th>1623</th>\n",
       "      <td>25000</td>\n",
       "      <td>2023</td>\n",
       "      <td>2018</td>\n",
       "      <td>0</td>\n",
       "      <td>0</td>\n",
       "      <td>0</td>\n",
       "      <td>0</td>\n",
       "      <td>0</td>\n",
       "      <td>0</td>\n",
       "      <td>0</td>\n",
       "      <td>0</td>\n",
       "      <td>1</td>\n",
       "    </tr>\n",
       "    <tr>\n",
       "      <th>314</th>\n",
       "      <td>47000</td>\n",
       "      <td>2024</td>\n",
       "      <td>2018</td>\n",
       "      <td>1</td>\n",
       "      <td>0</td>\n",
       "      <td>0</td>\n",
       "      <td>0</td>\n",
       "      <td>0</td>\n",
       "      <td>0</td>\n",
       "      <td>0</td>\n",
       "      <td>0</td>\n",
       "      <td>0</td>\n",
       "    </tr>\n",
       "    <tr>\n",
       "      <th>1789</th>\n",
       "      <td>21000</td>\n",
       "      <td>2023</td>\n",
       "      <td>2017</td>\n",
       "      <td>0</td>\n",
       "      <td>0</td>\n",
       "      <td>0</td>\n",
       "      <td>1</td>\n",
       "      <td>0</td>\n",
       "      <td>0</td>\n",
       "      <td>0</td>\n",
       "      <td>0</td>\n",
       "      <td>0</td>\n",
       "    </tr>\n",
       "    <tr>\n",
       "      <th>635</th>\n",
       "      <td>29523</td>\n",
       "      <td>2024</td>\n",
       "      <td>2015</td>\n",
       "      <td>0</td>\n",
       "      <td>0</td>\n",
       "      <td>0</td>\n",
       "      <td>1</td>\n",
       "      <td>0</td>\n",
       "      <td>0</td>\n",
       "      <td>0</td>\n",
       "      <td>0</td>\n",
       "      <td>0</td>\n",
       "    </tr>\n",
       "  </tbody>\n",
       "</table>\n",
       "</div>"
      ],
      "text/plain": [
       "      Mileage  Published_Year  Manufactured_Year  Province_Central  \\\n",
       "1520    32420            2023               2015                 0   \n",
       "1623    25000            2023               2018                 0   \n",
       "314     47000            2024               2018                 1   \n",
       "1789    21000            2023               2017                 0   \n",
       "635     29523            2024               2015                 0   \n",
       "\n",
       "      Province_Eastern  Province_North Central  Province_North Western  \\\n",
       "1520                 0                       0                       1   \n",
       "1623                 0                       0                       0   \n",
       "314                  0                       0                       0   \n",
       "1789                 0                       0                       1   \n",
       "635                  0                       0                       1   \n",
       "\n",
       "      Province_Northern  Province_Sabaragamuwa  Province_Southern  \\\n",
       "1520                  0                      0                  0   \n",
       "1623                  0                      0                  0   \n",
       "314                   0                      0                  0   \n",
       "1789                  0                      0                  0   \n",
       "635                   0                      0                  0   \n",
       "\n",
       "      Province_Uva  Province_Western  \n",
       "1520             0                 0  \n",
       "1623             0                 1  \n",
       "314              0                 0  \n",
       "1789             0                 0  \n",
       "635              0                 0  "
      ]
     },
     "execution_count": 411,
     "metadata": {},
     "output_type": "execute_result"
    }
   ],
   "source": [
    "X_train.head()"
   ]
  },
  {
   "cell_type": "markdown",
   "metadata": {},
   "source": [
    "### Model Training"
   ]
  },
  {
   "cell_type": "code",
   "execution_count": 412,
   "metadata": {},
   "outputs": [],
   "source": [
    "def model_acc(model):\n",
    "    model.fit(X_train,y_train)\n",
    "    accuracy = model.score(X_test,y_test)\n",
    "    print(f'{model} accuracy: {accuracy}')\n",
    "    "
   ]
  },
  {
   "cell_type": "code",
   "execution_count": 413,
   "metadata": {},
   "outputs": [
    {
     "name": "stdout",
     "output_type": "stream",
     "text": [
      "LinearRegression() accuracy: 0.9236750409298027\n",
      "Lasso() accuracy: 0.6027485008659876\n",
      "DecisionTreeRegressor() accuracy: 0.8892652711884491\n",
      "RandomForestRegressor() accuracy: 0.9149829766732727\n"
     ]
    }
   ],
   "source": [
    "from sklearn.linear_model import LinearRegression\n",
    "lr = LinearRegression()\n",
    "model_acc(lr)\n",
    "\n",
    "from sklearn.linear_model import Lasso\n",
    "lasso = Lasso()\n",
    "model_acc(lasso)\n",
    "\n",
    "from sklearn.tree import DecisionTreeRegressor\n",
    "dt = DecisionTreeRegressor()\n",
    "model_acc(dt)\n",
    "\n",
    "from sklearn.ensemble import RandomForestRegressor\n",
    "rf = RandomForestRegressor()\n",
    "model_acc(rf)"
   ]
  },
  {
   "cell_type": "markdown",
   "metadata": {},
   "source": [
    "### Hpper Parameter tuning"
   ]
  },
  {
   "cell_type": "code",
   "execution_count": 414,
   "metadata": {},
   "outputs": [
    {
     "name": "stdout",
     "output_type": "stream",
     "text": [
      "Best Parameters: {'fit_intercept': False, 'positive': False}\n",
      "Test Score (R²): 0.9236750409297967\n"
     ]
    }
   ],
   "source": [
    "from sklearn.linear_model import LinearRegression\n",
    "from sklearn.model_selection import GridSearchCV\n",
    "\n",
    "# Define the model\n",
    "lr = LinearRegression()\n",
    "\n",
    "# Define the hyperparameters to tune\n",
    "parameters = {\n",
    "    'fit_intercept': [True, False],  # Whether to include an intercept in the model\n",
    "    'positive': [True, False]  # Constraining coefficients to be positive\n",
    "}\n",
    "\n",
    "# Perform Grid Search\n",
    "grid_obj = GridSearchCV(estimator=lr, param_grid=parameters, cv=5, scoring='r2', n_jobs=-1)\n",
    "\n",
    "# Fit the model\n",
    "grid_fit = grid_obj.fit(X_train, y_train)\n",
    "\n",
    "# Get the best model\n",
    "best_model = grid_fit.best_estimator_\n",
    "\n",
    "# Evaluate on the test set\n",
    "score = best_model.score(X_test, y_test)\n",
    "\n",
    "# Print best parameters and test score\n",
    "print(\"Best Parameters:\", grid_fit.best_params_)\n",
    "print(\"Test Score (R²):\", score)\n"
   ]
  },
  {
   "cell_type": "code",
   "execution_count": 415,
   "metadata": {},
   "outputs": [
    {
     "data": {
      "text/plain": [
       "Index(['Price', 'Mileage', 'Published_Year', 'Manufactured_Year',\n",
       "       'Province_Central', 'Province_Eastern', 'Province_North Central',\n",
       "       'Province_North Western', 'Province_Northern', 'Province_Sabaragamuwa',\n",
       "       'Province_Southern', 'Province_Uva', 'Province_Western'],\n",
       "      dtype='object')"
      ]
     },
     "execution_count": 415,
     "metadata": {},
     "output_type": "execute_result"
    }
   ],
   "source": [
    "dio.columns"
   ]
  },
  {
   "cell_type": "code",
   "execution_count": null,
   "metadata": {},
   "outputs": [],
   "source": [
    "province_list = ['Central','Eastern','North Central','North Western','Northern','Sabaragamuwa','Southern','Uva','Western']\n",
    "\n",
    "def province_encoding(provinces):\n",
    "    list_provice = []\n",
    "    for province in province_list:\n",
    "        if provinces == province:\n",
    "            list_provice.append(1)\n",
    "        else:\n",
    "            list_provice.append(0)\n",
    "\n",
    "    return list_provice"
   ]
  },
  {
   "cell_type": "code",
   "execution_count": 427,
   "metadata": {},
   "outputs": [],
   "source": [
    "p_list = province_encoding('Uva')"
   ]
  },
  {
   "cell_type": "code",
   "execution_count": 441,
   "metadata": {},
   "outputs": [],
   "source": [
    "new_data = [12000, 2024, 2015]\n",
    "new_data.extend(p_list)"
   ]
  },
  {
   "cell_type": "code",
   "execution_count": 442,
   "metadata": {},
   "outputs": [
    {
     "name": "stderr",
     "output_type": "stream",
     "text": [
      "c:\\Users\\Admin\\anaconda3\\lib\\site-packages\\sklearn\\base.py:450: UserWarning: X does not have valid feature names, but LinearRegression was fitted with feature names\n",
      "  warnings.warn(\n"
     ]
    },
    {
     "data": {
      "text/plain": [
       "4.201733955189638"
      ]
     },
     "execution_count": 442,
     "metadata": {},
     "output_type": "execute_result"
    }
   ],
   "source": [
    "yhat = best_model.predict([new_data])\n",
    "yhat[0]"
   ]
  },
  {
   "cell_type": "markdown",
   "metadata": {},
   "source": [
    "### Save Model"
   ]
  },
  {
   "cell_type": "code",
   "execution_count": 430,
   "metadata": {},
   "outputs": [],
   "source": [
    "import pickle\n",
    "with open('predictor.pickle', 'wb') as file:\n",
    "    pickle.dump(best_model, file)"
   ]
  },
  {
   "cell_type": "code",
   "execution_count": null,
   "metadata": {},
   "outputs": [],
   "source": []
  },
  {
   "cell_type": "code",
   "execution_count": null,
   "metadata": {},
   "outputs": [],
   "source": []
  },
  {
   "cell_type": "code",
   "execution_count": null,
   "metadata": {},
   "outputs": [],
   "source": []
  },
  {
   "cell_type": "code",
   "execution_count": null,
   "metadata": {},
   "outputs": [],
   "source": []
  },
  {
   "cell_type": "code",
   "execution_count": null,
   "metadata": {},
   "outputs": [],
   "source": []
  },
  {
   "cell_type": "code",
   "execution_count": null,
   "metadata": {},
   "outputs": [],
   "source": []
  },
  {
   "cell_type": "markdown",
   "metadata": {},
   "source": [
    "### Linear Regression Model"
   ]
  },
  {
   "cell_type": "code",
   "execution_count": null,
   "metadata": {},
   "outputs": [
    {
     "name": "stdout",
     "output_type": "stream",
     "text": [
      "\n",
      "DataFrame with Encoded 'Province':\n",
      "      Price  Mileage  Published_Year  Manufactured_Year       Province  \\\n",
      "0      5.00    39000            2024               2017        Western   \n",
      "1      5.78    30000            2024               2018        Western   \n",
      "3      5.35    44444            2024               2018  North Central   \n",
      "5      5.92    34000            2024               2019       Southern   \n",
      "6      4.30    33000            2024               2015        Central   \n",
      "...     ...      ...             ...                ...            ...   \n",
      "1902   6.40    19625            2023               2020        Western   \n",
      "1903   3.55    29800            2023               2015        Western   \n",
      "1904   4.75    37000            2023               2017  North Western   \n",
      "1905   4.00    37800            2023               2015  North Western   \n",
      "1906   5.10    41500            2023               2018  North Western   \n",
      "\n",
      "      Province_Encoded  \n",
      "0                    8  \n",
      "1                    8  \n",
      "3                    2  \n",
      "5                    6  \n",
      "6                    0  \n",
      "...                ...  \n",
      "1902                 8  \n",
      "1903                 8  \n",
      "1904                 3  \n",
      "1905                 3  \n",
      "1906                 3  \n",
      "\n",
      "[1821 rows x 6 columns]\n",
      "\n",
      "Training and Testing Sets Split:\n",
      "X_train:\n",
      "      Mileage  Published_Year  Manufactured_Year  Province_Encoded\n",
      "1520    32420            2023               2015                 3\n",
      "1623    25000            2023               2018                 8\n",
      "314     47000            2024               2018                 0\n",
      "1789    21000            2023               2017                 3\n",
      "635     29523            2024               2015                 3\n",
      "...       ...             ...                ...               ...\n",
      "1183    14532            2023               2018                 8\n",
      "1355    35000            2023               2018                 7\n",
      "897     85000            2023               2016                 8\n",
      "1524    19000            2023               2019                 8\n",
      "1179    26352            2023               2018                 8\n",
      "\n",
      "[1456 rows x 4 columns]\n",
      "X_test:\n",
      "      Mileage  Published_Year  Manufactured_Year  Province_Encoded\n",
      "1581    56000            2023               2015                 6\n",
      "1885    58085            2023               2014                 8\n",
      "145     86000            2024               2015                 6\n",
      "426        39            2024               2018                 8\n",
      "1774    25000            2023               2017                 8\n",
      "...       ...             ...                ...               ...\n",
      "1466    26000            2023               2017                 8\n",
      "450     25895            2024               2019                 3\n",
      "1322    35233            2023               2017                 6\n",
      "180     47000            2024               2018                 8\n",
      "306     27000            2024               2017                 8\n",
      "\n",
      "[365 rows x 4 columns]\n",
      "y_train:\n",
      "1520    4.20\n",
      "1623    5.50\n",
      "314     5.40\n",
      "1789    4.95\n",
      "635     4.15\n",
      "        ... \n",
      "1183    5.50\n",
      "1355    5.45\n",
      "897     4.55\n",
      "1524    5.65\n",
      "1179    5.50\n",
      "Name: Price, Length: 1456, dtype: float64\n",
      "y_test:\n",
      "1581    4.20\n",
      "1885    3.64\n",
      "145     4.25\n",
      "426     5.50\n",
      "1774    4.20\n",
      "        ... \n",
      "1466    5.00\n",
      "450     6.00\n",
      "1322    4.45\n",
      "180     5.45\n",
      "306     4.95\n",
      "Name: Price, Length: 365, dtype: float64\n",
      "\n",
      "Predicted Prices:\n",
      "[3.97403751 3.53440938 4.11943476 5.50533388 4.859969   5.74115738\n",
      " 5.9061942  5.71449871 4.36294097 4.87917945 4.17729268 4.18346637\n",
      " 3.77371233 5.28228821 4.19052074 5.20786546 5.05272273 4.41718845\n",
      " 4.24753122 4.90236396 5.74067985 6.32454498 5.46662724 4.96568205\n",
      " 4.41286205 5.04505045 5.00404345 3.78759419 4.86531973 5.74895119\n",
      " 4.61624865 1.88107979 4.61019434 5.46437847 3.95008395 5.03985876\n",
      " 5.47231531 5.72243555 4.82385638 1.97482807 4.35333575 5.4865396\n",
      " 5.50375313 6.38123369 4.87896615 4.41947608 4.47920492 4.35333575\n",
      " 6.19543395 4.54802242 5.47251785 2.84919988 3.48690078 5.30331008\n",
      " 4.45254625 5.48692569 6.19223276 4.84541813 3.68388749 5.63513031\n",
      " 5.71449871 4.44223909 5.71053029 4.40341456 2.87956241 4.58537684\n",
      " 5.27400579 3.68388749 5.48958206 3.95008395 5.74101188 5.32962317\n",
      " 5.71338094 5.71582152 4.85203216 4.39877546 5.72159954 4.79766481\n",
      " 5.04437829 4.79799963 6.19616017 3.77714536 5.29079468 5.05402403\n",
      " 5.92477299 5.27400579 4.96568205 4.84409532 4.2358715  6.27148968\n",
      " 5.27684718 5.91476334 4.81988796 3.54774988 4.41563994 5.50533388\n",
      " 4.42010441 4.82954445 4.86178786 2.93273924 4.215368   6.17454766\n",
      " 2.82935778 6.17009162 4.41947608 5.92658441 4.84277251 5.28194263\n",
      " 5.71270234 3.50841126 4.43732321 6.08640823 4.12438041 4.84277251\n",
      " 3.97766035 4.96568205 4.01870572 5.94345764 2.85129156 4.60291461\n",
      " 5.71582152 5.88688402 4.1812611  3.74723917 5.02520835 3.92607089\n",
      " 3.98976815 5.89296613 2.72470727 2.27227138 4.38243749 5.32001795\n",
      " 4.18655232 4.60984876 5.93153006 4.44182241 3.56038269 3.97673439\n",
      " 4.41563994 4.5384172  4.83351287 5.71866967 5.28591105 3.97750162\n",
      " 5.00604665 4.79020583 5.3086013  5.70391626 4.88377952 4.19138469\n",
      " 4.60706011 5.50113098 5.31867168 4.40399924 6.37121607 5.47431275\n",
      " 4.43026107 3.97501474 4.12075757 4.7806006  5.63513031 4.84726741\n",
      " 5.75041703 4.40227959 5.47217227 5.54380505 3.97665502 4.02298136\n",
      " 5.04522324 4.84519457 3.63362532 3.7828665  5.03505003 4.42373949\n",
      " 4.11115234 5.89561174 5.28266356 2.7028254  4.85600058 5.45445742\n",
      " 5.20786546 4.85864619 5.28061982 5.88787744 5.00835744 4.22413903\n",
      " 3.32693393 5.48623453 5.29431499 4.80941627 5.32266356 5.74606897\n",
      " 6.37531677 5.30845827 2.30135081 5.27748559 5.72243555 5.73267687\n",
      " 4.19817151 5.45365298 4.19058025 2.69057456 3.97766035 5.27136018\n",
      " 4.38215142 5.30310754 5.72772678 5.27797421 5.20786546 3.26079492\n",
      " 4.80941627 3.74685309 5.90681327 5.04505045 4.61151714 5.28194263\n",
      " 5.05464492 4.02401165 5.30308602 1.9844333  5.74644861 4.85850316\n",
      " 5.32168633 4.90101205 4.84674093 4.60887153 4.45341019 4.65899135\n",
      " 6.38123369 5.29252508 3.98425287 5.28467819 5.65914337 5.74248019\n",
      " 5.27929702 3.77007246 6.19223276 5.71230814 4.61861979 5.26210053\n",
      " 2.88756127 5.71449871 5.46987224 4.00543929 4.61130385 5.90242832\n",
      " 4.42873573 4.84277251 4.60455753 4.99449773 3.95008395 5.67355121\n",
      " 3.49880604 5.29460601 4.6107127  5.03084516 5.71582152 5.72296467\n",
      " 2.94032671 5.04505045 2.75662494 5.73545229 5.63513031 5.75525189\n",
      " 4.18152566 4.41947608 4.40227959 6.36654657 5.32513639 4.87158819\n",
      " 4.41418485 6.13857428 5.87841526 5.49368276 2.68695172 5.89316867\n",
      " 5.3042916  4.4277585  4.41418485 6.16530952 4.60427146 5.27982614\n",
      " 5.26781505 6.35726957 5.39294691 5.03843642 4.41259749 5.72769121\n",
      " 5.29106999 5.74066877 2.24346761 3.91813405 5.7701123  4.57677859\n",
      " 4.87811277 4.6014233  5.3010929  4.65565706 4.01225587 5.47516346\n",
      " 5.73413196 5.71714432 5.52013889 3.12313064 4.61798814 5.0564332\n",
      " 4.62592498 4.66042395 4.85488032 4.98969511 4.40227959 4.41683047\n",
      " 5.06406331 4.83483567 5.34364328 5.32447498 5.71205564 1.97482807\n",
      " 3.97932874 5.71231608 2.96607215 5.70992709 5.04656904 4.1899296\n",
      " 5.28723386 4.41259749 4.5384172  6.14887365 5.48157495 5.31521534\n",
      " 3.96874628 4.85321193 4.14540228 4.84674093 6.07200039 5.03579081\n",
      " 4.24247148 6.19024855 4.5384172  4.20837863 5.71449871 4.42884567\n",
      " 4.84938655 5.02388555 3.33320239 3.54774988 4.98969511 4.88398206\n",
      " 5.3020587  3.75963305 5.66394598 5.2925145  5.90403802 5.39294691\n",
      " 4.39963398 3.99221123 5.27082856 4.45128295 5.29913912 5.08228083\n",
      " 4.85864619 5.92240931 4.85603795 5.44321356 5.04240484]\n",
      "\n",
      "Model Evaluation:\n",
      "Mean Squared Error: 0.06633555164001076\n",
      "R^2 Score: 0.9220434148105461\n",
      "\n",
      "Model Coefficients:\n",
      "Intercept: -1231.281528878489\n",
      "Coefficients: [-1.32280667e-06  1.85081452e-01  4.27264854e-01 -4.80261233e-03]\n",
      "\n",
      "Comparison of Actual vs Predicted Prices:\n",
      "      Actual  Predicted\n",
      "1581    4.20   3.974038\n",
      "1885    3.64   3.534409\n",
      "145     4.25   4.119435\n",
      "426     5.50   5.505334\n",
      "1774    4.20   4.859969\n",
      "...      ...        ...\n",
      "1466    5.00   4.858646\n",
      "450     6.00   5.922409\n",
      "1322    4.45   4.856038\n",
      "180     5.45   5.443214\n",
      "306     4.95   5.042405\n",
      "\n",
      "[365 rows x 2 columns]\n"
     ]
    }
   ],
   "source": [
    "import pandas as pd\n",
    "import numpy as np\n",
    "from sklearn.model_selection import train_test_split\n",
    "from sklearn.preprocessing import LabelEncoder\n",
    "from sklearn.metrics import mean_squared_error, r2_score\n",
    "\n",
    "\n",
    "\n",
    "\n",
    "# Encode the 'Province' column using LabelEncoder\n",
    "le = LabelEncoder()\n",
    "dio['Province_Encoded'] = le.fit_transform(dio['Province'])\n",
    "print(\"\\nDataFrame with Encoded 'Province':\")\n",
    "print(dio)\n",
    "\n",
    "# Define feature columns and target variable\n",
    "feature_cols = ['Mileage', 'Published_Year', 'Manufactured_Year', 'Province_Encoded']\n",
    "X = dio[feature_cols]\n",
    "y = dio['Price']\n",
    "\n",
    "# Split the data into training and testing sets\n",
    "X_train, X_test, y_train, y_test = train_test_split(X, y, test_size=0.2, random_state=42)\n",
    "print(\"\\nTraining and Testing Sets Split:\")\n",
    "print(\"X_train:\")\n",
    "print(X_train)\n",
    "print(\"X_test:\")\n",
    "print(X_test)\n",
    "print(\"y_train:\")\n",
    "print(y_train)\n",
    "print(\"y_test:\")\n",
    "print(y_test)\n",
    "\n",
    "# Train the linear regression model\n",
    "model = LinearRegression()\n",
    "model.fit(X_train, y_train)\n",
    "\n",
    "# Make predictions on the test set\n",
    "y_pred = model.predict(X_test)\n",
    "print(\"\\nPredicted Prices:\")\n",
    "print(y_pred)\n",
    "\n",
    "# Evaluate the model\n",
    "Linear_mse = mean_squared_error(y_test, y_pred)\n",
    "Linear_r2 = r2_score(y_test, y_pred)\n",
    "print(\"\\nModel Evaluation:\")\n",
    "print(f\"Mean Squared Error: {Linear_mse}\")\n",
    "print(f\"R^2 Score: {Linear_r2}\")\n",
    "\n",
    "# Print model coefficients\n",
    "print(\"\\nModel Coefficients:\")\n",
    "print(f\"Intercept: {model.intercept_}\")\n",
    "print(f\"Coefficients: {model.coef_}\")\n",
    "\n",
    "# Optional: Combine true and predicted prices for comparison\n",
    "comparison = pd.DataFrame({'Actual': y_test, 'Predicted': y_pred})\n",
    "print(\"\\nComparison of Actual vs Predicted Prices:\")\n",
    "print(comparison)\n"
   ]
  },
  {
   "cell_type": "code",
   "execution_count": null,
   "metadata": {},
   "outputs": [
    {
     "name": "stdout",
     "output_type": "stream",
     "text": [
      "\n",
      "Average Actual and Predicted Prices per Year:\n",
      "                     Actual  Predicted\n",
      "Manufactured_Year                     \n",
      "2010               1.900000   1.953792\n",
      "2011               2.583363   2.272363\n",
      "2012               2.774615   2.822907\n",
      "2013               3.600000   3.261015\n",
      "2014               3.816667   3.657274\n",
      "2015               4.072093   4.078907\n",
      "2016               4.382295   4.488791\n",
      "2017               4.784203   4.923050\n",
      "2018               5.337183   5.355227\n",
      "2019               5.816441   5.768114\n",
      "2020               6.355000   6.237548\n"
     ]
    },
    {
     "data": {
      "image/png": "[encoded data removed]",
      "text/plain": [
       "<Figure size 1000x600 with 1 Axes>"
      ]
     },
     "metadata": {},
     "output_type": "display_data"
    }
   ],
   "source": [
    "# Combine true and predicted prices for comparison with Manufactured_Year\n",
    "comparison = pd.DataFrame({'Manufactured_Year': X_test['Manufactured_Year'], 'Actual': y_test.values, 'Predicted': y_pred})\n",
    "\n",
    "# Calculate average prices per year\n",
    "comparison_avg = comparison.groupby('Manufactured_Year').mean()\n",
    "print(\"\\nAverage Actual and Predicted Prices per Year:\")\n",
    "print(comparison_avg)\n",
    "\n",
    "# Create a line chart representing year-wise average price\n",
    "plt.figure(figsize=(10, 6))\n",
    "plt.plot(comparison_avg.index, comparison_avg['Actual'], label='Average Actual Price', marker='o')\n",
    "plt.plot(comparison_avg.index, comparison_avg['Predicted'], label='Average Predicted Price', marker='x')\n",
    "plt.title('Year-wise Average Actual vs Predicted Prices')\n",
    "plt.xlabel('Manufactured Year')\n",
    "plt.ylabel('Average Price')\n",
    "plt.legend()\n",
    "plt.grid(True)\n",
    "plt.show()"
   ]
  },
  {
   "cell_type": "code",
   "execution_count": null,
   "metadata": {},
   "outputs": [
    {
     "name": "stdout",
     "output_type": "stream",
     "text": [
      "\n",
      "Model Performance Metrics (Linear Regression):\n",
      "  Metrics  Model Fitting  Model Verification\n",
      "0     MSE       0.070468            0.066336\n",
      "1    RMSE       0.265458            0.257557\n",
      "2    MAPE       0.047232            0.046191\n"
     ]
    }
   ],
   "source": [
    "from sklearn.metrics import mean_squared_error, mean_absolute_percentage_error\n",
    "# Make predictions on both training and test sets\n",
    "y_train_pred = model.predict(X_train)\n",
    "y_test_pred = model.predict(X_test)\n",
    "# Evaluate the model on the training set\n",
    "train_mse = mean_squared_error(y_train, y_train_pred)\n",
    "train_rmse = np.sqrt(train_mse)\n",
    "train_mape = mean_absolute_percentage_error(y_train, y_train_pred)\n",
    "\n",
    "# Evaluate the model on the test set\n",
    "test_mse = mean_squared_error(y_test, y_test_pred)\n",
    "test_rmse = np.sqrt(test_mse)\n",
    "test_mape = mean_absolute_percentage_error(y_test, y_test_pred)\n",
    "\n",
    "# Create a DataFrame to display the metrics\n",
    "metrics_df = pd.DataFrame({\n",
    "    'Metrics': ['MSE', 'RMSE', 'MAPE'],\n",
    "    'Model Fitting': [train_mse, train_rmse, train_mape],\n",
    "    'Model Verification': [test_mse, test_rmse, test_mape]\n",
    "})\n",
    "\n",
    "print(\"\\nModel Performance Metrics (Linear Regression):\")\n",
    "print(metrics_df)\n",
    "\n"
   ]
  },
  {
   "cell_type": "markdown",
   "metadata": {},
   "source": [
    "### Ridge  Regression"
   ]
  },
  {
   "cell_type": "code",
   "execution_count": null,
   "metadata": {},
   "outputs": [
    {
     "name": "stdout",
     "output_type": "stream",
     "text": [
      "\n",
      "DataFrame with Encoded 'Province':\n",
      "      Price  Mileage  Published_Year  Manufactured_Year       Province  \\\n",
      "0      5.00    39000            2024               2017        Western   \n",
      "1      5.78    30000            2024               2018        Western   \n",
      "3      5.35    44444            2024               2018  North Central   \n",
      "5      5.92    34000            2024               2019       Southern   \n",
      "6      4.30    33000            2024               2015        Central   \n",
      "...     ...      ...             ...                ...            ...   \n",
      "1902   6.40    19625            2023               2020        Western   \n",
      "1903   3.55    29800            2023               2015        Western   \n",
      "1904   4.75    37000            2023               2017  North Western   \n",
      "1905   4.00    37800            2023               2015  North Western   \n",
      "1906   5.10    41500            2023               2018  North Western   \n",
      "\n",
      "      Province_Encoded  \n",
      "0                    8  \n",
      "1                    8  \n",
      "3                    2  \n",
      "5                    6  \n",
      "6                    0  \n",
      "...                ...  \n",
      "1902                 8  \n",
      "1903                 8  \n",
      "1904                 3  \n",
      "1905                 3  \n",
      "1906                 3  \n",
      "\n",
      "[1821 rows x 6 columns]\n",
      "\n",
      "Training and Testing Sets Split:\n",
      "X_train:\n",
      "      Mileage  Published_Year  Manufactured_Year  Province_Encoded\n",
      "1520    32420            2023               2015                 3\n",
      "1623    25000            2023               2018                 8\n",
      "314     47000            2024               2018                 0\n",
      "1789    21000            2023               2017                 3\n",
      "635     29523            2024               2015                 3\n",
      "...       ...             ...                ...               ...\n",
      "1183    14532            2023               2018                 8\n",
      "1355    35000            2023               2018                 7\n",
      "897     85000            2023               2016                 8\n",
      "1524    19000            2023               2019                 8\n",
      "1179    26352            2023               2018                 8\n",
      "\n",
      "[1456 rows x 4 columns]\n",
      "X_test:\n",
      "      Mileage  Published_Year  Manufactured_Year  Province_Encoded\n",
      "1581    56000            2023               2015                 6\n",
      "1885    58085            2023               2014                 8\n",
      "145     86000            2024               2015                 6\n",
      "426        39            2024               2018                 8\n",
      "1774    25000            2023               2017                 8\n",
      "...       ...             ...                ...               ...\n",
      "1466    26000            2023               2017                 8\n",
      "450     25895            2024               2019                 3\n",
      "1322    35233            2023               2017                 6\n",
      "180     47000            2024               2018                 8\n",
      "306     27000            2024               2017                 8\n",
      "\n",
      "[365 rows x 4 columns]\n",
      "y_train:\n",
      "1520    4.20\n",
      "1623    5.50\n",
      "314     5.40\n",
      "1789    4.95\n",
      "635     4.15\n",
      "        ... \n",
      "1183    5.50\n",
      "1355    5.45\n",
      "897     4.55\n",
      "1524    5.65\n",
      "1179    5.50\n",
      "Name: Price, Length: 1456, dtype: float64\n",
      "y_test:\n",
      "1581    4.20\n",
      "1885    3.64\n",
      "145     4.25\n",
      "426     5.50\n",
      "1774    4.20\n",
      "        ... \n",
      "1466    5.00\n",
      "450     6.00\n",
      "1322    4.45\n",
      "180     5.45\n",
      "306     4.95\n",
      "Name: Price, Length: 365, dtype: float64\n",
      "\n",
      "Predicted Prices (Ridge Regression):\n",
      "[3.97438777 3.53480378 4.11917977 5.50492906 4.86016576 5.74128039\n",
      " 5.90567443 5.71452879 4.36316199 4.87944801 4.17708252 4.18332462\n",
      " 3.77368708 5.28242012 4.19032642 5.20788389 5.05237091 4.41746218\n",
      " 4.24746614 4.90263586 5.74080228 6.32395562 5.46617609 4.96522607\n",
      " 4.4131184  5.04468945 5.00363337 3.78760996 4.86562052 5.74912013\n",
      " 4.61603016 1.88197186 4.609932   5.46392463 3.95044216 5.03951596\n",
      " 5.47187097 5.72247513 4.82400992 1.97495545 4.35352086 5.4861733\n",
      " 5.50334642 6.38074878 4.87921005 4.41974035 4.47960169 4.35352086\n",
      " 6.19550594 4.54768568 5.47213477 2.84918433 3.48723832 5.30350375\n",
      " 4.45285009 5.48659646 6.19230092 4.84559747 3.68368152 5.63506541\n",
      " 5.71452879 4.44259161 5.71055562 4.40365961 2.87964422 4.58506039\n",
      " 5.27410338 3.68368152 5.4892194  3.95044216 5.74113471 5.32988495\n",
      " 5.71340968 5.71585318 4.85221942 4.39911258 5.72163812 4.797787\n",
      " 5.0440531  4.79818324 6.19623303 3.777051   5.29094897 5.05374699\n",
      " 5.92437309 5.27410338 4.96522607 4.84427308 4.23580467 6.27087343\n",
      " 5.27694817 5.91425383 4.82003675 3.54816025 4.41589962 5.50492906\n",
      " 4.42036943 4.8297048  4.8619868  2.93288469 4.21527663 6.17460686\n",
      " 2.82931849 6.17013328 4.41974035 5.92617448 4.84294869 5.28204972\n",
      " 5.71273027 3.50879895 4.43764545 6.08634974 4.12410693 4.84294869\n",
      " 3.97799054 4.96522607 4.01908503 5.9430801  2.85130293 4.60261915\n",
      " 5.71585318 5.88640216 4.18105569 3.74714563 5.02482361 3.92633934\n",
      " 3.99017385 5.89243054 2.7253464  2.27301253 4.38265743 5.32024382\n",
      " 4.18635325 4.6095616  5.93110164 4.44217443 3.56080817 3.97706347\n",
      " 4.41589962 4.53804455 4.83367797 5.71876576 5.28602289 3.97783162\n",
      " 5.0057244  4.7903435  5.30880131 5.70393368 4.88400478 4.19125242\n",
      " 4.60680622 5.50079435 5.31882272 4.40424499 6.37071918 5.4738708\n",
      " 4.43059927 3.97534176 4.12050416 4.78070238 5.63506541 4.84744897\n",
      " 5.75055112 4.40252328 5.47176437 5.54354389 3.97698401 4.02339019\n",
      " 5.04487465 4.84537365 3.63419947 3.78277898 5.03467707 4.42400886\n",
      " 4.11086304 5.89507932 5.28277151 2.70343834 4.85619259 5.45399171\n",
      " 5.20788389 4.85884137 5.28072533 5.88739678 5.00797694 4.22407036\n",
      " 3.32695646 5.48585566 5.2944979  4.80962576 5.3228926  5.74619785\n",
      " 6.37482478 5.30869472 2.30209016 5.27759955 5.72247513 5.73278973\n",
      " 4.19805956 5.45322292 4.19048362 2.69114844 3.97799054 5.2714546\n",
      " 4.38244424 5.30323995 5.72777269 5.27807655 5.20788389 3.2607383\n",
      " 4.80962576 3.74672247 5.90629425 5.04468945 4.61125639 5.28204972\n",
      " 5.05435642 4.02445833 5.30329164 1.98459658 5.74657795 4.85873477\n",
      " 5.32193861 4.90128233 4.84692186 4.60860761 4.45377609 4.65878741\n",
      " 6.38074878 5.29264484 3.98466417 5.28478856 5.65916822 5.74260478\n",
      " 5.27940094 3.77003065 6.19230092 5.7123356  4.61835533 5.26218387\n",
      " 2.88759163 5.71452879 5.46948599 4.00580273 4.61101843 5.90196507\n",
      " 4.42901108 4.84294869 4.60426404 4.99414945 3.95044216 5.67362991\n",
      " 3.49915783 5.29478927 4.61048759 5.03049156 5.71585318 5.72300489\n",
      " 2.94042022 5.04468945 2.75727786 5.73553186 5.63506541 5.75539176\n",
      " 4.18132057 4.41974035 4.40252328 6.36604408 5.32535618 4.87187207\n",
      " 4.41444279 6.13851721 5.87786225 5.49332501 2.68754566 5.89269434\n",
      " 5.30448645 4.42805708 4.41444279 6.16528445 4.60405084 5.27993069\n",
      " 5.26790524 6.35669497 5.39240759 5.0380675  4.41285352 5.7277981\n",
      " 5.29118801 5.74080339 2.24410107 3.91839301 5.77026996 4.57645185\n",
      " 4.87839226 4.60113826 5.30122291 4.65543692 4.01268848 5.47478355\n",
      " 5.73424655 5.71717757 5.5198128  3.12362751 4.61777174 5.05608583\n",
      " 4.62571808 4.66022172 4.855132   4.98932888 4.40252328 4.41709157\n",
      " 5.06378608 4.83500236 5.34389743 5.32469399 5.71214381 1.97495545\n",
      " 3.97968533 5.71234355 2.96626969 5.7099517  5.04620985 4.18979559\n",
      " 5.28734728 4.41285352 4.53804455 6.1488289  5.4811417  5.31542326\n",
      " 3.96909021 4.85343721 4.14519057 4.84692186 6.07188805 5.03541872\n",
      " 4.24240035 6.19031434 4.53804455 4.20820568 5.71452879 4.42918217\n",
      " 4.84957064 5.02349922 3.33320801 3.54816025 4.98932888 4.88426858\n",
      " 5.30225088 3.75954213 5.66398879 5.29263424 5.90351568 5.39240759\n",
      " 4.3998745  3.99255883 5.27098336 4.4516829  5.29926678 5.08206201\n",
      " 4.85884137 5.92196997 4.85625441 5.4427344  5.04204067]\n",
      "\n",
      "Ridge Regression Model Evaluation:\n",
      "Mean Squared Error: 0.06632271726124032\n",
      "R^2 Score: 0.922058497587688\n",
      "\n",
      "Ridge Regression Model Coefficients:\n",
      "Intercept: -1229.9847077500433\n",
      "Coefficients: [-1.32438974e-06  1.84523692e-01  4.27181516e-01 -4.82056309e-03]\n"
     ]
    }
   ],
   "source": [
    "import pandas as pd\n",
    "import numpy as np\n",
    "from sklearn.model_selection import train_test_split\n",
    "from sklearn.preprocessing import LabelEncoder\n",
    "from sklearn.linear_model import LinearRegression, Ridge\n",
    "from sklearn.metrics import mean_squared_error, r2_score\n",
    "# Encode the 'Province' column using LabelEncoder\n",
    "le = LabelEncoder()\n",
    "dio['Province_Encoded'] = le.fit_transform(dio['Province'])\n",
    "print(\"\\nDataFrame with Encoded 'Province':\")\n",
    "print(dio)\n",
    "\n",
    "# Define feature columns and target variable\n",
    "feature_cols = ['Mileage', 'Published_Year', 'Manufactured_Year', 'Province_Encoded']\n",
    "X = dio[feature_cols]\n",
    "y = dio['Price']\n",
    "\n",
    "# Split the data into training and testing sets\n",
    "X_train, X_test, y_train, y_test = train_test_split(X, y, test_size=0.2, random_state=42)\n",
    "print(\"\\nTraining and Testing Sets Split:\")\n",
    "print(\"X_train:\")\n",
    "print(X_train)\n",
    "print(\"X_test:\")\n",
    "print(X_test)\n",
    "print(\"y_train:\")\n",
    "print(y_train)\n",
    "print(\"y_test:\")\n",
    "print(y_test)\n",
    "\n",
    "\n",
    "\n",
    "# Train the Ridge regression model\n",
    "ridge_model = Ridge(alpha=1.0)\n",
    "ridge_model.fit(X_train, y_train)\n",
    "\n",
    "# Make predictions on the test set using the Ridge model\n",
    "y_pred_ridge = ridge_model.predict(X_test)\n",
    "print(\"\\nPredicted Prices (Ridge Regression):\")\n",
    "print(y_pred_ridge)\n",
    "\n",
    "# Evaluate the Ridge regression model\n",
    "mse_ridge = mean_squared_error(y_test, y_pred_ridge)\n",
    "r2_ridge = r2_score(y_test, y_pred_ridge)\n",
    "print(\"\\nRidge Regression Model Evaluation:\")\n",
    "print(f\"Mean Squared Error: {mse_ridge}\")\n",
    "print(f\"R^2 Score: {r2_ridge}\")\n",
    "\n",
    "# Print Ridge model coefficients\n",
    "print(\"\\nRidge Regression Model Coefficients:\")\n",
    "print(f\"Intercept: {ridge_model.intercept_}\")\n",
    "print(f\"Coefficients: {ridge_model.coef_}\")\n",
    "\n",
    "# Optional: Combine true and predicted prices for comparison (Linear vs Ridge)\n",
    "comparison = pd.DataFrame({\n",
    "    'Actual': y_test,\n",
    "    'Predicted_Ridge': y_pred_ridge\n",
    "})\n"
   ]
  },
  {
   "cell_type": "code",
   "execution_count": null,
   "metadata": {},
   "outputs": [
    {
     "name": "stdout",
     "output_type": "stream",
     "text": [
      "\n",
      "Average Actual and Predicted Prices per Year:\n",
      "                     Actual  Predicted\n",
      "Manufactured_Year                     \n",
      "2010               1.900000   1.953792\n",
      "2011               2.583363   2.272363\n",
      "2012               2.774615   2.822907\n",
      "2013               3.600000   3.261015\n",
      "2014               3.816667   3.657274\n",
      "2015               4.072093   4.078907\n",
      "2016               4.382295   4.488791\n",
      "2017               4.784203   4.923050\n",
      "2018               5.337183   5.355227\n",
      "2019               5.816441   5.768114\n",
      "2020               6.355000   6.237548\n"
     ]
    },
    {
     "data": {
      "image/png": "[encoded data removed]",
      "text/plain": [
       "<Figure size 1000x600 with 1 Axes>"
      ]
     },
     "metadata": {},
     "output_type": "display_data"
    }
   ],
   "source": [
    "# Combine true and predicted prices for comparison with Manufactured_Year\n",
    "comparison = pd.DataFrame({'Manufactured_Year': X_test['Manufactured_Year'], 'Actual': y_test.values, 'Predicted': y_pred})\n",
    "\n",
    "# Calculate average prices per year\n",
    "comparison_avg = comparison.groupby('Manufactured_Year').mean()\n",
    "print(\"\\nAverage Actual and Predicted Prices per Year:\")\n",
    "print(comparison_avg)\n",
    "\n",
    "# Create a line chart representing year-wise average price\n",
    "plt.figure(figsize=(10, 6))\n",
    "plt.plot(comparison_avg.index, comparison_avg['Actual'], label='Average Actual Price', marker='o')\n",
    "plt.plot(comparison_avg.index, comparison_avg['Predicted'], label='Average Predicted Price', marker='x')\n",
    "plt.title('Year-wise Average Actual vs Predicted Prices')\n",
    "plt.xlabel('Manufactured Year')\n",
    "plt.ylabel('Average Price')\n",
    "plt.legend()\n",
    "plt.grid(True)\n",
    "plt.show()"
   ]
  },
  {
   "cell_type": "code",
   "execution_count": null,
   "metadata": {},
   "outputs": [
    {
     "name": "stdout",
     "output_type": "stream",
     "text": [
      "\n",
      "Model Performance Metrics(Ridge Regression):\n",
      "  Metrics  Model Fitting  Model Verification\n",
      "0     MSE       0.070468            0.066323\n",
      "1    RMSE       0.265458            0.257532\n",
      "2    MAPE       0.047231            0.046181\n"
     ]
    }
   ],
   "source": [
    "# Make predictions on both training and test sets\n",
    "y_train_pred_ridge = ridge_model.predict(X_train)\n",
    "y_test_pred_ridge = ridge_model.predict(X_test)\n",
    "\n",
    "# Evaluate the Ridge regression model on the training set\n",
    "train_mse_ridge = mean_squared_error(y_train, y_train_pred_ridge)\n",
    "train_rmse_ridge = np.sqrt(train_mse_ridge)\n",
    "train_mape_ridge = mean_absolute_percentage_error(y_train, y_train_pred_ridge)\n",
    "\n",
    "# Evaluate the Ridge regression model on the test set\n",
    "test_mse_ridge = mean_squared_error(y_test, y_test_pred_ridge)\n",
    "test_rmse_ridge = np.sqrt(test_mse_ridge)\n",
    "test_mape_ridge = mean_absolute_percentage_error(y_test, y_test_pred_ridge)\n",
    "\n",
    "# Create a DataFrame to display the metrics for the Ridge model\n",
    "metrics_df = pd.DataFrame({\n",
    "    'Metrics': ['MSE', 'RMSE', 'MAPE'],\n",
    "    'Model Fitting': [train_mse_ridge, train_rmse_ridge, train_mape_ridge],\n",
    "    'Model Verification': [test_mse_ridge, test_rmse_ridge, test_mape_ridge]\n",
    "})\n",
    "\n",
    "print(\"\\nModel Performance Metrics(Ridge Regression):\")\n",
    "print(metrics_df)\n"
   ]
  },
  {
   "cell_type": "markdown",
   "metadata": {},
   "source": [
    "### Lasso Regression Model"
   ]
  },
  {
   "cell_type": "code",
   "execution_count": null,
   "metadata": {},
   "outputs": [
    {
     "name": "stdout",
     "output_type": "stream",
     "text": [
      "Lasso Regression Model Evaluation:\n",
      "Mean Squared Error: 0.07108284862056163\n",
      "R^2 Score: 0.9164644597504854\n",
      "\n",
      "Lasso Regression Model Coefficients:\n",
      "Intercept: -827.0935131055288\n",
      "Coefficients: [-1.48050199e-06  0.00000000e+00  4.12542428e-01 -3.80141837e-03]\n",
      "\n",
      "Comparison of Actual vs Predicted Prices (Lasso Regression):\n",
      "      Actual  Predicted\n",
      "1581    4.20   4.073762\n",
      "1885    3.64   3.650530\n",
      "145     4.25   4.029347\n",
      "426     5.50   5.386637\n",
      "1774    4.20   4.937139\n",
      "...      ...        ...\n",
      "1466    5.00   4.935659\n",
      "450     6.00   5.779906\n",
      "1322    4.45   4.929592\n",
      "180     5.45   5.317111\n",
      "306     4.95   4.934178\n",
      "\n",
      "[365 rows x 2 columns]\n"
     ]
    }
   ],
   "source": [
    "from sklearn.linear_model import Lasso\n",
    "from sklearn.model_selection import RandomizedSearchCV\n",
    "\n",
    "le = LabelEncoder()\n",
    "dio['Province_Encoded'] = le.fit_transform(dio['Province'])\n",
    "\n",
    "# Define feature columns and target variable\n",
    "feature_cols = ['Mileage', 'Published_Year', 'Manufactured_Year', 'Province_Encoded']\n",
    "X = dio[feature_cols]\n",
    "y = dio['Price']\n",
    "\n",
    "# Split the data into training and testing sets\n",
    "X_train, X_test, y_train, y_test = train_test_split(X, y, test_size=0.2, random_state=42)\n",
    "\n",
    "# Train the Lasso regression model\n",
    "lasso_model = Lasso(alpha=0.05)  # You can adjust alpha for regularization strength\n",
    "lasso_model.fit(X_train, y_train)\n",
    "\n",
    "# Make predictions on the test set using the Lasso model\n",
    "y_pred_lasso = lasso_model.predict(X_test)\n",
    "\n",
    "# Evaluate the Lasso regression model\n",
    "mse_lasso = mean_squared_error(y_test, y_pred_lasso)\n",
    "r2_lasso = r2_score(y_test, y_pred_lasso)\n",
    "\n",
    "# Print Lasso model evaluation metrics\n",
    "print(\"Lasso Regression Model Evaluation:\")\n",
    "print(f\"Mean Squared Error: {mse_lasso}\")\n",
    "print(f\"R^2 Score: {r2_lasso}\")\n",
    "\n",
    "# Print Lasso model coefficients\n",
    "print(\"\\nLasso Regression Model Coefficients:\")\n",
    "print(f\"Intercept: {lasso_model.intercept_}\")\n",
    "print(f\"Coefficients: {lasso_model.coef_}\")\n",
    "\n",
    "# Optional: Combine true and predicted prices for comparison\n",
    "comparison = pd.DataFrame({'Actual': y_test, 'Predicted': y_pred_lasso})\n",
    "print(\"\\nComparison of Actual vs Predicted Prices (Lasso Regression):\")\n",
    "print(comparison)"
   ]
  },
  {
   "cell_type": "code",
   "execution_count": null,
   "metadata": {},
   "outputs": [
    {
     "name": "stdout",
     "output_type": "stream",
     "text": [
      "\n",
      "Average Actual and Predicted Prices per Year:\n",
      "                     Actual  Predicted\n",
      "Manufactured_Year                     \n",
      "2010               1.900000   1.953792\n",
      "2011               2.583363   2.272363\n",
      "2012               2.774615   2.822907\n",
      "2013               3.600000   3.261015\n",
      "2014               3.816667   3.657274\n",
      "2015               4.072093   4.078907\n",
      "2016               4.382295   4.488791\n",
      "2017               4.784203   4.923050\n",
      "2018               5.337183   5.355227\n",
      "2019               5.816441   5.768114\n",
      "2020               6.355000   6.237548\n"
     ]
    },
    {
     "data": {
      "image/png": "[encoded data removed]",
      "text/plain": [
       "<Figure size 1000x600 with 1 Axes>"
      ]
     },
     "metadata": {},
     "output_type": "display_data"
    }
   ],
   "source": [
    "# Combine true and predicted prices for comparison with Manufactured_Year\n",
    "comparison = pd.DataFrame({'Manufactured_Year': X_test['Manufactured_Year'], 'Actual': y_test.values, 'Predicted': y_pred})\n",
    "\n",
    "# Calculate average prices per year\n",
    "comparison_avg = comparison.groupby('Manufactured_Year').mean()\n",
    "print(\"\\nAverage Actual and Predicted Prices per Year:\")\n",
    "print(comparison_avg)\n",
    "\n",
    "# Create a line chart representing year-wise average price\n",
    "plt.figure(figsize=(10, 6))\n",
    "plt.plot(comparison_avg.index, comparison_avg['Actual'], label='Average Actual Price', marker='o')\n",
    "plt.plot(comparison_avg.index, comparison_avg['Predicted'], label='Average Predicted Price', marker='x')\n",
    "plt.title('Year-wise Average Actual vs Predicted Prices')\n",
    "plt.xlabel('Manufactured Year')\n",
    "plt.ylabel('Average Price')\n",
    "plt.legend()\n",
    "plt.grid(True)\n",
    "plt.show()"
   ]
  },
  {
   "cell_type": "markdown",
   "metadata": {},
   "source": [
    "# Model Evaluations"
   ]
  },
  {
   "cell_type": "code",
   "execution_count": null,
   "metadata": {},
   "outputs": [
    {
     "name": "stdout",
     "output_type": "stream",
     "text": [
      "\n",
      "Model Performance Metrics(Lasso Regression):\n",
      "  Metrics  Model Fitting  Model Verification\n",
      "0     MSE       0.079387            0.071083\n",
      "1    RMSE       0.281757            0.266614\n",
      "2    MAPE       0.049028            0.047496\n"
     ]
    }
   ],
   "source": [
    "# Make predictions on both training and test sets\n",
    "y_train_pred_lasso = lasso_model.predict(X_train)\n",
    "y_test_pred_lasso = lasso_model.predict(X_test)\n",
    "\n",
    "# Evaluate the Ridge regression model on the training set\n",
    "train_mse_lasso = mean_squared_error(y_train, y_train_pred_lasso)\n",
    "train_rmse_lasso = np.sqrt(train_mse_lasso)\n",
    "train_mape_lasso = mean_absolute_percentage_error(y_train, y_train_pred_lasso)\n",
    "\n",
    "# Evaluate the Ridge regression model on the test set\n",
    "test_mse_lasso = mean_squared_error(y_test, y_test_pred_lasso)\n",
    "test_rmse_lasso = np.sqrt(test_mse_lasso)\n",
    "test_mape_lasso = mean_absolute_percentage_error(y_test, y_test_pred_lasso)\n",
    "\n",
    "# Create a DataFrame to display the metrics for the Ridge model\n",
    "metrics_df = pd.DataFrame({\n",
    "    'Metrics': ['MSE', 'RMSE', 'MAPE'],\n",
    "    'Model Fitting': [train_mse_lasso, train_rmse_lasso, train_mape_lasso],\n",
    "    'Model Verification': [test_mse_lasso, test_rmse_lasso, test_mape_lasso]\n",
    "})\n",
    "\n",
    "print(\"\\nModel Performance Metrics(Lasso Regression):\")\n",
    "print(metrics_df)\n",
    "\n"
   ]
  },
  {
   "cell_type": "markdown",
   "metadata": {},
   "source": [
    "# Predictions"
   ]
  },
  {
   "cell_type": "code",
   "execution_count": null,
   "metadata": {},
   "outputs": [],
   "source": [
    "new_data = {\n",
    "    'Mileage': [12000],\n",
    "    'Published_Year': [2024],\n",
    "    'Manufactured_Year': [2016],\n",
    "    'Province': ['Western']  # New province\n",
    "}"
   ]
  },
  {
   "cell_type": "code",
   "execution_count": null,
   "metadata": {},
   "outputs": [],
   "source": [
    "# Create DataFrame for new values\n",
    "new_df = pd.DataFrame(new_data)\n",
    "le = LabelEncoder()\n",
    "new_df['Province_Encoded'] = le.fit_transform(new_df['Province'])\n",
    "feature_cols = ['Mileage', 'Published_Year', 'Manufactured_Year', 'Province_Encoded']"
   ]
  },
  {
   "cell_type": "code",
   "execution_count": null,
   "metadata": {},
   "outputs": [
    {
     "name": "stdout",
     "output_type": "stream",
     "text": [
      "Linear Regression Model:[4.67340298]\n",
      "\n",
      "Ridge Model:[4.67328951]\n",
      "\n",
      "Lasso Model:[4.57425483]\n"
     ]
    }
   ],
   "source": [
    "# Prepare features for prediction\n",
    "X_new = new_df[feature_cols]\n",
    "\n",
    "# Make predictions using the Lasso model\n",
    "y_pred_new1 = model.predict(X_new)\n",
    "y_pred_new2 = ridge_model.predict(X_new)\n",
    "y_pred_new3 = lasso_model.predict(X_new)\n",
    "\n",
    "# Print the predicted prices\n",
    "print(f\"Linear Regression Model:{y_pred_new1}\\n\")\n",
    "print(f\"Ridge Model:{y_pred_new2}\\n\")\n",
    "print(f\"Lasso Model:{y_pred_new3}\")"
   ]
  },
  {
   "cell_type": "code",
   "execution_count": null,
   "metadata": {},
   "outputs": [
    {
     "name": "stdout",
     "output_type": "stream",
     "text": [
      "Linear Regression Model:[4.67340298]\n",
      "\n",
      "Ridge Model:[4.67328951]\n",
      "\n",
      "Lasso Model:[4.57425483]\n"
     ]
    }
   ],
   "source": [
    "# Prepare features for prediction\n",
    "X_new = new_df[feature_cols]\n",
    "\n",
    "# Make predictions using the Lasso model\n",
    "y_pred_new1 = model.predict(X_new)\n",
    "y_pred_new2 = ridge_model.predict(X_new)\n",
    "y_pred_new3 = lasso_model.predict(X_new)\n",
    "\n",
    "# Print the predicted prices\n",
    "print(f\"Linear Regression Model:{y_pred_new1}\\n\")\n",
    "print(f\"Ridge Model:{y_pred_new2}\\n\")\n",
    "print(f\"Lasso Model:{y_pred_new3}\")\n"
   ]
  }
 ],
 "metadata": {
  "kernelspec": {
   "display_name": "base",
   "language": "python",
   "name": "python3"
  },
  "language_info": {
   "codemirror_mode": {
    "name": "ipython",
    "version": 3
   },
   "file_extension": ".py",
   "mimetype": "text/x-python",
   "name": "python",
   "nbconvert_exporter": "python",
   "pygments_lexer": "ipython3",
   "version": "3.9.13"
  }
 },
 "nbformat": 4,
 "nbformat_minor": 2
}
