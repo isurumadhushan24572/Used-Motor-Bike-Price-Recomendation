{
 "cells": [
  {
   "cell_type": "markdown",
   "metadata": {},
   "source": [
    "# Predicting the Price of Used Hero Pleasure Motor Bike in Sri Lanka"
   ]
  },
  {
   "cell_type": "markdown",
   "metadata": {},
   "source": [
    "In this Project, we are going to predict the Price of Sri Lankan Used Hero Plesure Bike using various features like Brand, Price, Mileage, Year etc. The data is obtained using web scraping reputed vehecle reselling site called Riyasewana.\n",
    "\n",
    "**To be able to predict used Honda Dio Bike market value can help both buyers and sellers.**\n",
    "\n",
    "There are lots of individuals who are interested in Used Hero Plesure used Motor Bike market at some points in their life because they wanted to sell their motor bike or buy a used motor bike. In this process, it’s a big corner to pay too much or sell less then it’s market value."
   ]
  },
  {
   "cell_type": "markdown",
   "metadata": {},
   "source": [
    "# Importing Libraries"
   ]
  },
  {
   "cell_type": "code",
   "execution_count": 64,
   "metadata": {},
   "outputs": [],
   "source": [
    "import numpy as np\n",
    "import pandas as pd\n",
    "import matplotlib.pyplot as plt\n",
    "import seaborn as sns\n",
    "from sklearn.metrics import mean_squared_error\n",
    "from sklearn.metrics import r2_score\n",
    "import pickle\n",
    "import warnings\n",
    "warnings.simplefilter(action='ignore', category=FutureWarning)\n"
   ]
  },
  {
   "cell_type": "markdown",
   "metadata": {},
   "source": [
    "# Loading the raw data"
   ]
  },
  {
   "cell_type": "code",
   "execution_count": 65,
   "metadata": {},
   "outputs": [
    {
     "data": {
      "text/html": [
       "<div>\n",
       "<style scoped>\n",
       "    .dataframe tbody tr th:only-of-type {\n",
       "        vertical-align: middle;\n",
       "    }\n",
       "\n",
       "    .dataframe tbody tr th {\n",
       "        vertical-align: top;\n",
       "    }\n",
       "\n",
       "    .dataframe thead th {\n",
       "        text-align: right;\n",
       "    }\n",
       "</style>\n",
       "<table border=\"1\" class=\"dataframe\">\n",
       "  <thead>\n",
       "    <tr style=\"text-align: right;\">\n",
       "      <th></th>\n",
       "      <th>Title</th>\n",
       "      <th>Link</th>\n",
       "      <th>Location</th>\n",
       "      <th>Price</th>\n",
       "      <th>Mileage</th>\n",
       "      <th>Date</th>\n",
       "    </tr>\n",
       "  </thead>\n",
       "  <tbody>\n",
       "    <tr>\n",
       "      <th>0</th>\n",
       "      <td>Hero Pleasure 2015 Motorbike</td>\n",
       "      <td>https://riyasewana.com/buy/hero-pleasure-sale-...</td>\n",
       "      <td>Padukka</td>\n",
       "      <td>Rs. 170,000</td>\n",
       "      <td>20240125</td>\n",
       "      <td>2024-01-25</td>\n",
       "    </tr>\n",
       "    <tr>\n",
       "      <th>1</th>\n",
       "      <td>Hero Pleasure 2017 Motorbike</td>\n",
       "      <td>https://riyasewana.com/buy/hero-pleasure-sale-...</td>\n",
       "      <td>Anuradapura</td>\n",
       "      <td>Rs. 335,000</td>\n",
       "      <td>1</td>\n",
       "      <td>2024-01-25</td>\n",
       "    </tr>\n",
       "    <tr>\n",
       "      <th>2</th>\n",
       "      <td>Hero Pleasure 2015 Motorbike</td>\n",
       "      <td>https://riyasewana.com/buy/hero-pleasure-sale-...</td>\n",
       "      <td>Anuradapura</td>\n",
       "      <td>Rs. 275,000</td>\n",
       "      <td>1</td>\n",
       "      <td>2024-01-25</td>\n",
       "    </tr>\n",
       "    <tr>\n",
       "      <th>3</th>\n",
       "      <td>Hero Pleasure 2008 Motorbike</td>\n",
       "      <td>https://riyasewana.com/buy/hero-pleasure-sale-...</td>\n",
       "      <td>Dambulla</td>\n",
       "      <td>Rs. 170,000</td>\n",
       "      <td>20240125</td>\n",
       "      <td>2024-01-25</td>\n",
       "    </tr>\n",
       "    <tr>\n",
       "      <th>4</th>\n",
       "      <td>Hero Pleasure 2009 Motorbike</td>\n",
       "      <td>https://riyasewana.com/buy/hero-pleasure-sale-...</td>\n",
       "      <td>Eheliyagoda</td>\n",
       "      <td>Rs. 185,000</td>\n",
       "      <td>20240125</td>\n",
       "      <td>2024-01-25</td>\n",
       "    </tr>\n",
       "  </tbody>\n",
       "</table>\n",
       "</div>"
      ],
      "text/plain": [
       "                          Title  \\\n",
       "0  Hero Pleasure 2015 Motorbike   \n",
       "1  Hero Pleasure 2017 Motorbike   \n",
       "2  Hero Pleasure 2015 Motorbike   \n",
       "3  Hero Pleasure 2008 Motorbike   \n",
       "4  Hero Pleasure 2009 Motorbike   \n",
       "\n",
       "                                                Link     Location  \\\n",
       "0  https://riyasewana.com/buy/hero-pleasure-sale-...      Padukka   \n",
       "1  https://riyasewana.com/buy/hero-pleasure-sale-...  Anuradapura   \n",
       "2  https://riyasewana.com/buy/hero-pleasure-sale-...  Anuradapura   \n",
       "3  https://riyasewana.com/buy/hero-pleasure-sale-...     Dambulla   \n",
       "4  https://riyasewana.com/buy/hero-pleasure-sale-...  Eheliyagoda   \n",
       "\n",
       "         Price   Mileage        Date  \n",
       "0  Rs. 170,000  20240125  2024-01-25  \n",
       "1  Rs. 335,000         1  2024-01-25  \n",
       "2  Rs. 275,000         1  2024-01-25  \n",
       "3  Rs. 170,000  20240125  2024-01-25  \n",
       "4  Rs. 185,000  20240125  2024-01-25  "
      ]
     },
     "execution_count": 65,
     "metadata": {},
     "output_type": "execute_result"
    }
   ],
   "source": [
    "pleasure=pd.read_excel(\"pleasure.xlsx\")\n",
    "pleasure.head()"
   ]
  },
  {
   "cell_type": "markdown",
   "metadata": {},
   "source": [
    "### Drop unwanted column"
   ]
  },
  {
   "cell_type": "code",
   "execution_count": 66,
   "metadata": {},
   "outputs": [],
   "source": [
    "pleasure.drop(\"Link\",axis=1,inplace=True)"
   ]
  },
  {
   "cell_type": "markdown",
   "metadata": {},
   "source": [
    "### Number of rows and columns in data frame"
   ]
  },
  {
   "cell_type": "code",
   "execution_count": 67,
   "metadata": {},
   "outputs": [
    {
     "data": {
      "text/plain": [
       "(559, 5)"
      ]
     },
     "execution_count": 67,
     "metadata": {},
     "output_type": "execute_result"
    }
   ],
   "source": [
    "pleasure.shape"
   ]
  },
  {
   "cell_type": "markdown",
   "metadata": {},
   "source": [
    "### Check the count of duplicated rows"
   ]
  },
  {
   "cell_type": "code",
   "execution_count": 68,
   "metadata": {},
   "outputs": [
    {
     "data": {
      "text/plain": [
       "6"
      ]
     },
     "execution_count": 68,
     "metadata": {},
     "output_type": "execute_result"
    }
   ],
   "source": [
    "pleasure.duplicated().sum()"
   ]
  },
  {
   "cell_type": "markdown",
   "metadata": {},
   "source": [
    "### Deleting duplicated rows and check the task completed successfully"
   ]
  },
  {
   "cell_type": "code",
   "execution_count": 69,
   "metadata": {},
   "outputs": [
    {
     "data": {
      "text/plain": [
       "0"
      ]
     },
     "execution_count": 69,
     "metadata": {},
     "output_type": "execute_result"
    }
   ],
   "source": [
    "pleasure.drop_duplicates(inplace=True)\n",
    "pleasure.duplicated().sum()"
   ]
  },
  {
   "cell_type": "markdown",
   "metadata": {},
   "source": [
    "### Check missing values included rows in data frame"
   ]
  },
  {
   "cell_type": "code",
   "execution_count": 70,
   "metadata": {},
   "outputs": [
    {
     "data": {
      "text/plain": [
       "Title       0\n",
       "Location    0\n",
       "Price       0\n",
       "Mileage     0\n",
       "Date        0\n",
       "dtype: int64"
      ]
     },
     "execution_count": 70,
     "metadata": {},
     "output_type": "execute_result"
    }
   ],
   "source": [
    "pleasure.isnull().sum()"
   ]
  },
  {
   "cell_type": "markdown",
   "metadata": {},
   "source": [
    "### Get Summarized Information of the data frame"
   ]
  },
  {
   "cell_type": "code",
   "execution_count": 71,
   "metadata": {},
   "outputs": [
    {
     "name": "stdout",
     "output_type": "stream",
     "text": [
      "<class 'pandas.core.frame.DataFrame'>\n",
      "Int64Index: 553 entries, 0 to 558\n",
      "Data columns (total 5 columns):\n",
      " #   Column    Non-Null Count  Dtype \n",
      "---  ------    --------------  ----- \n",
      " 0   Title     553 non-null    object\n",
      " 1   Location  553 non-null    object\n",
      " 2   Price     553 non-null    object\n",
      " 3   Mileage   553 non-null    int64 \n",
      " 4   Date      553 non-null    object\n",
      "dtypes: int64(1), object(4)\n",
      "memory usage: 25.9+ KB\n"
     ]
    }
   ],
   "source": [
    "pleasure.info()"
   ]
  },
  {
   "cell_type": "markdown",
   "metadata": {},
   "source": [
    "### Get Only Published Year from Date and store it as Published_Year"
   ]
  },
  {
   "cell_type": "code",
   "execution_count": 72,
   "metadata": {},
   "outputs": [],
   "source": [
    "pleasure[\"Published_Year\"]=pd.to_datetime(pleasure[\"Date\"]).dt.year"
   ]
  },
  {
   "cell_type": "markdown",
   "metadata": {},
   "source": [
    "### Get Model, Brand and Year of manufatured from Title"
   ]
  },
  {
   "cell_type": "code",
   "execution_count": 73,
   "metadata": {},
   "outputs": [],
   "source": [
    "pleasure[\"Model\"]=pleasure[\"Title\"].str.split().str[0]\n",
    "pleasure[\"Brand\"]=pleasure[\"Title\"].str.split().str[1]\n",
    "pleasure[\"Year\"]=pleasure[\"Title\"].str.split().str[2]\n",
    "\n",
    "pleasure.drop([\"Title\",\"Date\"],axis=1,inplace=True)  # drop Title and Date column permanatly"
   ]
  },
  {
   "cell_type": "markdown",
   "metadata": {},
   "source": [
    "### Get Number of unique value of every variables"
   ]
  },
  {
   "cell_type": "code",
   "execution_count": 74,
   "metadata": {},
   "outputs": [
    {
     "data": {
      "text/plain": [
       "Location           70\n",
       "Price             113\n",
       "Mileage           294\n",
       "Published_Year      2\n",
       "Model               1\n",
       "Brand               2\n",
       "Year               15\n",
       "dtype: int64"
      ]
     },
     "execution_count": 74,
     "metadata": {},
     "output_type": "execute_result"
    }
   ],
   "source": [
    "pleasure.nunique()"
   ]
  },
  {
   "cell_type": "markdown",
   "metadata": {},
   "source": [
    "### Get the data types of every varible"
   ]
  },
  {
   "cell_type": "code",
   "execution_count": 75,
   "metadata": {},
   "outputs": [
    {
     "data": {
      "text/plain": [
       "Location          object\n",
       "Price             object\n",
       "Mileage            int64\n",
       "Published_Year     int64\n",
       "Model             object\n",
       "Brand             object\n",
       "Year              object\n",
       "dtype: object"
      ]
     },
     "execution_count": 75,
     "metadata": {},
     "output_type": "execute_result"
    }
   ],
   "source": [
    "pleasure.dtypes"
   ]
  },
  {
   "cell_type": "markdown",
   "metadata": {},
   "source": [
    "### Get First 5 rows of  the data frame"
   ]
  },
  {
   "cell_type": "code",
   "execution_count": 76,
   "metadata": {},
   "outputs": [
    {
     "data": {
      "text/html": [
       "<div>\n",
       "<style scoped>\n",
       "    .dataframe tbody tr th:only-of-type {\n",
       "        vertical-align: middle;\n",
       "    }\n",
       "\n",
       "    .dataframe tbody tr th {\n",
       "        vertical-align: top;\n",
       "    }\n",
       "\n",
       "    .dataframe thead th {\n",
       "        text-align: right;\n",
       "    }\n",
       "</style>\n",
       "<table border=\"1\" class=\"dataframe\">\n",
       "  <thead>\n",
       "    <tr style=\"text-align: right;\">\n",
       "      <th></th>\n",
       "      <th>Location</th>\n",
       "      <th>Price</th>\n",
       "      <th>Mileage</th>\n",
       "      <th>Published_Year</th>\n",
       "      <th>Model</th>\n",
       "      <th>Brand</th>\n",
       "      <th>Year</th>\n",
       "    </tr>\n",
       "  </thead>\n",
       "  <tbody>\n",
       "    <tr>\n",
       "      <th>0</th>\n",
       "      <td>Padukka</td>\n",
       "      <td>Rs. 170,000</td>\n",
       "      <td>20240125</td>\n",
       "      <td>2024</td>\n",
       "      <td>Hero</td>\n",
       "      <td>Pleasure</td>\n",
       "      <td>2015</td>\n",
       "    </tr>\n",
       "    <tr>\n",
       "      <th>1</th>\n",
       "      <td>Anuradapura</td>\n",
       "      <td>Rs. 335,000</td>\n",
       "      <td>1</td>\n",
       "      <td>2024</td>\n",
       "      <td>Hero</td>\n",
       "      <td>Pleasure</td>\n",
       "      <td>2017</td>\n",
       "    </tr>\n",
       "    <tr>\n",
       "      <th>2</th>\n",
       "      <td>Anuradapura</td>\n",
       "      <td>Rs. 275,000</td>\n",
       "      <td>1</td>\n",
       "      <td>2024</td>\n",
       "      <td>Hero</td>\n",
       "      <td>Pleasure</td>\n",
       "      <td>2015</td>\n",
       "    </tr>\n",
       "    <tr>\n",
       "      <th>3</th>\n",
       "      <td>Dambulla</td>\n",
       "      <td>Rs. 170,000</td>\n",
       "      <td>20240125</td>\n",
       "      <td>2024</td>\n",
       "      <td>Hero</td>\n",
       "      <td>Pleasure</td>\n",
       "      <td>2008</td>\n",
       "    </tr>\n",
       "    <tr>\n",
       "      <th>4</th>\n",
       "      <td>Eheliyagoda</td>\n",
       "      <td>Rs. 185,000</td>\n",
       "      <td>20240125</td>\n",
       "      <td>2024</td>\n",
       "      <td>Hero</td>\n",
       "      <td>Pleasure</td>\n",
       "      <td>2009</td>\n",
       "    </tr>\n",
       "  </tbody>\n",
       "</table>\n",
       "</div>"
      ],
      "text/plain": [
       "      Location        Price   Mileage  Published_Year Model     Brand  Year\n",
       "0      Padukka  Rs. 170,000  20240125            2024  Hero  Pleasure  2015\n",
       "1  Anuradapura  Rs. 335,000         1            2024  Hero  Pleasure  2017\n",
       "2  Anuradapura  Rs. 275,000         1            2024  Hero  Pleasure  2015\n",
       "3     Dambulla  Rs. 170,000  20240125            2024  Hero  Pleasure  2008\n",
       "4  Eheliyagoda  Rs. 185,000  20240125            2024  Hero  Pleasure  2009"
      ]
     },
     "execution_count": 76,
     "metadata": {},
     "output_type": "execute_result"
    }
   ],
   "source": [
    "pleasure.head()"
   ]
  },
  {
   "cell_type": "markdown",
   "metadata": {},
   "source": [
    "### Get Unique values of Year variable"
   ]
  },
  {
   "cell_type": "code",
   "execution_count": 77,
   "metadata": {},
   "outputs": [
    {
     "data": {
      "text/plain": [
       "array(['2015', '2017', '2008', '2009', '2010', '2011', '2013', '2012',\n",
       "       '2019', '2016', '2014', '2018', '2020', '2007', '2006'],\n",
       "      dtype=object)"
      ]
     },
     "execution_count": 77,
     "metadata": {},
     "output_type": "execute_result"
    }
   ],
   "source": [
    "pleasure[\"Year\"].unique()"
   ]
  },
  {
   "cell_type": "markdown",
   "metadata": {},
   "source": [
    "### Convert Price into intiger format and convert it as Lacs"
   ]
  },
  {
   "cell_type": "code",
   "execution_count": 78,
   "metadata": {},
   "outputs": [
    {
     "data": {
      "text/html": [
       "<div>\n",
       "<style scoped>\n",
       "    .dataframe tbody tr th:only-of-type {\n",
       "        vertical-align: middle;\n",
       "    }\n",
       "\n",
       "    .dataframe tbody tr th {\n",
       "        vertical-align: top;\n",
       "    }\n",
       "\n",
       "    .dataframe thead th {\n",
       "        text-align: right;\n",
       "    }\n",
       "</style>\n",
       "<table border=\"1\" class=\"dataframe\">\n",
       "  <thead>\n",
       "    <tr style=\"text-align: right;\">\n",
       "      <th></th>\n",
       "      <th>Location</th>\n",
       "      <th>Price</th>\n",
       "      <th>Mileage</th>\n",
       "      <th>Published_Year</th>\n",
       "      <th>Model</th>\n",
       "      <th>Brand</th>\n",
       "      <th>Year</th>\n",
       "    </tr>\n",
       "  </thead>\n",
       "  <tbody>\n",
       "    <tr>\n",
       "      <th>0</th>\n",
       "      <td>Padukka</td>\n",
       "      <td>1.70</td>\n",
       "      <td>20240125</td>\n",
       "      <td>2024</td>\n",
       "      <td>Hero</td>\n",
       "      <td>Pleasure</td>\n",
       "      <td>2015</td>\n",
       "    </tr>\n",
       "    <tr>\n",
       "      <th>1</th>\n",
       "      <td>Anuradapura</td>\n",
       "      <td>3.35</td>\n",
       "      <td>1</td>\n",
       "      <td>2024</td>\n",
       "      <td>Hero</td>\n",
       "      <td>Pleasure</td>\n",
       "      <td>2017</td>\n",
       "    </tr>\n",
       "    <tr>\n",
       "      <th>2</th>\n",
       "      <td>Anuradapura</td>\n",
       "      <td>2.75</td>\n",
       "      <td>1</td>\n",
       "      <td>2024</td>\n",
       "      <td>Hero</td>\n",
       "      <td>Pleasure</td>\n",
       "      <td>2015</td>\n",
       "    </tr>\n",
       "    <tr>\n",
       "      <th>3</th>\n",
       "      <td>Dambulla</td>\n",
       "      <td>1.70</td>\n",
       "      <td>20240125</td>\n",
       "      <td>2024</td>\n",
       "      <td>Hero</td>\n",
       "      <td>Pleasure</td>\n",
       "      <td>2008</td>\n",
       "    </tr>\n",
       "    <tr>\n",
       "      <th>4</th>\n",
       "      <td>Eheliyagoda</td>\n",
       "      <td>1.85</td>\n",
       "      <td>20240125</td>\n",
       "      <td>2024</td>\n",
       "      <td>Hero</td>\n",
       "      <td>Pleasure</td>\n",
       "      <td>2009</td>\n",
       "    </tr>\n",
       "  </tbody>\n",
       "</table>\n",
       "</div>"
      ],
      "text/plain": [
       "      Location  Price   Mileage  Published_Year Model     Brand  Year\n",
       "0      Padukka   1.70  20240125            2024  Hero  Pleasure  2015\n",
       "1  Anuradapura   3.35         1            2024  Hero  Pleasure  2017\n",
       "2  Anuradapura   2.75         1            2024  Hero  Pleasure  2015\n",
       "3     Dambulla   1.70  20240125            2024  Hero  Pleasure  2008\n",
       "4  Eheliyagoda   1.85  20240125            2024  Hero  Pleasure  2009"
      ]
     },
     "execution_count": 78,
     "metadata": {},
     "output_type": "execute_result"
    }
   ],
   "source": [
    "pleasure['Price'] = pleasure['Price'].str.replace('[^\\d]', '', regex=True)\n",
    "# Convert the column to numeric type\n",
    "pleasure['Price'] = pd.to_numeric(pleasure['Price'])\n",
    "pleasure['Price'] = pleasure['Price']/1e5\n",
    "pleasure.head()"
   ]
  },
  {
   "cell_type": "markdown",
   "metadata": {},
   "source": [
    "### Checking Price data type converted was successfully"
   ]
  },
  {
   "cell_type": "code",
   "execution_count": 79,
   "metadata": {},
   "outputs": [
    {
     "data": {
      "text/plain": [
       "dtype('float64')"
      ]
     },
     "execution_count": 79,
     "metadata": {},
     "output_type": "execute_result"
    }
   ],
   "source": [
    "pleasure[\"Price\"].dtype"
   ]
  },
  {
   "cell_type": "code",
   "execution_count": 80,
   "metadata": {},
   "outputs": [
    {
     "data": {
      "text/plain": [
       "Location           70\n",
       "Price             112\n",
       "Mileage           294\n",
       "Published_Year      2\n",
       "Model               1\n",
       "Brand               2\n",
       "Year               15\n",
       "dtype: int64"
      ]
     },
     "execution_count": 80,
     "metadata": {},
     "output_type": "execute_result"
    }
   ],
   "source": [
    "pleasure.nunique()"
   ]
  },
  {
   "cell_type": "markdown",
   "metadata": {},
   "source": [
    "### Converting Year data types as Integer"
   ]
  },
  {
   "cell_type": "code",
   "execution_count": 81,
   "metadata": {},
   "outputs": [],
   "source": [
    "\n",
    "pleasure[\"Year\"]=pleasure[\"Year\"].astype(int)"
   ]
  },
  {
   "cell_type": "markdown",
   "metadata": {},
   "source": [
    "### Checking Brand Unique values "
   ]
  },
  {
   "cell_type": "code",
   "execution_count": 82,
   "metadata": {},
   "outputs": [
    {
     "data": {
      "text/plain": [
       "array(['Pleasure', 'PLEASURE'], dtype=object)"
      ]
     },
     "execution_count": 82,
     "metadata": {},
     "output_type": "execute_result"
    }
   ],
   "source": [
    "pleasure[\"Brand\"].unique()"
   ]
  },
  {
   "cell_type": "code",
   "execution_count": 83,
   "metadata": {},
   "outputs": [
    {
     "data": {
      "text/plain": [
       "1"
      ]
     },
     "execution_count": 83,
     "metadata": {},
     "output_type": "execute_result"
    }
   ],
   "source": [
    "\n",
    "pleasure[\"Brand\"].replace({'PLEASURE': 'Pleasure'}, inplace=True)\n",
    "pleasure[\"Brand\"].nunique()"
   ]
  },
  {
   "cell_type": "markdown",
   "metadata": {},
   "source": [
    "### Checking Location Unique values "
   ]
  },
  {
   "cell_type": "code",
   "execution_count": 84,
   "metadata": {},
   "outputs": [
    {
     "data": {
      "text/plain": [
       "array(['Padukka', 'Anuradapura', 'Dambulla', 'Eheliyagoda', 'Nittambuwa',\n",
       "       'Gampaha', 'Kurunegala', 'Matugama', 'Colombo', 'Katunayake',\n",
       "       'Kuliyapitiya', 'Puttalam', 'Hambantota', 'Ja-Ela', 'Piliyandala',\n",
       "       'Galle', 'Negombo', 'Kottawa', 'Divulapitiya', 'Malabe',\n",
       "       'Homagama', 'Tangalle', 'Pannipitiya', 'Ambalangoda',\n",
       "       'Minuwangoda', 'Mawanella', 'Matara', 'Kalutara', 'Kandy',\n",
       "       'Wennappuwa', 'Polonnaruwa', 'Horana', 'Ratnapura', 'Kolonnawa',\n",
       "       'Matale', 'Moneragala', 'Maharagama', 'Polgahawela', 'Bandaragama',\n",
       "       'Gampola', 'Ragama', 'Mirigama', 'Nawalapitiya', 'Pannala',\n",
       "       'Kegalle', 'Chilaw', 'Mahiyanganaya', 'Panadura', 'Kadawatha',\n",
       "       'Elpitiya', 'Bandarawela', 'Kaduwela', 'Weligama', 'Welimada',\n",
       "       'Embilipitiya', 'Dompe', 'Moratuwa', 'Hanwella',\n",
       "       'Dehiwala-Mount-Lavinia', 'Boralesgamuwa', 'Dankotuwa', 'Beruwala',\n",
       "       'Avissawella', 'Battaramulla', 'Kiribathgoda', 'Kelaniya',\n",
       "       'Balangoda', 'Veyangoda', 'Nuwara-Eliya', 'Kalmunai'], dtype=object)"
      ]
     },
     "execution_count": 84,
     "metadata": {},
     "output_type": "execute_result"
    }
   ],
   "source": [
    "pleasure[\"Location\"].unique()"
   ]
  },
  {
   "cell_type": "code",
   "execution_count": 85,
   "metadata": {},
   "outputs": [
    {
     "data": {
      "text/html": [
       "<div>\n",
       "<style scoped>\n",
       "    .dataframe tbody tr th:only-of-type {\n",
       "        vertical-align: middle;\n",
       "    }\n",
       "\n",
       "    .dataframe tbody tr th {\n",
       "        vertical-align: top;\n",
       "    }\n",
       "\n",
       "    .dataframe thead th {\n",
       "        text-align: right;\n",
       "    }\n",
       "</style>\n",
       "<table border=\"1\" class=\"dataframe\">\n",
       "  <thead>\n",
       "    <tr style=\"text-align: right;\">\n",
       "      <th></th>\n",
       "      <th>Location</th>\n",
       "      <th>Price</th>\n",
       "      <th>Mileage</th>\n",
       "      <th>Published_Year</th>\n",
       "      <th>Model</th>\n",
       "      <th>Brand</th>\n",
       "      <th>Year</th>\n",
       "    </tr>\n",
       "  </thead>\n",
       "  <tbody>\n",
       "    <tr>\n",
       "      <th>0</th>\n",
       "      <td>Padukka</td>\n",
       "      <td>1.70</td>\n",
       "      <td>20240125</td>\n",
       "      <td>2024</td>\n",
       "      <td>Hero</td>\n",
       "      <td>Pleasure</td>\n",
       "      <td>2015</td>\n",
       "    </tr>\n",
       "    <tr>\n",
       "      <th>1</th>\n",
       "      <td>Anuradapura</td>\n",
       "      <td>3.35</td>\n",
       "      <td>1</td>\n",
       "      <td>2024</td>\n",
       "      <td>Hero</td>\n",
       "      <td>Pleasure</td>\n",
       "      <td>2017</td>\n",
       "    </tr>\n",
       "    <tr>\n",
       "      <th>2</th>\n",
       "      <td>Anuradapura</td>\n",
       "      <td>2.75</td>\n",
       "      <td>1</td>\n",
       "      <td>2024</td>\n",
       "      <td>Hero</td>\n",
       "      <td>Pleasure</td>\n",
       "      <td>2015</td>\n",
       "    </tr>\n",
       "    <tr>\n",
       "      <th>3</th>\n",
       "      <td>Dambulla</td>\n",
       "      <td>1.70</td>\n",
       "      <td>20240125</td>\n",
       "      <td>2024</td>\n",
       "      <td>Hero</td>\n",
       "      <td>Pleasure</td>\n",
       "      <td>2008</td>\n",
       "    </tr>\n",
       "    <tr>\n",
       "      <th>4</th>\n",
       "      <td>Eheliyagoda</td>\n",
       "      <td>1.85</td>\n",
       "      <td>20240125</td>\n",
       "      <td>2024</td>\n",
       "      <td>Hero</td>\n",
       "      <td>Pleasure</td>\n",
       "      <td>2009</td>\n",
       "    </tr>\n",
       "  </tbody>\n",
       "</table>\n",
       "</div>"
      ],
      "text/plain": [
       "      Location  Price   Mileage  Published_Year Model     Brand  Year\n",
       "0      Padukka   1.70  20240125            2024  Hero  Pleasure  2015\n",
       "1  Anuradapura   3.35         1            2024  Hero  Pleasure  2017\n",
       "2  Anuradapura   2.75         1            2024  Hero  Pleasure  2015\n",
       "3     Dambulla   1.70  20240125            2024  Hero  Pleasure  2008\n",
       "4  Eheliyagoda   1.85  20240125            2024  Hero  Pleasure  2009"
      ]
     },
     "execution_count": 85,
     "metadata": {},
     "output_type": "execute_result"
    }
   ],
   "source": [
    "pleasure.head()"
   ]
  },
  {
   "cell_type": "code",
   "execution_count": 86,
   "metadata": {},
   "outputs": [
    {
     "data": {
      "text/plain": [
       "Location           70\n",
       "Price             112\n",
       "Mileage           294\n",
       "Published_Year      2\n",
       "Model               1\n",
       "Brand               1\n",
       "Year               15\n",
       "dtype: int64"
      ]
     },
     "execution_count": 86,
     "metadata": {},
     "output_type": "execute_result"
    }
   ],
   "source": [
    "pleasure.nunique()"
   ]
  },
  {
   "cell_type": "markdown",
   "metadata": {},
   "source": [
    "### Get statistical summrized details of dataframe (dio1)"
   ]
  },
  {
   "cell_type": "code",
   "execution_count": 87,
   "metadata": {},
   "outputs": [
    {
     "data": {
      "text/html": [
       "<div>\n",
       "<style scoped>\n",
       "    .dataframe tbody tr th:only-of-type {\n",
       "        vertical-align: middle;\n",
       "    }\n",
       "\n",
       "    .dataframe tbody tr th {\n",
       "        vertical-align: top;\n",
       "    }\n",
       "\n",
       "    .dataframe thead th {\n",
       "        text-align: right;\n",
       "    }\n",
       "</style>\n",
       "<table border=\"1\" class=\"dataframe\">\n",
       "  <thead>\n",
       "    <tr style=\"text-align: right;\">\n",
       "      <th></th>\n",
       "      <th>Price</th>\n",
       "      <th>Mileage</th>\n",
       "      <th>Published_Year</th>\n",
       "      <th>Year</th>\n",
       "    </tr>\n",
       "  </thead>\n",
       "  <tbody>\n",
       "    <tr>\n",
       "      <th>count</th>\n",
       "      <td>467.000000</td>\n",
       "      <td>5.530000e+02</td>\n",
       "      <td>553.000000</td>\n",
       "      <td>553.000000</td>\n",
       "    </tr>\n",
       "    <tr>\n",
       "      <th>mean</th>\n",
       "      <td>2.561263</td>\n",
       "      <td>3.146291e+06</td>\n",
       "      <td>2023.491863</td>\n",
       "      <td>2013.468354</td>\n",
       "    </tr>\n",
       "    <tr>\n",
       "      <th>std</th>\n",
       "      <td>0.729482</td>\n",
       "      <td>7.289904e+06</td>\n",
       "      <td>0.500386</td>\n",
       "      <td>2.726579</td>\n",
       "    </tr>\n",
       "    <tr>\n",
       "      <th>min</th>\n",
       "      <td>1.220000</td>\n",
       "      <td>1.000000e+00</td>\n",
       "      <td>2023.000000</td>\n",
       "      <td>2006.000000</td>\n",
       "    </tr>\n",
       "    <tr>\n",
       "      <th>25%</th>\n",
       "      <td>2.050000</td>\n",
       "      <td>2.590000e+04</td>\n",
       "      <td>2023.000000</td>\n",
       "      <td>2011.000000</td>\n",
       "    </tr>\n",
       "    <tr>\n",
       "      <th>50%</th>\n",
       "      <td>2.480000</td>\n",
       "      <td>3.800000e+04</td>\n",
       "      <td>2023.000000</td>\n",
       "      <td>2014.000000</td>\n",
       "    </tr>\n",
       "    <tr>\n",
       "      <th>75%</th>\n",
       "      <td>3.000000</td>\n",
       "      <td>5.930000e+04</td>\n",
       "      <td>2024.000000</td>\n",
       "      <td>2015.000000</td>\n",
       "    </tr>\n",
       "    <tr>\n",
       "      <th>max</th>\n",
       "      <td>9.500000</td>\n",
       "      <td>2.024012e+07</td>\n",
       "      <td>2024.000000</td>\n",
       "      <td>2020.000000</td>\n",
       "    </tr>\n",
       "  </tbody>\n",
       "</table>\n",
       "</div>"
      ],
      "text/plain": [
       "            Price       Mileage  Published_Year         Year\n",
       "count  467.000000  5.530000e+02      553.000000   553.000000\n",
       "mean     2.561263  3.146291e+06     2023.491863  2013.468354\n",
       "std      0.729482  7.289904e+06        0.500386     2.726579\n",
       "min      1.220000  1.000000e+00     2023.000000  2006.000000\n",
       "25%      2.050000  2.590000e+04     2023.000000  2011.000000\n",
       "50%      2.480000  3.800000e+04     2023.000000  2014.000000\n",
       "75%      3.000000  5.930000e+04     2024.000000  2015.000000\n",
       "max      9.500000  2.024012e+07     2024.000000  2020.000000"
      ]
     },
     "execution_count": 87,
     "metadata": {},
     "output_type": "execute_result"
    }
   ],
   "source": [
    "pleasure.describe()"
   ]
  },
  {
   "cell_type": "markdown",
   "metadata": {},
   "source": [
    "# Price"
   ]
  },
  {
   "cell_type": "markdown",
   "metadata": {},
   "source": [
    "### Remove more than 7 lacs data ; Bracuse in market it can't be happend"
   ]
  },
  {
   "cell_type": "code",
   "execution_count": 88,
   "metadata": {},
   "outputs": [],
   "source": [
    "pleasure1=pleasure[pleasure[\"Price\"]<7]"
   ]
  },
  {
   "cell_type": "markdown",
   "metadata": {},
   "source": [
    "### Get Distribution plot of Price "
   ]
  },
  {
   "cell_type": "code",
   "execution_count": 89,
   "metadata": {},
   "outputs": [
    {
     "data": {
      "image/png": "[encoded data removed]",
      "text/plain": [
       "<Figure size 640x480 with 1 Axes>"
      ]
     },
     "metadata": {},
     "output_type": "display_data"
    }
   ],
   "source": [
    "sns.distplot(pleasure1[\"Price\"])\n",
    "plt.show()"
   ]
  },
  {
   "cell_type": "markdown",
   "metadata": {},
   "source": [
    "### Get Barplot identify outliers of Price"
   ]
  },
  {
   "cell_type": "code",
   "execution_count": 90,
   "metadata": {},
   "outputs": [
    {
     "data": {
      "image/png": "[encoded data removed]",
      "text/plain": [
       "<Figure size 640x480 with 1 Axes>"
      ]
     },
     "metadata": {},
     "output_type": "display_data"
    }
   ],
   "source": [
    "sns.boxplot(pleasure1[\"Price\"])\n",
    "plt.show()"
   ]
  },
  {
   "cell_type": "code",
   "execution_count": 91,
   "metadata": {},
   "outputs": [
    {
     "name": "stdout",
     "output_type": "stream",
     "text": [
      "Q1 :- 2.05\n",
      "Q3 :- 2.9975\n",
      "IQR :- 0.9475000000000002\n",
      "Lower Bound is:- 0.6287499999999995\n",
      "Upper Bound is:- 4.41875\n"
     ]
    }
   ],
   "source": [
    "Q1 = pleasure1['Price'].quantile(0.25)\n",
    "Q3 = pleasure1['Price'].quantile(0.75)\n",
    "IQR = Q3 - Q1\n",
    "print(\"Q1 :-\",Q1)\n",
    "print(\"Q3 :-\",Q3)\n",
    "print(\"IQR :-\",IQR)\n",
    "\n",
    "# Define the upper and lower bounds to identify outliers\n",
    "lower_bound = Q1 - 1.5 * IQR\n",
    "upper_bound = Q3 + 1.5 * IQR\n",
    "print(\"Lower Bound is:-\",lower_bound)\n",
    "print(\"Upper Bound is:-\",upper_bound)"
   ]
  },
  {
   "cell_type": "markdown",
   "metadata": {},
   "source": [
    "### Getting Average price of every Year"
   ]
  },
  {
   "cell_type": "code",
   "execution_count": 92,
   "metadata": {},
   "outputs": [
    {
     "data": {
      "text/plain": [
       "Year\n",
       "2006    2.000000\n",
       "2007    1.626667\n",
       "2008    1.628182\n",
       "2009    1.730000\n",
       "2010    1.922821\n",
       "2011    2.026901\n",
       "2012    2.201176\n",
       "2013    2.384348\n",
       "2014    2.710441\n",
       "2015    2.962159\n",
       "2016    3.056552\n",
       "2017    3.422857\n",
       "2018    3.601111\n",
       "2019    3.424286\n",
       "2020    1.420000\n",
       "Name: Price, dtype: float64"
      ]
     },
     "execution_count": 92,
     "metadata": {},
     "output_type": "execute_result"
    }
   ],
   "source": [
    "price_year=pleasure1.groupby([\"Year\"])[\"Price\"].mean()\n",
    "price_year"
   ]
  },
  {
   "cell_type": "markdown",
   "metadata": {},
   "source": [
    "### Getting Boxplot Year vs Price :- To identify outliers"
   ]
  },
  {
   "cell_type": "code",
   "execution_count": 93,
   "metadata": {},
   "outputs": [
    {
     "data": {
      "image/png": "[encoded data removed]",
      "text/plain": [
       "<Figure size 2500x600 with 1 Axes>"
      ]
     },
     "metadata": {},
     "output_type": "display_data"
    }
   ],
   "source": [
    "plt.figure(figsize=(25,6))\n",
    "sns.boxplot(x=\"Year\",y=\"Price\",data=pleasure1)\n",
    "plt.show()"
   ]
  },
  {
   "cell_type": "markdown",
   "metadata": {},
   "source": [
    "### Here year 2006 "
   ]
  },
  {
   "cell_type": "code",
   "execution_count": 94,
   "metadata": {},
   "outputs": [],
   "source": [
    "pleasure1=pleasure1[~pleasure1[\"Year\"].isin([2006,2020])]"
   ]
  },
  {
   "cell_type": "markdown",
   "metadata": {},
   "source": [
    "### Removing outliers "
   ]
  },
  {
   "cell_type": "code",
   "execution_count": 95,
   "metadata": {},
   "outputs": [],
   "source": [
    "pleasure2 = pleasure1[\n",
    "    ~((pleasure1[\"Year\"] == 2011) & (pleasure1[\"Price\"] > 3)) &\n",
    "    ~((pleasure1[\"Year\"] == 2013) & (pleasure1[\"Price\"] < 2)) &\n",
    "    ~((pleasure1[\"Year\"] == 2014) & (pleasure1[\"Price\"] > 3.5)) &\n",
    "    ~((pleasure1[\"Year\"] == 2014) & (pleasure1[\"Price\"] < 2.3)) &\n",
    "    ~((pleasure1[\"Year\"] == 2015) & (pleasure1[\"Price\"] < 2)) &\n",
    "    ~((pleasure1[\"Year\"] == 2016) & (pleasure1[\"Price\"] < 2)) &\n",
    "    ~((pleasure1[\"Year\"] == 2017) & (pleasure1[\"Price\"] < 2.8)) &\n",
    "    ~((pleasure1[\"Year\"] == 2018) & (pleasure1[\"Price\"] < 3)) &\n",
    "    ~((pleasure1[\"Year\"] == 2019) & (pleasure1[\"Price\"] < 3))\n",
    "]\n"
   ]
  },
  {
   "cell_type": "code",
   "execution_count": 96,
   "metadata": {},
   "outputs": [
    {
     "data": {
      "text/html": [
       "<div>\n",
       "<style scoped>\n",
       "    .dataframe tbody tr th:only-of-type {\n",
       "        vertical-align: middle;\n",
       "    }\n",
       "\n",
       "    .dataframe tbody tr th {\n",
       "        vertical-align: top;\n",
       "    }\n",
       "\n",
       "    .dataframe thead th {\n",
       "        text-align: right;\n",
       "    }\n",
       "</style>\n",
       "<table border=\"1\" class=\"dataframe\">\n",
       "  <thead>\n",
       "    <tr style=\"text-align: right;\">\n",
       "      <th></th>\n",
       "      <th>Location</th>\n",
       "      <th>Price</th>\n",
       "      <th>Mileage</th>\n",
       "      <th>Published_Year</th>\n",
       "      <th>Model</th>\n",
       "      <th>Brand</th>\n",
       "      <th>Year</th>\n",
       "    </tr>\n",
       "  </thead>\n",
       "  <tbody>\n",
       "    <tr>\n",
       "      <th>1</th>\n",
       "      <td>Anuradapura</td>\n",
       "      <td>3.35</td>\n",
       "      <td>1</td>\n",
       "      <td>2024</td>\n",
       "      <td>Hero</td>\n",
       "      <td>Pleasure</td>\n",
       "      <td>2017</td>\n",
       "    </tr>\n",
       "    <tr>\n",
       "      <th>2</th>\n",
       "      <td>Anuradapura</td>\n",
       "      <td>2.75</td>\n",
       "      <td>1</td>\n",
       "      <td>2024</td>\n",
       "      <td>Hero</td>\n",
       "      <td>Pleasure</td>\n",
       "      <td>2015</td>\n",
       "    </tr>\n",
       "    <tr>\n",
       "      <th>3</th>\n",
       "      <td>Dambulla</td>\n",
       "      <td>1.70</td>\n",
       "      <td>20240125</td>\n",
       "      <td>2024</td>\n",
       "      <td>Hero</td>\n",
       "      <td>Pleasure</td>\n",
       "      <td>2008</td>\n",
       "    </tr>\n",
       "    <tr>\n",
       "      <th>4</th>\n",
       "      <td>Eheliyagoda</td>\n",
       "      <td>1.85</td>\n",
       "      <td>20240125</td>\n",
       "      <td>2024</td>\n",
       "      <td>Hero</td>\n",
       "      <td>Pleasure</td>\n",
       "      <td>2009</td>\n",
       "    </tr>\n",
       "    <tr>\n",
       "      <th>5</th>\n",
       "      <td>Nittambuwa</td>\n",
       "      <td>2.90</td>\n",
       "      <td>37856</td>\n",
       "      <td>2024</td>\n",
       "      <td>Hero</td>\n",
       "      <td>Pleasure</td>\n",
       "      <td>2015</td>\n",
       "    </tr>\n",
       "  </tbody>\n",
       "</table>\n",
       "</div>"
      ],
      "text/plain": [
       "      Location  Price   Mileage  Published_Year Model     Brand  Year\n",
       "1  Anuradapura   3.35         1            2024  Hero  Pleasure  2017\n",
       "2  Anuradapura   2.75         1            2024  Hero  Pleasure  2015\n",
       "3     Dambulla   1.70  20240125            2024  Hero  Pleasure  2008\n",
       "4  Eheliyagoda   1.85  20240125            2024  Hero  Pleasure  2009\n",
       "5   Nittambuwa   2.90     37856            2024  Hero  Pleasure  2015"
      ]
     },
     "execution_count": 96,
     "metadata": {},
     "output_type": "execute_result"
    }
   ],
   "source": [
    "pleasure2.head()"
   ]
  },
  {
   "cell_type": "code",
   "execution_count": 97,
   "metadata": {},
   "outputs": [
    {
     "data": {
      "image/png": "[encoded data removed]",
      "text/plain": [
       "<Figure size 2500x600 with 1 Axes>"
      ]
     },
     "metadata": {},
     "output_type": "display_data"
    }
   ],
   "source": [
    "plt.figure(figsize=(25,6))\n",
    "sns.boxplot(x=\"Year\",y=\"Price\",data=pleasure2)\n",
    "plt.show()"
   ]
  },
  {
   "cell_type": "code",
   "execution_count": 98,
   "metadata": {},
   "outputs": [
    {
     "data": {
      "text/html": [
       "<div>\n",
       "<style scoped>\n",
       "    .dataframe tbody tr th:only-of-type {\n",
       "        vertical-align: middle;\n",
       "    }\n",
       "\n",
       "    .dataframe tbody tr th {\n",
       "        vertical-align: top;\n",
       "    }\n",
       "\n",
       "    .dataframe thead th {\n",
       "        text-align: right;\n",
       "    }\n",
       "</style>\n",
       "<table border=\"1\" class=\"dataframe\">\n",
       "  <thead>\n",
       "    <tr style=\"text-align: right;\">\n",
       "      <th></th>\n",
       "      <th>Location</th>\n",
       "      <th>Price</th>\n",
       "      <th>Mileage</th>\n",
       "      <th>Published_Year</th>\n",
       "      <th>Model</th>\n",
       "      <th>Brand</th>\n",
       "      <th>Year</th>\n",
       "    </tr>\n",
       "  </thead>\n",
       "  <tbody>\n",
       "    <tr>\n",
       "      <th>3</th>\n",
       "      <td>Dambulla</td>\n",
       "      <td>1.70</td>\n",
       "      <td>20240125</td>\n",
       "      <td>2024</td>\n",
       "      <td>Hero</td>\n",
       "      <td>Pleasure</td>\n",
       "      <td>2008</td>\n",
       "    </tr>\n",
       "    <tr>\n",
       "      <th>4</th>\n",
       "      <td>Eheliyagoda</td>\n",
       "      <td>1.85</td>\n",
       "      <td>20240125</td>\n",
       "      <td>2024</td>\n",
       "      <td>Hero</td>\n",
       "      <td>Pleasure</td>\n",
       "      <td>2009</td>\n",
       "    </tr>\n",
       "    <tr>\n",
       "      <th>12</th>\n",
       "      <td>Kuliyapitiya</td>\n",
       "      <td>1.85</td>\n",
       "      <td>64302</td>\n",
       "      <td>2024</td>\n",
       "      <td>Hero</td>\n",
       "      <td>Pleasure</td>\n",
       "      <td>2010</td>\n",
       "    </tr>\n",
       "    <tr>\n",
       "      <th>13</th>\n",
       "      <td>Puttalam</td>\n",
       "      <td>1.90</td>\n",
       "      <td>20240125</td>\n",
       "      <td>2024</td>\n",
       "      <td>Hero</td>\n",
       "      <td>Pleasure</td>\n",
       "      <td>2010</td>\n",
       "    </tr>\n",
       "    <tr>\n",
       "      <th>14</th>\n",
       "      <td>Kurunegala</td>\n",
       "      <td>1.95</td>\n",
       "      <td>20240125</td>\n",
       "      <td>2024</td>\n",
       "      <td>Hero</td>\n",
       "      <td>Pleasure</td>\n",
       "      <td>2011</td>\n",
       "    </tr>\n",
       "    <tr>\n",
       "      <th>...</th>\n",
       "      <td>...</td>\n",
       "      <td>...</td>\n",
       "      <td>...</td>\n",
       "      <td>...</td>\n",
       "      <td>...</td>\n",
       "      <td>...</td>\n",
       "      <td>...</td>\n",
       "    </tr>\n",
       "    <tr>\n",
       "      <th>543</th>\n",
       "      <td>Kurunegala</td>\n",
       "      <td>1.90</td>\n",
       "      <td>65000</td>\n",
       "      <td>2023</td>\n",
       "      <td>Hero</td>\n",
       "      <td>Pleasure</td>\n",
       "      <td>2012</td>\n",
       "    </tr>\n",
       "    <tr>\n",
       "      <th>549</th>\n",
       "      <td>Chilaw</td>\n",
       "      <td>1.78</td>\n",
       "      <td>14362</td>\n",
       "      <td>2023</td>\n",
       "      <td>Hero</td>\n",
       "      <td>Pleasure</td>\n",
       "      <td>2010</td>\n",
       "    </tr>\n",
       "    <tr>\n",
       "      <th>553</th>\n",
       "      <td>Divulapitiya</td>\n",
       "      <td>1.72</td>\n",
       "      <td>1234</td>\n",
       "      <td>2023</td>\n",
       "      <td>Hero</td>\n",
       "      <td>Pleasure</td>\n",
       "      <td>2011</td>\n",
       "    </tr>\n",
       "    <tr>\n",
       "      <th>555</th>\n",
       "      <td>Matara</td>\n",
       "      <td>1.55</td>\n",
       "      <td>64300</td>\n",
       "      <td>2023</td>\n",
       "      <td>Hero</td>\n",
       "      <td>Pleasure</td>\n",
       "      <td>2011</td>\n",
       "    </tr>\n",
       "    <tr>\n",
       "      <th>556</th>\n",
       "      <td>Chilaw</td>\n",
       "      <td>1.90</td>\n",
       "      <td>61340</td>\n",
       "      <td>2023</td>\n",
       "      <td>Hero</td>\n",
       "      <td>Pleasure</td>\n",
       "      <td>2010</td>\n",
       "    </tr>\n",
       "  </tbody>\n",
       "</table>\n",
       "<p>92 rows × 7 columns</p>\n",
       "</div>"
      ],
      "text/plain": [
       "         Location  Price   Mileage  Published_Year Model     Brand  Year\n",
       "3        Dambulla   1.70  20240125            2024  Hero  Pleasure  2008\n",
       "4     Eheliyagoda   1.85  20240125            2024  Hero  Pleasure  2009\n",
       "12   Kuliyapitiya   1.85     64302            2024  Hero  Pleasure  2010\n",
       "13       Puttalam   1.90  20240125            2024  Hero  Pleasure  2010\n",
       "14     Kurunegala   1.95  20240125            2024  Hero  Pleasure  2011\n",
       "..            ...    ...       ...             ...   ...       ...   ...\n",
       "543    Kurunegala   1.90     65000            2023  Hero  Pleasure  2012\n",
       "549        Chilaw   1.78     14362            2023  Hero  Pleasure  2010\n",
       "553  Divulapitiya   1.72      1234            2023  Hero  Pleasure  2011\n",
       "555        Matara   1.55     64300            2023  Hero  Pleasure  2011\n",
       "556        Chilaw   1.90     61340            2023  Hero  Pleasure  2010\n",
       "\n",
       "[92 rows x 7 columns]"
      ]
     },
     "execution_count": 98,
     "metadata": {},
     "output_type": "execute_result"
    }
   ],
   "source": [
    "pleasure2[pleasure2[\"Price\"]<2]"
   ]
  },
  {
   "cell_type": "markdown",
   "metadata": {},
   "source": [
    "# Mileage"
   ]
  },
  {
   "cell_type": "markdown",
   "metadata": {},
   "source": [
    "### Normally Sccoty milage are below 1e5 in selling market"
   ]
  },
  {
   "cell_type": "code",
   "execution_count": 99,
   "metadata": {},
   "outputs": [],
   "source": [
    "pleasure3=pleasure2[pleasure2[\"Mileage\"]<1e5]"
   ]
  },
  {
   "cell_type": "code",
   "execution_count": 100,
   "metadata": {},
   "outputs": [
    {
     "data": {
      "text/html": [
       "<div>\n",
       "<style scoped>\n",
       "    .dataframe tbody tr th:only-of-type {\n",
       "        vertical-align: middle;\n",
       "    }\n",
       "\n",
       "    .dataframe tbody tr th {\n",
       "        vertical-align: top;\n",
       "    }\n",
       "\n",
       "    .dataframe thead th {\n",
       "        text-align: right;\n",
       "    }\n",
       "</style>\n",
       "<table border=\"1\" class=\"dataframe\">\n",
       "  <thead>\n",
       "    <tr style=\"text-align: right;\">\n",
       "      <th></th>\n",
       "      <th>Price</th>\n",
       "      <th>Mileage</th>\n",
       "      <th>Published_Year</th>\n",
       "      <th>Year</th>\n",
       "    </tr>\n",
       "  </thead>\n",
       "  <tbody>\n",
       "    <tr>\n",
       "      <th>count</th>\n",
       "      <td>364.000000</td>\n",
       "      <td>364.000000</td>\n",
       "      <td>364.000000</td>\n",
       "      <td>364.000000</td>\n",
       "    </tr>\n",
       "    <tr>\n",
       "      <th>mean</th>\n",
       "      <td>2.616071</td>\n",
       "      <td>35724.983516</td>\n",
       "      <td>2023.483516</td>\n",
       "      <td>2013.450549</td>\n",
       "    </tr>\n",
       "    <tr>\n",
       "      <th>std</th>\n",
       "      <td>0.648374</td>\n",
       "      <td>17054.760665</td>\n",
       "      <td>0.500416</td>\n",
       "      <td>2.605414</td>\n",
       "    </tr>\n",
       "    <tr>\n",
       "      <th>min</th>\n",
       "      <td>1.250000</td>\n",
       "      <td>1.000000</td>\n",
       "      <td>2023.000000</td>\n",
       "      <td>2007.000000</td>\n",
       "    </tr>\n",
       "    <tr>\n",
       "      <th>25%</th>\n",
       "      <td>2.100000</td>\n",
       "      <td>25000.000000</td>\n",
       "      <td>2023.000000</td>\n",
       "      <td>2011.000000</td>\n",
       "    </tr>\n",
       "    <tr>\n",
       "      <th>50%</th>\n",
       "      <td>2.600000</td>\n",
       "      <td>35000.000000</td>\n",
       "      <td>2023.000000</td>\n",
       "      <td>2014.000000</td>\n",
       "    </tr>\n",
       "    <tr>\n",
       "      <th>75%</th>\n",
       "      <td>3.100000</td>\n",
       "      <td>47012.500000</td>\n",
       "      <td>2024.000000</td>\n",
       "      <td>2015.000000</td>\n",
       "    </tr>\n",
       "    <tr>\n",
       "      <th>max</th>\n",
       "      <td>4.550000</td>\n",
       "      <td>88000.000000</td>\n",
       "      <td>2024.000000</td>\n",
       "      <td>2019.000000</td>\n",
       "    </tr>\n",
       "  </tbody>\n",
       "</table>\n",
       "</div>"
      ],
      "text/plain": [
       "            Price       Mileage  Published_Year         Year\n",
       "count  364.000000    364.000000      364.000000   364.000000\n",
       "mean     2.616071  35724.983516     2023.483516  2013.450549\n",
       "std      0.648374  17054.760665        0.500416     2.605414\n",
       "min      1.250000      1.000000     2023.000000  2007.000000\n",
       "25%      2.100000  25000.000000     2023.000000  2011.000000\n",
       "50%      2.600000  35000.000000     2023.000000  2014.000000\n",
       "75%      3.100000  47012.500000     2024.000000  2015.000000\n",
       "max      4.550000  88000.000000     2024.000000  2019.000000"
      ]
     },
     "execution_count": 100,
     "metadata": {},
     "output_type": "execute_result"
    }
   ],
   "source": [
    "pleasure3.describe()"
   ]
  },
  {
   "cell_type": "code",
   "execution_count": 101,
   "metadata": {},
   "outputs": [
    {
     "data": {
      "text/plain": [
       "<AxesSubplot:xlabel='Mileage'>"
      ]
     },
     "execution_count": 101,
     "metadata": {},
     "output_type": "execute_result"
    },
    {
     "data": {
      "image/png": "[encoded data removed]",
      "text/plain": [
       "<Figure size 640x480 with 1 Axes>"
      ]
     },
     "metadata": {},
     "output_type": "display_data"
    }
   ],
   "source": [
    "sns.boxplot(pleasure3[\"Mileage\"])"
   ]
  },
  {
   "cell_type": "code",
   "execution_count": 102,
   "metadata": {},
   "outputs": [
    {
     "data": {
      "text/plain": [
       "<AxesSubplot:xlabel='Mileage', ylabel='Density'>"
      ]
     },
     "execution_count": 102,
     "metadata": {},
     "output_type": "execute_result"
    },
    {
     "data": {
      "image/png": "[encoded data removed]",
      "text/plain": [
       "<Figure size 640x480 with 1 Axes>"
      ]
     },
     "metadata": {},
     "output_type": "display_data"
    }
   ],
   "source": [
    "sns.distplot(pleasure3[\"Mileage\"])"
   ]
  },
  {
   "cell_type": "code",
   "execution_count": null,
   "metadata": {},
   "outputs": [],
   "source": []
  },
  {
   "cell_type": "code",
   "execution_count": 103,
   "metadata": {},
   "outputs": [],
   "source": [
    "corr=pleasure3.corr()"
   ]
  },
  {
   "cell_type": "code",
   "execution_count": 104,
   "metadata": {},
   "outputs": [
    {
     "data": {
      "text/plain": [
       "<AxesSubplot:>"
      ]
     },
     "execution_count": 104,
     "metadata": {},
     "output_type": "execute_result"
    },
    {
     "data": {
      "image/png": "[encoded data removed]",
      "text/plain": [
       "<Figure size 640x480 with 2 Axes>"
      ]
     },
     "metadata": {},
     "output_type": "display_data"
    }
   ],
   "source": [
    "sns.heatmap(pleasure3.corr(),annot=True)"
   ]
  },
  {
   "cell_type": "code",
   "execution_count": null,
   "metadata": {},
   "outputs": [],
   "source": []
  },
  {
   "cell_type": "code",
   "execution_count": 105,
   "metadata": {},
   "outputs": [
    {
     "data": {
      "text/html": [
       "<div>\n",
       "<style scoped>\n",
       "    .dataframe tbody tr th:only-of-type {\n",
       "        vertical-align: middle;\n",
       "    }\n",
       "\n",
       "    .dataframe tbody tr th {\n",
       "        vertical-align: top;\n",
       "    }\n",
       "\n",
       "    .dataframe thead th {\n",
       "        text-align: right;\n",
       "    }\n",
       "</style>\n",
       "<table border=\"1\" class=\"dataframe\">\n",
       "  <thead>\n",
       "    <tr style=\"text-align: right;\">\n",
       "      <th></th>\n",
       "      <th>Location</th>\n",
       "      <th>Model</th>\n",
       "      <th>Brand</th>\n",
       "    </tr>\n",
       "  </thead>\n",
       "  <tbody>\n",
       "    <tr>\n",
       "      <th>count</th>\n",
       "      <td>364</td>\n",
       "      <td>364</td>\n",
       "      <td>364</td>\n",
       "    </tr>\n",
       "    <tr>\n",
       "      <th>unique</th>\n",
       "      <td>62</td>\n",
       "      <td>1</td>\n",
       "      <td>1</td>\n",
       "    </tr>\n",
       "    <tr>\n",
       "      <th>top</th>\n",
       "      <td>Kurunegala</td>\n",
       "      <td>Hero</td>\n",
       "      <td>Pleasure</td>\n",
       "    </tr>\n",
       "    <tr>\n",
       "      <th>freq</th>\n",
       "      <td>32</td>\n",
       "      <td>364</td>\n",
       "      <td>364</td>\n",
       "    </tr>\n",
       "  </tbody>\n",
       "</table>\n",
       "</div>"
      ],
      "text/plain": [
       "          Location Model     Brand\n",
       "count          364   364       364\n",
       "unique          62     1         1\n",
       "top     Kurunegala  Hero  Pleasure\n",
       "freq            32   364       364"
      ]
     },
     "execution_count": 105,
     "metadata": {},
     "output_type": "execute_result"
    }
   ],
   "source": [
    "pleasure3.describe(include=\"object\")"
   ]
  },
  {
   "cell_type": "code",
   "execution_count": null,
   "metadata": {},
   "outputs": [],
   "source": []
  },
  {
   "cell_type": "code",
   "execution_count": 106,
   "metadata": {},
   "outputs": [],
   "source": [
    "y = pleasure3['Price']\n",
    "X = pleasure3[[\"Mileage\",\"Published_Year\",\"Year\"]]"
   ]
  },
  {
   "cell_type": "code",
   "execution_count": 107,
   "metadata": {},
   "outputs": [
    {
     "name": "stdout",
     "output_type": "stream",
     "text": [
      "x train:  (291, 3)\n",
      "x test:  (73, 3)\n",
      "y train:  (291,)\n",
      "y test:  (73,)\n"
     ]
    }
   ],
   "source": [
    "from sklearn.model_selection import train_test_split\n",
    "X_train, X_test, y_train, y_test = train_test_split(X, y, test_size=0.2, random_state=91)\n",
    "print(\"x train: \",X_train.shape)\n",
    "print(\"x test: \",X_test.shape)\n",
    "print(\"y train: \",y_train.shape)\n",
    "print(\"y test: \",y_test.shape)"
   ]
  },
  {
   "cell_type": "code",
   "execution_count": 108,
   "metadata": {},
   "outputs": [
    {
     "name": "stdout",
     "output_type": "stream",
     "text": [
      "R-squared: 0.8909194479815055\n"
     ]
    }
   ],
   "source": [
    "from sklearn.model_selection import train_test_split\n",
    "from sklearn.linear_model import LinearRegression\n",
    "\n",
    "\n",
    "\n",
    "X_train, X_test, y_train, y_test = train_test_split(X, y, test_size=0.2, random_state=149)\n",
    "    \n",
    "# Initialize and train your linear regression model\n",
    "\n",
    "model = LinearRegression()\n",
    "model.fit(X_train, y_train)\n",
    "    \n",
    "    # Make predictions\n",
    "y_pred = model.predict(X_test)\n",
    "    \n",
    "    # Calculate R-squared\n",
    "r2 = r2_score(y_test, y_pred)\n",
    "    \n",
    "\n",
    "\n",
    "print(\"R-squared:\", r2)"
   ]
  },
  {
   "cell_type": "code",
   "execution_count": 109,
   "metadata": {},
   "outputs": [
    {
     "name": "stdout",
     "output_type": "stream",
     "text": [
      "Best Random State: 55\n",
      "Best R-squared: 0.9112531552539453\n"
     ]
    }
   ],
   "source": [
    "from sklearn.model_selection import train_test_split\n",
    "from sklearn.linear_model import LinearRegression\n",
    "from sklearn.metrics import r2_score\n",
    "import numpy as np\n",
    "\n",
    "# Assuming X and y are your features and target variable\n",
    "\n",
    "best_r2 = -1  # Initialize the best R-squared score to a value lower than any possible R-squared score\n",
    "best_random_state = None\n",
    "\n",
    "for random_state in range(100):  # You can adjust the range based on your preferences\n",
    "    X_train, X_test, y_train, y_test = train_test_split(X, y, test_size=0.2, random_state=random_state)\n",
    "    \n",
    "    model = LinearRegression()\n",
    "    model.fit(X_train, y_train)\n",
    "    \n",
    "    y_pred = model.predict(X_test)\n",
    "    \n",
    "    r2 = r2_score(y_test, y_pred)\n",
    "    \n",
    "    if r2 > best_r2:\n",
    "        best_r2 = r2\n",
    "        best_random_state = random_state\n",
    "\n",
    "# Train the model with the best random state\n",
    "X_train, X_test, y_train, y_test = train_test_split(X, y, test_size=0.2, random_state=best_random_state)\n",
    "model = LinearRegression()\n",
    "model.fit(X_train, y_train)\n",
    "\n",
    "# Make predictions\n",
    "y_pred = model.predict(X_test)\n",
    "\n",
    "# Calculate R-squared\n",
    "r2 = r2_score(y_test, y_pred)\n",
    "\n",
    "print(\"Best Random State:\", best_random_state)\n",
    "print(\"Best R-squared:\", r2)\n"
   ]
  },
  {
   "cell_type": "code",
   "execution_count": 110,
   "metadata": {},
   "outputs": [],
   "source": [
    "pickle.dump(model,open(\"model.pkl\",\"wb\"))"
   ]
  },
  {
   "cell_type": "code",
   "execution_count": 111,
   "metadata": {},
   "outputs": [],
   "source": [
    "model=pickle.load(open(\"model.pkl\",\"rb\"))"
   ]
  },
  {
   "cell_type": "code",
   "execution_count": 112,
   "metadata": {},
   "outputs": [],
   "source": [
    "from sklearn.metrics import r2_score\n",
    "from sklearn.model_selection import cross_val_score"
   ]
  },
  {
   "cell_type": "code",
   "execution_count": 113,
   "metadata": {},
   "outputs": [],
   "source": [
    "CV = []\n",
    "R2_train = []\n",
    "R2_test = []\n",
    "\n",
    "def car_pred_model(model,model_name):\n",
    "    # Training model\n",
    "    model.fit(X_train,y_train)\n",
    "            \n",
    "    # R2 score of train set\n",
    "    y_pred_train = model.predict(X_train)\n",
    "    R2_train_model = r2_score(y_train,y_pred_train)\n",
    "    R2_train.append(round(R2_train_model,2))\n",
    "    \n",
    "    # R2 score of test set\n",
    "    y_pred_test = model.predict(X_test)\n",
    "    R2_test_model = r2_score(y_test,y_pred_test)\n",
    "    R2_test.append(round(R2_test_model,2))\n",
    "    \n",
    "    # R2 mean of train set using Cross validation\n",
    "    cross_val = cross_val_score(model ,X_train ,y_train ,cv=5)\n",
    "    cv_mean = cross_val.mean()\n",
    "    CV.append(round(cv_mean,2))\n",
    "    \n",
    "    # Printing results\n",
    "    print(\"Train R2-score :\",round(R2_train_model,2))\n",
    "    print(\"Test R2-score :\",round(R2_test_model,2))\n",
    "    print(\"Train CV scores :\",cross_val)\n",
    "    print(\"Train CV mean :\",round(cv_mean,2))\n",
    "    \n",
    "    # Plotting Graphs \n",
    "    # Residual Plot of train data\n",
    "    fig, ax = plt.subplots(1,2,figsize = (10,4))\n",
    "    ax[0].set_title('Residual Plot of Train samples')\n",
    "    sns.distplot((y_train-y_pred_train),hist = False,ax = ax[0])\n",
    "    ax[0].set_xlabel('y_train - y_pred_train')\n",
    "    \n",
    "    # Y_test vs Y_train scatter plot\n",
    "    ax[1].set_title('y_test vs y_pred_test')\n",
    "    ax[1].scatter(x = y_test, y = y_pred_test)\n",
    "    ax[1].set_xlabel('y_test')\n",
    "    ax[1].set_ylabel('y_pred_test')\n",
    "    \n",
    "    plt.show()"
   ]
  },
  {
   "cell_type": "code",
   "execution_count": 114,
   "metadata": {},
   "outputs": [
    {
     "name": "stdout",
     "output_type": "stream",
     "text": [
      "Train R2-score : 0.86\n",
      "Test R2-score : 0.91\n",
      "Train CV scores : [0.83370572 0.89708625 0.89941795 0.87292073 0.7995809 ]\n",
      "Train CV mean : 0.86\n"
     ]
    },
    {
     "data": {
      "image/png": "[encoded data removed]",
      "text/plain": [
       "<Figure size 1000x400 with 2 Axes>"
      ]
     },
     "metadata": {},
     "output_type": "display_data"
    }
   ],
   "source": [
    "from sklearn.linear_model import LinearRegression\n",
    "\n",
    "lr = LinearRegression()\n",
    "car_pred_model(lr,\"Linear_regressor.pkl\")"
   ]
  },
  {
   "cell_type": "code",
   "execution_count": 115,
   "metadata": {},
   "outputs": [
    {
     "name": "stdout",
     "output_type": "stream",
     "text": [
      "Train R2-score : 0.86\n",
      "Test R2-score : 0.91\n",
      "Train CV scores : [0.83370603 0.89708995 0.89941551 0.8729206  0.79958097]\n",
      "Train CV mean : 0.86\n"
     ]
    },
    {
     "data": {
      "image/png": "[encoded data removed]",
      "text/plain": [
       "<Figure size 1000x400 with 2 Axes>"
      ]
     },
     "metadata": {},
     "output_type": "display_data"
    }
   ],
   "source": [
    "from sklearn.linear_model import Ridge\n",
    "from sklearn.model_selection import RandomizedSearchCV\n",
    "\n",
    "# Creating Ridge model object\n",
    "rg = Ridge()\n",
    "# range of alpha \n",
    "alpha = np.logspace(-3,3,num=14)\n",
    "\n",
    "# Creating RandomizedSearchCV to find the best estimator of hyperparameter\n",
    "rg_rs = RandomizedSearchCV(estimator = rg, param_distributions = dict(alpha=alpha))\n",
    "\n",
    "car_pred_model(rg_rs,\"ridge.pkl\")"
   ]
  },
  {
   "cell_type": "code",
   "execution_count": 116,
   "metadata": {},
   "outputs": [
    {
     "name": "stdout",
     "output_type": "stream",
     "text": [
      "Train R2-score : 0.86\n",
      "Test R2-score : 0.91\n",
      "Train CV scores : [0.83403064 0.89719372 0.89826011 0.87275671 0.7996553 ]\n",
      "Train CV mean : 0.86\n"
     ]
    },
    {
     "data": {
      "image/png": "[encoded data removed]",
      "text/plain": [
       "<Figure size 1000x400 with 2 Axes>"
      ]
     },
     "metadata": {},
     "output_type": "display_data"
    }
   ],
   "source": [
    "from sklearn.linear_model import Lasso\n",
    "from sklearn.model_selection import RandomizedSearchCV\n",
    "\n",
    "ls = Lasso()\n",
    "alpha = np.logspace(-3,3,num=14) # range for alpha\n",
    "\n",
    "ls_rs = RandomizedSearchCV(estimator = ls, param_distributions = dict(alpha=alpha))\n",
    "car_pred_model(ls_rs,\"lasso.pkl\")"
   ]
  },
  {
   "cell_type": "code",
   "execution_count": 117,
   "metadata": {},
   "outputs": [],
   "source": [
    "pleasure3.to_csv(\"Clean1.csv\", index=False)"
   ]
  },
  {
   "cell_type": "code",
   "execution_count": null,
   "metadata": {},
   "outputs": [],
   "source": []
  }
 ],
 "metadata": {
  "kernelspec": {
   "display_name": "base",
   "language": "python",
   "name": "python3"
  },
  "language_info": {
   "codemirror_mode": {
    "name": "ipython",
    "version": 3
   },
   "file_extension": ".py",
   "mimetype": "text/x-python",
   "name": "python",
   "nbconvert_exporter": "python",
   "pygments_lexer": "ipython3",
   "version": "3.9.13"
  }
 },
 "nbformat": 4,
 "nbformat_minor": 2
}
